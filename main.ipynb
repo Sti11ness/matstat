{
 "cells": [
  {
   "cell_type": "markdown",
   "id": "6fe75a4b",
   "metadata": {},
   "source": [
    "## Анализ данных сервиса самокатов и проверка гипотез дял бизнеса."
   ]
  },
  {
   "cell_type": "markdown",
   "id": "25fa1608-4499-42bd-a014-b30920fef1e4",
   "metadata": {},
   "source": [
    "# Опишем цель работы:\n",
    "Помочь бизнесу понять тратят ли пользователи с подпиской больше времени на поездки. \n",
    "\n",
    "Проверить, проезжают ли пользователи рекомендуемое среднее расстояние для износа самоката(техническое число).\n",
    "\n",
    "Будет ли помесячная выручка от пользователей с подпиской по месяцам выше, чем выручка от пользователей без подписки\n",
    "\n",
    "Вкратце: изучить данные, сделать анализ и предоставить руководству сводку с првоеренными гипотезами для того, чтобы повысить прибыль(разумеется)"
   ]
  },
  {
   "cell_type": "markdown",
   "id": "6d0201fe-4c05-440c-8e9b-16e47a74989b",
   "metadata": {},
   "source": [
    "## Для начала \n",
    "подгрузим все либы, передадим в переменные все csv файлы с юзерами, поездками и с описанием двух типов подписки(бесплатная и сама подписка)"
   ]
  },
  {
   "cell_type": "markdown",
   "id": "c3883fbd-ca1d-4964-a01b-b83720005387",
   "metadata": {},
   "source": [
    "# Загрузка данных"
   ]
  },
  {
   "cell_type": "code",
   "execution_count": 1,
   "id": "f0ca725a-c9d0-4c1f-88d7-eec0d235dbfa",
   "metadata": {},
   "outputs": [],
   "source": [
    "import numpy as np\n",
    "import matplotlib.pyplot as plt\n",
    "from scipy import stats as st\n",
    "import pandas as pd "
   ]
  },
  {
   "cell_type": "code",
   "execution_count": 2,
   "id": "4f292421-e095-492f-a252-209788a157b0",
   "metadata": {},
   "outputs": [],
   "source": [
    "data_users = pd.read_csv('/datasets/users_go.csv')"
   ]
  },
  {
   "cell_type": "code",
   "execution_count": 3,
   "id": "0e66146f-bd7e-4964-a558-3281e4484985",
   "metadata": {},
   "outputs": [],
   "source": [
    "data_rides = pd.read_csv('/datasets/rides_go.csv', parse_dates=['date'])"
   ]
  },
  {
   "cell_type": "code",
   "execution_count": 4,
   "id": "5729060f-42cd-4078-8944-a09486fc2323",
   "metadata": {},
   "outputs": [],
   "source": [
    "data_subs = pd.read_csv('/datasets/subscriptions_go.csv')"
   ]
  },
  {
   "cell_type": "markdown",
   "id": "3d9215aa-39ee-47fc-a588-3d7133be082a",
   "metadata": {},
   "source": [
    "Глянем через первые 10 строк, info и describe инфу по всем этим таблицам"
   ]
  },
  {
   "cell_type": "code",
   "execution_count": 5,
   "id": "5754c6b0-2684-4c9a-ab7d-2e1657334f87",
   "metadata": {},
   "outputs": [
    {
     "name": "stdout",
     "output_type": "stream",
     "text": [
      "<class 'pandas.core.frame.DataFrame'>\n",
      "RangeIndex: 1565 entries, 0 to 1564\n",
      "Data columns (total 5 columns):\n",
      " #   Column             Non-Null Count  Dtype \n",
      "---  ------             --------------  ----- \n",
      " 0   user_id            1565 non-null   int64 \n",
      " 1   name               1565 non-null   object\n",
      " 2   age                1565 non-null   int64 \n",
      " 3   city               1565 non-null   object\n",
      " 4   subscription_type  1565 non-null   object\n",
      "dtypes: int64(2), object(3)\n",
      "memory usage: 61.3+ KB\n"
     ]
    },
    {
     "data": {
      "text/html": [
       "<div>\n",
       "<style scoped>\n",
       "    .dataframe tbody tr th:only-of-type {\n",
       "        vertical-align: middle;\n",
       "    }\n",
       "\n",
       "    .dataframe tbody tr th {\n",
       "        vertical-align: top;\n",
       "    }\n",
       "\n",
       "    .dataframe thead th {\n",
       "        text-align: right;\n",
       "    }\n",
       "</style>\n",
       "<table border=\"1\" class=\"dataframe\">\n",
       "  <thead>\n",
       "    <tr style=\"text-align: right;\">\n",
       "      <th></th>\n",
       "      <th>user_id</th>\n",
       "      <th>age</th>\n",
       "    </tr>\n",
       "  </thead>\n",
       "  <tbody>\n",
       "    <tr>\n",
       "      <th>count</th>\n",
       "      <td>1565.000000</td>\n",
       "      <td>1565.000000</td>\n",
       "    </tr>\n",
       "    <tr>\n",
       "      <th>mean</th>\n",
       "      <td>762.633866</td>\n",
       "      <td>24.922045</td>\n",
       "    </tr>\n",
       "    <tr>\n",
       "      <th>std</th>\n",
       "      <td>443.260155</td>\n",
       "      <td>4.553496</td>\n",
       "    </tr>\n",
       "    <tr>\n",
       "      <th>min</th>\n",
       "      <td>1.000000</td>\n",
       "      <td>12.000000</td>\n",
       "    </tr>\n",
       "    <tr>\n",
       "      <th>25%</th>\n",
       "      <td>378.000000</td>\n",
       "      <td>22.000000</td>\n",
       "    </tr>\n",
       "    <tr>\n",
       "      <th>50%</th>\n",
       "      <td>762.000000</td>\n",
       "      <td>25.000000</td>\n",
       "    </tr>\n",
       "    <tr>\n",
       "      <th>75%</th>\n",
       "      <td>1146.000000</td>\n",
       "      <td>28.000000</td>\n",
       "    </tr>\n",
       "    <tr>\n",
       "      <th>max</th>\n",
       "      <td>1534.000000</td>\n",
       "      <td>43.000000</td>\n",
       "    </tr>\n",
       "  </tbody>\n",
       "</table>\n",
       "</div>"
      ],
      "text/plain": [
       "           user_id          age\n",
       "count  1565.000000  1565.000000\n",
       "mean    762.633866    24.922045\n",
       "std     443.260155     4.553496\n",
       "min       1.000000    12.000000\n",
       "25%     378.000000    22.000000\n",
       "50%     762.000000    25.000000\n",
       "75%    1146.000000    28.000000\n",
       "max    1534.000000    43.000000"
      ]
     },
     "execution_count": 5,
     "metadata": {},
     "output_type": "execute_result"
    }
   ],
   "source": [
    "data_users.info()\n",
    "data_users.head(10)\n",
    "data_users.describe()"
   ]
  },
  {
   "cell_type": "markdown",
   "id": "a1a280c2-f802-4e88-95c0-14c0b1a0d844",
   "metadata": {},
   "source": [
    "### с виду все норм"
   ]
  },
  {
   "cell_type": "markdown",
   "id": "bb87cd07-4a9d-4bf1-838a-e7f70a037b50",
   "metadata": {},
   "source": [
    "### В принципе все переменные соответствуют типам, int64 для age много, но оставлю)"
   ]
  },
  {
   "cell_type": "code",
   "execution_count": 6,
   "id": "a634ff43-817d-4db3-bd93-941a5ea0dedd",
   "metadata": {},
   "outputs": [
    {
     "name": "stdout",
     "output_type": "stream",
     "text": [
      "<class 'pandas.core.frame.DataFrame'>\n",
      "RangeIndex: 18068 entries, 0 to 18067\n",
      "Data columns (total 4 columns):\n",
      " #   Column    Non-Null Count  Dtype         \n",
      "---  ------    --------------  -----         \n",
      " 0   user_id   18068 non-null  int64         \n",
      " 1   distance  18068 non-null  float64       \n",
      " 2   duration  18068 non-null  float64       \n",
      " 3   date      18068 non-null  datetime64[ns]\n",
      "dtypes: datetime64[ns](1), float64(2), int64(1)\n",
      "memory usage: 564.8 KB\n"
     ]
    },
    {
     "data": {
      "text/html": [
       "<div>\n",
       "<style scoped>\n",
       "    .dataframe tbody tr th:only-of-type {\n",
       "        vertical-align: middle;\n",
       "    }\n",
       "\n",
       "    .dataframe tbody tr th {\n",
       "        vertical-align: top;\n",
       "    }\n",
       "\n",
       "    .dataframe thead th {\n",
       "        text-align: right;\n",
       "    }\n",
       "</style>\n",
       "<table border=\"1\" class=\"dataframe\">\n",
       "  <thead>\n",
       "    <tr style=\"text-align: right;\">\n",
       "      <th></th>\n",
       "      <th>user_id</th>\n",
       "      <th>distance</th>\n",
       "      <th>duration</th>\n",
       "    </tr>\n",
       "  </thead>\n",
       "  <tbody>\n",
       "    <tr>\n",
       "      <th>count</th>\n",
       "      <td>18068.000000</td>\n",
       "      <td>18068.000000</td>\n",
       "      <td>18068.000000</td>\n",
       "    </tr>\n",
       "    <tr>\n",
       "      <th>mean</th>\n",
       "      <td>842.869936</td>\n",
       "      <td>3070.659976</td>\n",
       "      <td>17.805011</td>\n",
       "    </tr>\n",
       "    <tr>\n",
       "      <th>std</th>\n",
       "      <td>434.734317</td>\n",
       "      <td>1116.831209</td>\n",
       "      <td>6.091051</td>\n",
       "    </tr>\n",
       "    <tr>\n",
       "      <th>min</th>\n",
       "      <td>1.000000</td>\n",
       "      <td>0.855683</td>\n",
       "      <td>0.500000</td>\n",
       "    </tr>\n",
       "    <tr>\n",
       "      <th>25%</th>\n",
       "      <td>487.000000</td>\n",
       "      <td>2543.226360</td>\n",
       "      <td>13.597563</td>\n",
       "    </tr>\n",
       "    <tr>\n",
       "      <th>50%</th>\n",
       "      <td>889.000000</td>\n",
       "      <td>3133.609994</td>\n",
       "      <td>17.678395</td>\n",
       "    </tr>\n",
       "    <tr>\n",
       "      <th>75%</th>\n",
       "      <td>1213.250000</td>\n",
       "      <td>3776.222735</td>\n",
       "      <td>21.724800</td>\n",
       "    </tr>\n",
       "    <tr>\n",
       "      <th>max</th>\n",
       "      <td>1534.000000</td>\n",
       "      <td>7211.007745</td>\n",
       "      <td>40.823963</td>\n",
       "    </tr>\n",
       "  </tbody>\n",
       "</table>\n",
       "</div>"
      ],
      "text/plain": [
       "            user_id      distance      duration\n",
       "count  18068.000000  18068.000000  18068.000000\n",
       "mean     842.869936   3070.659976     17.805011\n",
       "std      434.734317   1116.831209      6.091051\n",
       "min        1.000000      0.855683      0.500000\n",
       "25%      487.000000   2543.226360     13.597563\n",
       "50%      889.000000   3133.609994     17.678395\n",
       "75%     1213.250000   3776.222735     21.724800\n",
       "max     1534.000000   7211.007745     40.823963"
      ]
     },
     "execution_count": 6,
     "metadata": {},
     "output_type": "execute_result"
    }
   ],
   "source": [
    "data_rides.info()\n",
    "data_rides.head(10)\n",
    "data_rides.describe()"
   ]
  },
  {
   "cell_type": "markdown",
   "id": "f7c20f79-62c4-4a02-8f0f-cdbfca2c16ec",
   "metadata": {},
   "source": [
    "### Все типы в принципе норм, крое даты, ее приведу к date. Расстояние и duration приводить к инту пока не буду, мб будет влиять на точность"
   ]
  },
  {
   "cell_type": "code",
   "execution_count": 7,
   "id": "60452425-bef0-4875-8633-044d9e280582",
   "metadata": {},
   "outputs": [
    {
     "data": {
      "text/html": [
       "<div>\n",
       "<style scoped>\n",
       "    .dataframe tbody tr th:only-of-type {\n",
       "        vertical-align: middle;\n",
       "    }\n",
       "\n",
       "    .dataframe tbody tr th {\n",
       "        vertical-align: top;\n",
       "    }\n",
       "\n",
       "    .dataframe thead th {\n",
       "        text-align: right;\n",
       "    }\n",
       "</style>\n",
       "<table border=\"1\" class=\"dataframe\">\n",
       "  <thead>\n",
       "    <tr style=\"text-align: right;\">\n",
       "      <th></th>\n",
       "      <th>user_id</th>\n",
       "      <th>distance</th>\n",
       "      <th>duration</th>\n",
       "    </tr>\n",
       "  </thead>\n",
       "  <tbody>\n",
       "    <tr>\n",
       "      <th>count</th>\n",
       "      <td>18068.000000</td>\n",
       "      <td>18068.000000</td>\n",
       "      <td>18068.000000</td>\n",
       "    </tr>\n",
       "    <tr>\n",
       "      <th>mean</th>\n",
       "      <td>842.869936</td>\n",
       "      <td>3070.659976</td>\n",
       "      <td>17.805011</td>\n",
       "    </tr>\n",
       "    <tr>\n",
       "      <th>std</th>\n",
       "      <td>434.734317</td>\n",
       "      <td>1116.831209</td>\n",
       "      <td>6.091051</td>\n",
       "    </tr>\n",
       "    <tr>\n",
       "      <th>min</th>\n",
       "      <td>1.000000</td>\n",
       "      <td>0.855683</td>\n",
       "      <td>0.500000</td>\n",
       "    </tr>\n",
       "    <tr>\n",
       "      <th>25%</th>\n",
       "      <td>487.000000</td>\n",
       "      <td>2543.226360</td>\n",
       "      <td>13.597563</td>\n",
       "    </tr>\n",
       "    <tr>\n",
       "      <th>50%</th>\n",
       "      <td>889.000000</td>\n",
       "      <td>3133.609994</td>\n",
       "      <td>17.678395</td>\n",
       "    </tr>\n",
       "    <tr>\n",
       "      <th>75%</th>\n",
       "      <td>1213.250000</td>\n",
       "      <td>3776.222735</td>\n",
       "      <td>21.724800</td>\n",
       "    </tr>\n",
       "    <tr>\n",
       "      <th>max</th>\n",
       "      <td>1534.000000</td>\n",
       "      <td>7211.007745</td>\n",
       "      <td>40.823963</td>\n",
       "    </tr>\n",
       "  </tbody>\n",
       "</table>\n",
       "</div>"
      ],
      "text/plain": [
       "            user_id      distance      duration\n",
       "count  18068.000000  18068.000000  18068.000000\n",
       "mean     842.869936   3070.659976     17.805011\n",
       "std      434.734317   1116.831209      6.091051\n",
       "min        1.000000      0.855683      0.500000\n",
       "25%      487.000000   2543.226360     13.597563\n",
       "50%      889.000000   3133.609994     17.678395\n",
       "75%     1213.250000   3776.222735     21.724800\n",
       "max     1534.000000   7211.007745     40.823963"
      ]
     },
     "execution_count": 7,
     "metadata": {},
     "output_type": "execute_result"
    }
   ],
   "source": [
    "data_rides.describe()"
   ]
  },
  {
   "cell_type": "markdown",
   "id": "04fc2a41-499a-418d-af9a-45bfa9f6b54b",
   "metadata": {},
   "source": [
    "### с виду все норм"
   ]
  },
  {
   "cell_type": "code",
   "execution_count": 8,
   "id": "aeb09c33-a444-4767-9194-d0a591c7164a",
   "metadata": {},
   "outputs": [
    {
     "data": {
      "text/html": [
       "<div>\n",
       "<style scoped>\n",
       "    .dataframe tbody tr th:only-of-type {\n",
       "        vertical-align: middle;\n",
       "    }\n",
       "\n",
       "    .dataframe tbody tr th {\n",
       "        vertical-align: top;\n",
       "    }\n",
       "\n",
       "    .dataframe thead th {\n",
       "        text-align: right;\n",
       "    }\n",
       "</style>\n",
       "<table border=\"1\" class=\"dataframe\">\n",
       "  <thead>\n",
       "    <tr style=\"text-align: right;\">\n",
       "      <th></th>\n",
       "      <th>subscription_type</th>\n",
       "      <th>minute_price</th>\n",
       "      <th>start_ride_price</th>\n",
       "      <th>subscription_fee</th>\n",
       "    </tr>\n",
       "  </thead>\n",
       "  <tbody>\n",
       "    <tr>\n",
       "      <th>0</th>\n",
       "      <td>free</td>\n",
       "      <td>8</td>\n",
       "      <td>50</td>\n",
       "      <td>0</td>\n",
       "    </tr>\n",
       "    <tr>\n",
       "      <th>1</th>\n",
       "      <td>ultra</td>\n",
       "      <td>6</td>\n",
       "      <td>0</td>\n",
       "      <td>199</td>\n",
       "    </tr>\n",
       "  </tbody>\n",
       "</table>\n",
       "</div>"
      ],
      "text/plain": [
       "  subscription_type  minute_price  start_ride_price  subscription_fee\n",
       "0              free             8                50                 0\n",
       "1             ultra             6                 0               199"
      ]
     },
     "execution_count": 8,
     "metadata": {},
     "output_type": "execute_result"
    }
   ],
   "source": [
    "data_subs.head(10)"
   ]
  },
  {
   "cell_type": "code",
   "execution_count": 9,
   "id": "c2407a47-17bd-4c66-ac63-34e69fc3b4ec",
   "metadata": {},
   "outputs": [
    {
     "name": "stdout",
     "output_type": "stream",
     "text": [
      "<class 'pandas.core.frame.DataFrame'>\n",
      "RangeIndex: 2 entries, 0 to 1\n",
      "Data columns (total 4 columns):\n",
      " #   Column             Non-Null Count  Dtype \n",
      "---  ------             --------------  ----- \n",
      " 0   subscription_type  2 non-null      object\n",
      " 1   minute_price       2 non-null      int64 \n",
      " 2   start_ride_price   2 non-null      int64 \n",
      " 3   subscription_fee   2 non-null      int64 \n",
      "dtypes: int64(3), object(1)\n",
      "memory usage: 192.0+ bytes\n"
     ]
    }
   ],
   "source": [
    "data_subs.info()"
   ]
  },
  {
   "cell_type": "markdown",
   "id": "a32b35b2-963c-447f-b71c-771a06c41d44",
   "metadata": {},
   "source": [
    "### все типы соответствуют переменным"
   ]
  },
  {
   "cell_type": "code",
   "execution_count": 10,
   "id": "6acbeea3-241c-466d-933e-306608d7bfa3",
   "metadata": {},
   "outputs": [
    {
     "data": {
      "text/html": [
       "<div>\n",
       "<style scoped>\n",
       "    .dataframe tbody tr th:only-of-type {\n",
       "        vertical-align: middle;\n",
       "    }\n",
       "\n",
       "    .dataframe tbody tr th {\n",
       "        vertical-align: top;\n",
       "    }\n",
       "\n",
       "    .dataframe thead th {\n",
       "        text-align: right;\n",
       "    }\n",
       "</style>\n",
       "<table border=\"1\" class=\"dataframe\">\n",
       "  <thead>\n",
       "    <tr style=\"text-align: right;\">\n",
       "      <th></th>\n",
       "      <th>minute_price</th>\n",
       "      <th>start_ride_price</th>\n",
       "      <th>subscription_fee</th>\n",
       "    </tr>\n",
       "  </thead>\n",
       "  <tbody>\n",
       "    <tr>\n",
       "      <th>count</th>\n",
       "      <td>2.000000</td>\n",
       "      <td>2.000000</td>\n",
       "      <td>2.000000</td>\n",
       "    </tr>\n",
       "    <tr>\n",
       "      <th>mean</th>\n",
       "      <td>7.000000</td>\n",
       "      <td>25.000000</td>\n",
       "      <td>99.500000</td>\n",
       "    </tr>\n",
       "    <tr>\n",
       "      <th>std</th>\n",
       "      <td>1.414214</td>\n",
       "      <td>35.355339</td>\n",
       "      <td>140.714249</td>\n",
       "    </tr>\n",
       "    <tr>\n",
       "      <th>min</th>\n",
       "      <td>6.000000</td>\n",
       "      <td>0.000000</td>\n",
       "      <td>0.000000</td>\n",
       "    </tr>\n",
       "    <tr>\n",
       "      <th>25%</th>\n",
       "      <td>6.500000</td>\n",
       "      <td>12.500000</td>\n",
       "      <td>49.750000</td>\n",
       "    </tr>\n",
       "    <tr>\n",
       "      <th>50%</th>\n",
       "      <td>7.000000</td>\n",
       "      <td>25.000000</td>\n",
       "      <td>99.500000</td>\n",
       "    </tr>\n",
       "    <tr>\n",
       "      <th>75%</th>\n",
       "      <td>7.500000</td>\n",
       "      <td>37.500000</td>\n",
       "      <td>149.250000</td>\n",
       "    </tr>\n",
       "    <tr>\n",
       "      <th>max</th>\n",
       "      <td>8.000000</td>\n",
       "      <td>50.000000</td>\n",
       "      <td>199.000000</td>\n",
       "    </tr>\n",
       "  </tbody>\n",
       "</table>\n",
       "</div>"
      ],
      "text/plain": [
       "       minute_price  start_ride_price  subscription_fee\n",
       "count      2.000000          2.000000          2.000000\n",
       "mean       7.000000         25.000000         99.500000\n",
       "std        1.414214         35.355339        140.714249\n",
       "min        6.000000          0.000000          0.000000\n",
       "25%        6.500000         12.500000         49.750000\n",
       "50%        7.000000         25.000000         99.500000\n",
       "75%        7.500000         37.500000        149.250000\n",
       "max        8.000000         50.000000        199.000000"
      ]
     },
     "execution_count": 10,
     "metadata": {},
     "output_type": "execute_result"
    }
   ],
   "source": [
    "data_subs.describe()"
   ]
  },
  {
   "cell_type": "markdown",
   "id": "f25ee287-2b9f-460f-a482-50849d80ae67",
   "metadata": {},
   "source": [
    "### Вроде выглядит нормально"
   ]
  },
  {
   "cell_type": "code",
   "execution_count": 11,
   "id": "f885d53a-523c-4080-a8f2-0656bbfd7aae",
   "metadata": {},
   "outputs": [
    {
     "data": {
      "text/html": [
       "<div>\n",
       "<style scoped>\n",
       "    .dataframe tbody tr th:only-of-type {\n",
       "        vertical-align: middle;\n",
       "    }\n",
       "\n",
       "    .dataframe tbody tr th {\n",
       "        vertical-align: top;\n",
       "    }\n",
       "\n",
       "    .dataframe thead th {\n",
       "        text-align: right;\n",
       "    }\n",
       "</style>\n",
       "<table border=\"1\" class=\"dataframe\">\n",
       "  <thead>\n",
       "    <tr style=\"text-align: right;\">\n",
       "      <th></th>\n",
       "      <th>user_id</th>\n",
       "      <th>name</th>\n",
       "      <th>age</th>\n",
       "      <th>city</th>\n",
       "      <th>subscription_type</th>\n",
       "    </tr>\n",
       "  </thead>\n",
       "  <tbody>\n",
       "    <tr>\n",
       "      <th>0</th>\n",
       "      <td>1</td>\n",
       "      <td>Кира</td>\n",
       "      <td>22</td>\n",
       "      <td>Тюмень</td>\n",
       "      <td>ultra</td>\n",
       "    </tr>\n",
       "    <tr>\n",
       "      <th>1</th>\n",
       "      <td>2</td>\n",
       "      <td>Станислав</td>\n",
       "      <td>31</td>\n",
       "      <td>Омск</td>\n",
       "      <td>ultra</td>\n",
       "    </tr>\n",
       "    <tr>\n",
       "      <th>2</th>\n",
       "      <td>3</td>\n",
       "      <td>Алексей</td>\n",
       "      <td>20</td>\n",
       "      <td>Москва</td>\n",
       "      <td>ultra</td>\n",
       "    </tr>\n",
       "    <tr>\n",
       "      <th>3</th>\n",
       "      <td>4</td>\n",
       "      <td>Константин</td>\n",
       "      <td>26</td>\n",
       "      <td>Ростов-на-Дону</td>\n",
       "      <td>ultra</td>\n",
       "    </tr>\n",
       "    <tr>\n",
       "      <th>4</th>\n",
       "      <td>5</td>\n",
       "      <td>Адель</td>\n",
       "      <td>28</td>\n",
       "      <td>Омск</td>\n",
       "      <td>ultra</td>\n",
       "    </tr>\n",
       "    <tr>\n",
       "      <th>...</th>\n",
       "      <td>...</td>\n",
       "      <td>...</td>\n",
       "      <td>...</td>\n",
       "      <td>...</td>\n",
       "      <td>...</td>\n",
       "    </tr>\n",
       "    <tr>\n",
       "      <th>1560</th>\n",
       "      <td>829</td>\n",
       "      <td>Федор</td>\n",
       "      <td>29</td>\n",
       "      <td>Пятигорск</td>\n",
       "      <td>free</td>\n",
       "    </tr>\n",
       "    <tr>\n",
       "      <th>1561</th>\n",
       "      <td>809</td>\n",
       "      <td>Юрий</td>\n",
       "      <td>26</td>\n",
       "      <td>Сочи</td>\n",
       "      <td>free</td>\n",
       "    </tr>\n",
       "    <tr>\n",
       "      <th>1562</th>\n",
       "      <td>307</td>\n",
       "      <td>Ясмина</td>\n",
       "      <td>19</td>\n",
       "      <td>Краснодар</td>\n",
       "      <td>ultra</td>\n",
       "    </tr>\n",
       "    <tr>\n",
       "      <th>1563</th>\n",
       "      <td>47</td>\n",
       "      <td>Юрий</td>\n",
       "      <td>28</td>\n",
       "      <td>Тюмень</td>\n",
       "      <td>ultra</td>\n",
       "    </tr>\n",
       "    <tr>\n",
       "      <th>1564</th>\n",
       "      <td>1045</td>\n",
       "      <td>Артемий</td>\n",
       "      <td>28</td>\n",
       "      <td>Ростов-на-Дону</td>\n",
       "      <td>free</td>\n",
       "    </tr>\n",
       "  </tbody>\n",
       "</table>\n",
       "<p>1565 rows × 5 columns</p>\n",
       "</div>"
      ],
      "text/plain": [
       "      user_id        name  age            city subscription_type\n",
       "0           1        Кира   22          Тюмень             ultra\n",
       "1           2   Станислав   31            Омск             ultra\n",
       "2           3     Алексей   20          Москва             ultra\n",
       "3           4  Константин   26  Ростов-на-Дону             ultra\n",
       "4           5       Адель   28            Омск             ultra\n",
       "...       ...         ...  ...             ...               ...\n",
       "1560      829       Федор   29       Пятигорск              free\n",
       "1561      809        Юрий   26            Сочи              free\n",
       "1562      307      Ясмина   19       Краснодар             ultra\n",
       "1563       47        Юрий   28          Тюмень             ultra\n",
       "1564     1045     Артемий   28  Ростов-на-Дону              free\n",
       "\n",
       "[1565 rows x 5 columns]"
      ]
     },
     "execution_count": 11,
     "metadata": {},
     "output_type": "execute_result"
    }
   ],
   "source": [
    "data_users[data_users['user_id'].isna() == False]"
   ]
  },
  {
   "cell_type": "code",
   "execution_count": 12,
   "id": "80855298-e1e6-4b70-912c-49036f7f6382",
   "metadata": {},
   "outputs": [
    {
     "data": {
      "text/html": [
       "<div>\n",
       "<style scoped>\n",
       "    .dataframe tbody tr th:only-of-type {\n",
       "        vertical-align: middle;\n",
       "    }\n",
       "\n",
       "    .dataframe tbody tr th {\n",
       "        vertical-align: top;\n",
       "    }\n",
       "\n",
       "    .dataframe thead th {\n",
       "        text-align: right;\n",
       "    }\n",
       "</style>\n",
       "<table border=\"1\" class=\"dataframe\">\n",
       "  <thead>\n",
       "    <tr style=\"text-align: right;\">\n",
       "      <th></th>\n",
       "      <th>user_id</th>\n",
       "      <th>name</th>\n",
       "      <th>age</th>\n",
       "      <th>city</th>\n",
       "      <th>subscription_type</th>\n",
       "    </tr>\n",
       "  </thead>\n",
       "  <tbody>\n",
       "    <tr>\n",
       "      <th>1533</th>\n",
       "      <td>1534</td>\n",
       "      <td>Альберт</td>\n",
       "      <td>25</td>\n",
       "      <td>Краснодар</td>\n",
       "      <td>free</td>\n",
       "    </tr>\n",
       "  </tbody>\n",
       "</table>\n",
       "</div>"
      ],
      "text/plain": [
       "      user_id     name  age       city subscription_type\n",
       "1533     1534  Альберт   25  Краснодар              free"
      ]
     },
     "execution_count": 12,
     "metadata": {},
     "output_type": "execute_result"
    }
   ],
   "source": [
    "data_users[data_users['user_id'] == 1534]"
   ]
  },
  {
   "cell_type": "markdown",
   "id": "a7e0b1dd-492d-4ce8-87ba-be0d4e4f4cb2",
   "metadata": {},
   "source": [
    "## В целом, данные в порядке, за искючением даты"
   ]
  },
  {
   "cell_type": "markdown",
   "id": "2acdcc04-7e6c-4919-824c-e2bcb7093dbb",
   "metadata": {},
   "source": [
    "# Предобработка данных"
   ]
  },
  {
   "cell_type": "code",
   "execution_count": 13,
   "id": "4a9c01f9-1e8f-4886-8c06-35fc462c5b08",
   "metadata": {},
   "outputs": [
    {
     "data": {
      "text/plain": [
       "(Timestamp('2021-01-01 00:00:00'), Timestamp('2021-12-30 00:00:00'))"
      ]
     },
     "execution_count": 13,
     "metadata": {},
     "output_type": "execute_result"
    }
   ],
   "source": [
    "data_rides[\"date\"].min(), data_rides[\"date\"].max()"
   ]
  },
  {
   "cell_type": "markdown",
   "id": "ebcbc799-9208-45e3-8367-44e3d1fb43c4",
   "metadata": {},
   "source": [
    "Рассматриваем период за 21 год,\"ытс окэй\" ✅"
   ]
  },
  {
   "cell_type": "markdown",
   "id": "6f2422ef-9798-478d-9ad0-22b4b4fd8c8f",
   "metadata": {},
   "source": [
    "### Выкинем месяц в отдельный столбец)"
   ]
  },
  {
   "cell_type": "code",
   "execution_count": 14,
   "id": "5d46c095-3ecf-4170-a15f-63509f32976c",
   "metadata": {},
   "outputs": [],
   "source": [
    "data_rides['month'] = data_rides[\"date\"].dt.month"
   ]
  },
  {
   "cell_type": "code",
   "execution_count": 15,
   "id": "26204438-f32e-423f-bac4-d0e652a2ab2a",
   "metadata": {},
   "outputs": [
    {
     "data": {
      "text/html": [
       "<div>\n",
       "<style scoped>\n",
       "    .dataframe tbody tr th:only-of-type {\n",
       "        vertical-align: middle;\n",
       "    }\n",
       "\n",
       "    .dataframe tbody tr th {\n",
       "        vertical-align: top;\n",
       "    }\n",
       "\n",
       "    .dataframe thead th {\n",
       "        text-align: right;\n",
       "    }\n",
       "</style>\n",
       "<table border=\"1\" class=\"dataframe\">\n",
       "  <thead>\n",
       "    <tr style=\"text-align: right;\">\n",
       "      <th></th>\n",
       "      <th>user_id</th>\n",
       "      <th>distance</th>\n",
       "      <th>duration</th>\n",
       "      <th>date</th>\n",
       "      <th>month</th>\n",
       "    </tr>\n",
       "  </thead>\n",
       "  <tbody>\n",
       "    <tr>\n",
       "      <th>0</th>\n",
       "      <td>1</td>\n",
       "      <td>4409.919140</td>\n",
       "      <td>25.599769</td>\n",
       "      <td>2021-01-01</td>\n",
       "      <td>1</td>\n",
       "    </tr>\n",
       "    <tr>\n",
       "      <th>1</th>\n",
       "      <td>1</td>\n",
       "      <td>2617.592153</td>\n",
       "      <td>15.816871</td>\n",
       "      <td>2021-01-18</td>\n",
       "      <td>1</td>\n",
       "    </tr>\n",
       "    <tr>\n",
       "      <th>2</th>\n",
       "      <td>1</td>\n",
       "      <td>754.159807</td>\n",
       "      <td>6.232113</td>\n",
       "      <td>2021-04-20</td>\n",
       "      <td>4</td>\n",
       "    </tr>\n",
       "    <tr>\n",
       "      <th>3</th>\n",
       "      <td>1</td>\n",
       "      <td>2694.783254</td>\n",
       "      <td>18.511000</td>\n",
       "      <td>2021-08-11</td>\n",
       "      <td>8</td>\n",
       "    </tr>\n",
       "    <tr>\n",
       "      <th>4</th>\n",
       "      <td>1</td>\n",
       "      <td>4028.687306</td>\n",
       "      <td>26.265803</td>\n",
       "      <td>2021-08-28</td>\n",
       "      <td>8</td>\n",
       "    </tr>\n",
       "    <tr>\n",
       "      <th>...</th>\n",
       "      <td>...</td>\n",
       "      <td>...</td>\n",
       "      <td>...</td>\n",
       "      <td>...</td>\n",
       "      <td>...</td>\n",
       "    </tr>\n",
       "    <tr>\n",
       "      <th>18063</th>\n",
       "      <td>1534</td>\n",
       "      <td>3781.098080</td>\n",
       "      <td>19.822962</td>\n",
       "      <td>2021-11-04</td>\n",
       "      <td>11</td>\n",
       "    </tr>\n",
       "    <tr>\n",
       "      <th>18064</th>\n",
       "      <td>1534</td>\n",
       "      <td>2840.423057</td>\n",
       "      <td>21.409799</td>\n",
       "      <td>2021-11-16</td>\n",
       "      <td>11</td>\n",
       "    </tr>\n",
       "    <tr>\n",
       "      <th>18065</th>\n",
       "      <td>1534</td>\n",
       "      <td>3826.185507</td>\n",
       "      <td>18.435051</td>\n",
       "      <td>2021-11-18</td>\n",
       "      <td>11</td>\n",
       "    </tr>\n",
       "    <tr>\n",
       "      <th>18066</th>\n",
       "      <td>1534</td>\n",
       "      <td>2902.308661</td>\n",
       "      <td>16.674362</td>\n",
       "      <td>2021-11-27</td>\n",
       "      <td>11</td>\n",
       "    </tr>\n",
       "    <tr>\n",
       "      <th>18067</th>\n",
       "      <td>1534</td>\n",
       "      <td>2371.711192</td>\n",
       "      <td>15.893917</td>\n",
       "      <td>2021-12-29</td>\n",
       "      <td>12</td>\n",
       "    </tr>\n",
       "  </tbody>\n",
       "</table>\n",
       "<p>18068 rows × 5 columns</p>\n",
       "</div>"
      ],
      "text/plain": [
       "       user_id     distance   duration       date  month\n",
       "0            1  4409.919140  25.599769 2021-01-01      1\n",
       "1            1  2617.592153  15.816871 2021-01-18      1\n",
       "2            1   754.159807   6.232113 2021-04-20      4\n",
       "3            1  2694.783254  18.511000 2021-08-11      8\n",
       "4            1  4028.687306  26.265803 2021-08-28      8\n",
       "...        ...          ...        ...        ...    ...\n",
       "18063     1534  3781.098080  19.822962 2021-11-04     11\n",
       "18064     1534  2840.423057  21.409799 2021-11-16     11\n",
       "18065     1534  3826.185507  18.435051 2021-11-18     11\n",
       "18066     1534  2902.308661  16.674362 2021-11-27     11\n",
       "18067     1534  2371.711192  15.893917 2021-12-29     12\n",
       "\n",
       "[18068 rows x 5 columns]"
      ]
     },
     "execution_count": 15,
     "metadata": {},
     "output_type": "execute_result"
    }
   ],
   "source": [
    "data_rides"
   ]
  },
  {
   "cell_type": "markdown",
   "id": "d4fac43f-f1b1-481a-88b1-43eb00fcc52f",
   "metadata": {},
   "source": [
    "### Чекаем пропуски и дубликаты"
   ]
  },
  {
   "cell_type": "code",
   "execution_count": 16,
   "id": "f7d48613-5fec-4a8a-9b04-e0f67deca04c",
   "metadata": {
    "scrolled": true
   },
   "outputs": [
    {
     "data": {
      "text/plain": [
       "user_id              0\n",
       "name                 0\n",
       "age                  0\n",
       "city                 0\n",
       "subscription_type    0\n",
       "dtype: int64"
      ]
     },
     "execution_count": 16,
     "metadata": {},
     "output_type": "execute_result"
    }
   ],
   "source": [
    "data_users.isna().sum()"
   ]
  },
  {
   "cell_type": "markdown",
   "id": "0abb43ce-bc31-4ad4-8ca7-c13414eaa543",
   "metadata": {},
   "source": [
    "В users Явных na нет"
   ]
  },
  {
   "cell_type": "code",
   "execution_count": 17,
   "id": "d0b2c877-5668-4996-9a11-2b9d40c9c9fd",
   "metadata": {},
   "outputs": [
    {
     "data": {
      "text/plain": [
       "user_id     0\n",
       "distance    0\n",
       "duration    0\n",
       "date        0\n",
       "month       0\n",
       "dtype: int64"
      ]
     },
     "execution_count": 17,
     "metadata": {},
     "output_type": "execute_result"
    }
   ],
   "source": [
    "data_rides.isna().sum()"
   ]
  },
  {
   "cell_type": "markdown",
   "id": "3d73be35-86a2-4545-900e-64cc733b2920",
   "metadata": {},
   "source": [
    "В rides Явных na нет"
   ]
  },
  {
   "cell_type": "code",
   "execution_count": 18,
   "id": "6823fbbd-a214-42d6-a08e-647118c509ac",
   "metadata": {},
   "outputs": [
    {
     "data": {
      "text/plain": [
       "subscription_type    0\n",
       "minute_price         0\n",
       "start_ride_price     0\n",
       "subscription_fee     0\n",
       "dtype: int64"
      ]
     },
     "execution_count": 18,
     "metadata": {},
     "output_type": "execute_result"
    }
   ],
   "source": [
    "data_subs.isna().sum()"
   ]
  },
  {
   "cell_type": "markdown",
   "id": "c88fe02d-7ef7-4def-ad04-155bda361ede",
   "metadata": {},
   "source": [
    "В subs Явных na нет"
   ]
  },
  {
   "cell_type": "code",
   "execution_count": 19,
   "id": "2cd9043c-1e53-4fbe-a06e-80569165a3d7",
   "metadata": {},
   "outputs": [
    {
     "data": {
      "text/html": [
       "<div>\n",
       "<style scoped>\n",
       "    .dataframe tbody tr th:only-of-type {\n",
       "        vertical-align: middle;\n",
       "    }\n",
       "\n",
       "    .dataframe tbody tr th {\n",
       "        vertical-align: top;\n",
       "    }\n",
       "\n",
       "    .dataframe thead th {\n",
       "        text-align: right;\n",
       "    }\n",
       "</style>\n",
       "<table border=\"1\" class=\"dataframe\">\n",
       "  <thead>\n",
       "    <tr style=\"text-align: right;\">\n",
       "      <th></th>\n",
       "      <th>user_id</th>\n",
       "      <th>distance</th>\n",
       "      <th>duration</th>\n",
       "      <th>date</th>\n",
       "      <th>month</th>\n",
       "    </tr>\n",
       "  </thead>\n",
       "  <tbody>\n",
       "  </tbody>\n",
       "</table>\n",
       "</div>"
      ],
      "text/plain": [
       "Empty DataFrame\n",
       "Columns: [user_id, distance, duration, date, month]\n",
       "Index: []"
      ]
     },
     "execution_count": 19,
     "metadata": {},
     "output_type": "execute_result"
    }
   ],
   "source": [
    "data_rides[data_rides.duplicated() == True]"
   ]
  },
  {
   "cell_type": "code",
   "execution_count": 20,
   "id": "3ea08de4-a977-48ce-846d-10da9905b25d",
   "metadata": {},
   "outputs": [
    {
     "data": {
      "text/html": [
       "<div>\n",
       "<style scoped>\n",
       "    .dataframe tbody tr th:only-of-type {\n",
       "        vertical-align: middle;\n",
       "    }\n",
       "\n",
       "    .dataframe tbody tr th {\n",
       "        vertical-align: top;\n",
       "    }\n",
       "\n",
       "    .dataframe thead th {\n",
       "        text-align: right;\n",
       "    }\n",
       "</style>\n",
       "<table border=\"1\" class=\"dataframe\">\n",
       "  <thead>\n",
       "    <tr style=\"text-align: right;\">\n",
       "      <th></th>\n",
       "      <th>user_id</th>\n",
       "      <th>name</th>\n",
       "      <th>age</th>\n",
       "      <th>city</th>\n",
       "      <th>subscription_type</th>\n",
       "    </tr>\n",
       "  </thead>\n",
       "  <tbody>\n",
       "    <tr>\n",
       "      <th>1535</th>\n",
       "      <td>16</td>\n",
       "      <td>Амалия</td>\n",
       "      <td>27</td>\n",
       "      <td>Краснодар</td>\n",
       "      <td>ultra</td>\n",
       "    </tr>\n",
       "    <tr>\n",
       "      <th>1539</th>\n",
       "      <td>43</td>\n",
       "      <td>Стефания</td>\n",
       "      <td>22</td>\n",
       "      <td>Омск</td>\n",
       "      <td>ultra</td>\n",
       "    </tr>\n",
       "    <tr>\n",
       "      <th>1563</th>\n",
       "      <td>47</td>\n",
       "      <td>Юрий</td>\n",
       "      <td>28</td>\n",
       "      <td>Тюмень</td>\n",
       "      <td>ultra</td>\n",
       "    </tr>\n",
       "    <tr>\n",
       "      <th>1555</th>\n",
       "      <td>72</td>\n",
       "      <td>Никита</td>\n",
       "      <td>25</td>\n",
       "      <td>Москва</td>\n",
       "      <td>ultra</td>\n",
       "    </tr>\n",
       "    <tr>\n",
       "      <th>1549</th>\n",
       "      <td>108</td>\n",
       "      <td>Влада</td>\n",
       "      <td>29</td>\n",
       "      <td>Тюмень</td>\n",
       "      <td>ultra</td>\n",
       "    </tr>\n",
       "    <tr>\n",
       "      <th>1553</th>\n",
       "      <td>121</td>\n",
       "      <td>Алина</td>\n",
       "      <td>25</td>\n",
       "      <td>Пятигорск</td>\n",
       "      <td>ultra</td>\n",
       "    </tr>\n",
       "    <tr>\n",
       "      <th>1540</th>\n",
       "      <td>127</td>\n",
       "      <td>Павел</td>\n",
       "      <td>25</td>\n",
       "      <td>Пятигорск</td>\n",
       "      <td>ultra</td>\n",
       "    </tr>\n",
       "    <tr>\n",
       "      <th>1548</th>\n",
       "      <td>136</td>\n",
       "      <td>Марсель</td>\n",
       "      <td>25</td>\n",
       "      <td>Тюмень</td>\n",
       "      <td>ultra</td>\n",
       "    </tr>\n",
       "    <tr>\n",
       "      <th>1543</th>\n",
       "      <td>153</td>\n",
       "      <td>Герман</td>\n",
       "      <td>23</td>\n",
       "      <td>Москва</td>\n",
       "      <td>ultra</td>\n",
       "    </tr>\n",
       "    <tr>\n",
       "      <th>1542</th>\n",
       "      <td>204</td>\n",
       "      <td>Руслан</td>\n",
       "      <td>30</td>\n",
       "      <td>Пятигорск</td>\n",
       "      <td>ultra</td>\n",
       "    </tr>\n",
       "    <tr>\n",
       "      <th>1559</th>\n",
       "      <td>209</td>\n",
       "      <td>Андрей</td>\n",
       "      <td>23</td>\n",
       "      <td>Омск</td>\n",
       "      <td>ultra</td>\n",
       "    </tr>\n",
       "    <tr>\n",
       "      <th>1534</th>\n",
       "      <td>293</td>\n",
       "      <td>Агата</td>\n",
       "      <td>26</td>\n",
       "      <td>Краснодар</td>\n",
       "      <td>ultra</td>\n",
       "    </tr>\n",
       "    <tr>\n",
       "      <th>1552</th>\n",
       "      <td>297</td>\n",
       "      <td>Егор</td>\n",
       "      <td>33</td>\n",
       "      <td>Пятигорск</td>\n",
       "      <td>ultra</td>\n",
       "    </tr>\n",
       "    <tr>\n",
       "      <th>1562</th>\n",
       "      <td>307</td>\n",
       "      <td>Ясмина</td>\n",
       "      <td>19</td>\n",
       "      <td>Краснодар</td>\n",
       "      <td>ultra</td>\n",
       "    </tr>\n",
       "    <tr>\n",
       "      <th>1537</th>\n",
       "      <td>403</td>\n",
       "      <td>Полина</td>\n",
       "      <td>19</td>\n",
       "      <td>Сочи</td>\n",
       "      <td>ultra</td>\n",
       "    </tr>\n",
       "    <tr>\n",
       "      <th>1556</th>\n",
       "      <td>422</td>\n",
       "      <td>Кирилл</td>\n",
       "      <td>27</td>\n",
       "      <td>Сочи</td>\n",
       "      <td>ultra</td>\n",
       "    </tr>\n",
       "    <tr>\n",
       "      <th>1557</th>\n",
       "      <td>611</td>\n",
       "      <td>Владимир</td>\n",
       "      <td>28</td>\n",
       "      <td>Омск</td>\n",
       "      <td>ultra</td>\n",
       "    </tr>\n",
       "    <tr>\n",
       "      <th>1547</th>\n",
       "      <td>635</td>\n",
       "      <td>Герман</td>\n",
       "      <td>21</td>\n",
       "      <td>Москва</td>\n",
       "      <td>ultra</td>\n",
       "    </tr>\n",
       "    <tr>\n",
       "      <th>1541</th>\n",
       "      <td>659</td>\n",
       "      <td>Злата</td>\n",
       "      <td>27</td>\n",
       "      <td>Ростов-на-Дону</td>\n",
       "      <td>ultra</td>\n",
       "    </tr>\n",
       "    <tr>\n",
       "      <th>1551</th>\n",
       "      <td>666</td>\n",
       "      <td>Зарина</td>\n",
       "      <td>29</td>\n",
       "      <td>Москва</td>\n",
       "      <td>ultra</td>\n",
       "    </tr>\n",
       "    <tr>\n",
       "      <th>1550</th>\n",
       "      <td>737</td>\n",
       "      <td>Мелания</td>\n",
       "      <td>27</td>\n",
       "      <td>Ростов-на-Дону</td>\n",
       "      <td>free</td>\n",
       "    </tr>\n",
       "    <tr>\n",
       "      <th>1545</th>\n",
       "      <td>807</td>\n",
       "      <td>Александр</td>\n",
       "      <td>28</td>\n",
       "      <td>Екатеринбург</td>\n",
       "      <td>free</td>\n",
       "    </tr>\n",
       "    <tr>\n",
       "      <th>1561</th>\n",
       "      <td>809</td>\n",
       "      <td>Юрий</td>\n",
       "      <td>26</td>\n",
       "      <td>Сочи</td>\n",
       "      <td>free</td>\n",
       "    </tr>\n",
       "    <tr>\n",
       "      <th>1560</th>\n",
       "      <td>829</td>\n",
       "      <td>Федор</td>\n",
       "      <td>29</td>\n",
       "      <td>Пятигорск</td>\n",
       "      <td>free</td>\n",
       "    </tr>\n",
       "    <tr>\n",
       "      <th>1538</th>\n",
       "      <td>908</td>\n",
       "      <td>Рустам</td>\n",
       "      <td>30</td>\n",
       "      <td>Тюмень</td>\n",
       "      <td>free</td>\n",
       "    </tr>\n",
       "    <tr>\n",
       "      <th>1536</th>\n",
       "      <td>909</td>\n",
       "      <td>Константин</td>\n",
       "      <td>20</td>\n",
       "      <td>Екатеринбург</td>\n",
       "      <td>free</td>\n",
       "    </tr>\n",
       "    <tr>\n",
       "      <th>1546</th>\n",
       "      <td>924</td>\n",
       "      <td>Мария</td>\n",
       "      <td>23</td>\n",
       "      <td>Пятигорск</td>\n",
       "      <td>free</td>\n",
       "    </tr>\n",
       "    <tr>\n",
       "      <th>1564</th>\n",
       "      <td>1045</td>\n",
       "      <td>Артемий</td>\n",
       "      <td>28</td>\n",
       "      <td>Ростов-на-Дону</td>\n",
       "      <td>free</td>\n",
       "    </tr>\n",
       "    <tr>\n",
       "      <th>1554</th>\n",
       "      <td>1198</td>\n",
       "      <td>Демид</td>\n",
       "      <td>29</td>\n",
       "      <td>Ростов-на-Дону</td>\n",
       "      <td>free</td>\n",
       "    </tr>\n",
       "    <tr>\n",
       "      <th>1558</th>\n",
       "      <td>1237</td>\n",
       "      <td>Евгения</td>\n",
       "      <td>23</td>\n",
       "      <td>Тюмень</td>\n",
       "      <td>free</td>\n",
       "    </tr>\n",
       "    <tr>\n",
       "      <th>1544</th>\n",
       "      <td>1245</td>\n",
       "      <td>Регина</td>\n",
       "      <td>27</td>\n",
       "      <td>Пятигорск</td>\n",
       "      <td>free</td>\n",
       "    </tr>\n",
       "  </tbody>\n",
       "</table>\n",
       "</div>"
      ],
      "text/plain": [
       "      user_id        name  age            city subscription_type\n",
       "1535       16      Амалия   27       Краснодар             ultra\n",
       "1539       43    Стефания   22            Омск             ultra\n",
       "1563       47        Юрий   28          Тюмень             ultra\n",
       "1555       72      Никита   25          Москва             ultra\n",
       "1549      108       Влада   29          Тюмень             ultra\n",
       "1553      121       Алина   25       Пятигорск             ultra\n",
       "1540      127       Павел   25       Пятигорск             ultra\n",
       "1548      136     Марсель   25          Тюмень             ultra\n",
       "1543      153      Герман   23          Москва             ultra\n",
       "1542      204      Руслан   30       Пятигорск             ultra\n",
       "1559      209      Андрей   23            Омск             ultra\n",
       "1534      293       Агата   26       Краснодар             ultra\n",
       "1552      297        Егор   33       Пятигорск             ultra\n",
       "1562      307      Ясмина   19       Краснодар             ultra\n",
       "1537      403      Полина   19            Сочи             ultra\n",
       "1556      422      Кирилл   27            Сочи             ultra\n",
       "1557      611    Владимир   28            Омск             ultra\n",
       "1547      635      Герман   21          Москва             ultra\n",
       "1541      659       Злата   27  Ростов-на-Дону             ultra\n",
       "1551      666      Зарина   29          Москва             ultra\n",
       "1550      737     Мелания   27  Ростов-на-Дону              free\n",
       "1545      807   Александр   28    Екатеринбург              free\n",
       "1561      809        Юрий   26            Сочи              free\n",
       "1560      829       Федор   29       Пятигорск              free\n",
       "1538      908      Рустам   30          Тюмень              free\n",
       "1536      909  Константин   20    Екатеринбург              free\n",
       "1546      924       Мария   23       Пятигорск              free\n",
       "1564     1045     Артемий   28  Ростов-на-Дону              free\n",
       "1554     1198       Демид   29  Ростов-на-Дону              free\n",
       "1558     1237     Евгения   23          Тюмень              free\n",
       "1544     1245      Регина   27       Пятигорск              free"
      ]
     },
     "execution_count": 20,
     "metadata": {},
     "output_type": "execute_result"
    }
   ],
   "source": [
    "data_users[data_users['user_id'].duplicated() == True].sort_values(by = 'user_id')"
   ]
  },
  {
   "cell_type": "code",
   "execution_count": 21,
   "id": "926e46fe-72d1-45f1-8484-e8d1ae285534",
   "metadata": {},
   "outputs": [
    {
     "data": {
      "text/plain": [
       "user_id              31\n",
       "name                 31\n",
       "age                  31\n",
       "city                 31\n",
       "subscription_type    31\n",
       "dtype: int64"
      ]
     },
     "execution_count": 21,
     "metadata": {},
     "output_type": "execute_result"
    }
   ],
   "source": [
    "data_users[data_users['user_id'].duplicated() == True].count()"
   ]
  },
  {
   "cell_type": "code",
   "execution_count": 22,
   "id": "6762a036-848f-48bf-9d2c-0056ba4a764d",
   "metadata": {},
   "outputs": [
    {
     "data": {
      "text/html": [
       "<div>\n",
       "<style scoped>\n",
       "    .dataframe tbody tr th:only-of-type {\n",
       "        vertical-align: middle;\n",
       "    }\n",
       "\n",
       "    .dataframe tbody tr th {\n",
       "        vertical-align: top;\n",
       "    }\n",
       "\n",
       "    .dataframe thead th {\n",
       "        text-align: right;\n",
       "    }\n",
       "</style>\n",
       "<table border=\"1\" class=\"dataframe\">\n",
       "  <thead>\n",
       "    <tr style=\"text-align: right;\">\n",
       "      <th></th>\n",
       "      <th>user_id</th>\n",
       "      <th>name</th>\n",
       "      <th>age</th>\n",
       "      <th>city</th>\n",
       "      <th>subscription_type</th>\n",
       "    </tr>\n",
       "  </thead>\n",
       "  <tbody>\n",
       "    <tr>\n",
       "      <th>15</th>\n",
       "      <td>16</td>\n",
       "      <td>Амалия</td>\n",
       "      <td>27</td>\n",
       "      <td>Краснодар</td>\n",
       "      <td>ultra</td>\n",
       "    </tr>\n",
       "    <tr>\n",
       "      <th>1535</th>\n",
       "      <td>16</td>\n",
       "      <td>Амалия</td>\n",
       "      <td>27</td>\n",
       "      <td>Краснодар</td>\n",
       "      <td>ultra</td>\n",
       "    </tr>\n",
       "  </tbody>\n",
       "</table>\n",
       "</div>"
      ],
      "text/plain": [
       "      user_id    name  age       city subscription_type\n",
       "15         16  Амалия   27  Краснодар             ultra\n",
       "1535       16  Амалия   27  Краснодар             ultra"
      ]
     },
     "execution_count": 22,
     "metadata": {},
     "output_type": "execute_result"
    }
   ],
   "source": [
    "data_users[data_users['user_id'] == 16]"
   ]
  },
  {
   "cell_type": "markdown",
   "id": "97a44054-c82a-4618-908f-cbfbe3035f46",
   "metadata": {},
   "source": [
    "Действительно, явные дубликаты есть"
   ]
  },
  {
   "cell_type": "code",
   "execution_count": 23,
   "id": "955c0ee9-3ef7-43d0-b9bc-5f64390a2f5a",
   "metadata": {},
   "outputs": [
    {
     "data": {
      "text/plain": [
       "user_id              31\n",
       "name                 31\n",
       "age                  31\n",
       "city                 31\n",
       "subscription_type    31\n",
       "dtype: int64"
      ]
     },
     "execution_count": 23,
     "metadata": {},
     "output_type": "execute_result"
    }
   ],
   "source": [
    "data_users[data_users.duplicated() == True].count()"
   ]
  },
  {
   "cell_type": "code",
   "execution_count": 24,
   "id": "109b44e9-6cc4-49cc-8f0c-bab714458240",
   "metadata": {},
   "outputs": [],
   "source": [
    "data_users = data_users.drop_duplicates()"
   ]
  },
  {
   "cell_type": "code",
   "execution_count": 25,
   "id": "f6ee82f5-b965-40e1-b16b-820fd198333d",
   "metadata": {},
   "outputs": [
    {
     "data": {
      "text/plain": [
       "user_id              0\n",
       "name                 0\n",
       "age                  0\n",
       "city                 0\n",
       "subscription_type    0\n",
       "dtype: int64"
      ]
     },
     "execution_count": 25,
     "metadata": {},
     "output_type": "execute_result"
    }
   ],
   "source": [
    "data_users[data_users.duplicated() == True].count()"
   ]
  },
  {
   "cell_type": "markdown",
   "id": "b7cd4268-eba5-46e5-85e0-2ec33003cd2f",
   "metadata": {},
   "source": [
    "users без явных дубликатов"
   ]
  },
  {
   "cell_type": "markdown",
   "id": "f4954d78-65d1-45cb-bfec-dfd8571206d0",
   "metadata": {},
   "source": [
    "## В целом данные пришли хорошего качества, были явные дубликаты, от которых мы избавились. Данные замечательные!"
   ]
  },
  {
   "cell_type": "markdown",
   "id": "b924c514-6605-4ac1-a125-bd0c309222b2",
   "metadata": {},
   "source": [
    "# EDA"
   ]
  },
  {
   "cell_type": "markdown",
   "id": "2770c5a5-d3a7-4531-a3cf-4fe05dc06237",
   "metadata": {},
   "source": [
    "### Попробую описать и визуализировать общую информацию о пользователях и поездках"
   ]
  },
  {
   "cell_type": "markdown",
   "id": "0200ef55-ccd8-43be-8802-c024cd9195ff",
   "metadata": {},
   "source": [
    "## Частота встречаемости городов"
   ]
  },
  {
   "cell_type": "code",
   "execution_count": 26,
   "id": "a22c1f7a-c4f6-4772-a11f-39e269975384",
   "metadata": {},
   "outputs": [],
   "source": [
    "cities_unique = data_users['city'].value_counts()"
   ]
  },
  {
   "cell_type": "code",
   "execution_count": 27,
   "id": "33d8308f-341b-46b0-b9f5-078d66ddebc7",
   "metadata": {},
   "outputs": [
    {
     "data": {
      "text/plain": [
       "Пятигорск         219\n",
       "Екатеринбург      204\n",
       "Ростов-на-Дону    198\n",
       "Краснодар         193\n",
       "Сочи              189\n",
       "Омск              183\n",
       "Тюмень            180\n",
       "Москва            168\n",
       "Name: city, dtype: int64"
      ]
     },
     "execution_count": 27,
     "metadata": {},
     "output_type": "execute_result"
    }
   ],
   "source": [
    "cities_unique"
   ]
  },
  {
   "cell_type": "code",
   "execution_count": 28,
   "id": "b9e69b7e-8e2a-4c27-b29d-c20a7e29110f",
   "metadata": {},
   "outputs": [],
   "source": [
    "city_freq = cities_unique / cities_unique.sum() * 100"
   ]
  },
  {
   "cell_type": "code",
   "execution_count": 29,
   "id": "12cc7240-ed9d-421e-b7bc-22a61be8774a",
   "metadata": {},
   "outputs": [
    {
     "data": {
      "text/plain": [
       "Пятигорск         14.276402\n",
       "Екатеринбург      13.298566\n",
       "Ростов-на-Дону    12.907432\n",
       "Краснодар         12.581486\n",
       "Сочи              12.320730\n",
       "Омск              11.929596\n",
       "Тюмень            11.734029\n",
       "Москва            10.951760\n",
       "Name: city, dtype: float64"
      ]
     },
     "execution_count": 29,
     "metadata": {},
     "output_type": "execute_result"
    }
   ],
   "source": [
    "city_freq"
   ]
  },
  {
   "cell_type": "markdown",
   "id": "eb862ae7-a9e2-495e-a205-b6d362d9e651",
   "metadata": {},
   "source": [
    "Частота в процентах Done ✅. \n",
    "\n",
    "Преобладает Пятигорск, Екатеринбург и Ростов,  все города в диапозоне 10.95-14.27 %"
   ]
  },
  {
   "cell_type": "markdown",
   "id": "4a4db453",
   "metadata": {},
   "source": [
    "может быть такая ситуация, что сервис начинал с Пятигорска, целевой аудитории больше + в Москве развита сеть аренд, что уменьшает потенциальную аудиторию. И если это не закономерность. а ошибка - решить её корректно я ,наверное, не смогу, только мудрёным фильтром по параметрам из df(и то. если это возможно), тут уже нужно будет передать ребятам в прод, чтобы они посмотрели у себя ошибки по записи данных"
   ]
  },
  {
   "cell_type": "code",
   "execution_count": 30,
   "id": "a248ce11-f6df-4a86-844d-9efcfeeb9737",
   "metadata": {
    "scrolled": true
   },
   "outputs": [
    {
     "data": {
      "image/png": "[encoded data removed]",
      "text/plain": [
       "<Figure size 864x864 with 1 Axes>"
      ]
     },
     "metadata": {
      "needs_background": "light"
     },
     "output_type": "display_data"
    }
   ],
   "source": [
    "city_freq.plot(kind ='bar', figsize=(12,12))\n",
    "plt.title('Частота появления городов в %')\n",
    "plt.show()"
   ]
  },
  {
   "cell_type": "markdown",
   "id": "caf9c021-7020-4ad8-ab9b-603fb880e099",
   "metadata": {},
   "source": [
    "## соотношение пользователей с подпиской и без подписки"
   ]
  },
  {
   "cell_type": "code",
   "execution_count": 31,
   "id": "7bbd2d63-0617-48e2-92e7-5fb869e20ac8",
   "metadata": {},
   "outputs": [
    {
     "data": {
      "text/plain": [
       "free     0.544329\n",
       "ultra    0.455671\n",
       "Name: subscription_type, dtype: float64"
      ]
     },
     "execution_count": 31,
     "metadata": {},
     "output_type": "execute_result"
    }
   ],
   "source": [
    "count_subs = data_users['subscription_type'].value_counts()\n",
    "count_subs /= count_subs.sum()\n",
    "count_subs"
   ]
  },
  {
   "cell_type": "code",
   "execution_count": 32,
   "id": "bd0c0561-f98a-410a-a93f-303d737aa6ed",
   "metadata": {
    "scrolled": true
   },
   "outputs": [
    {
     "data": {
      "image/png": "[encoded data removed]",
      "text/plain": [
       "<Figure size 576x576 with 1 Axes>"
      ]
     },
     "metadata": {},
     "output_type": "display_data"
    }
   ],
   "source": [
    "count_subs.plot(kind = 'pie', autopct='%1.1f%%',figsize=(8,8),colors = ['lightyellow','pink'])\n",
    "plt.title('Круговая диограмма соотношения подписок')\n",
    "plt.ylabel('Типы подписок')\n",
    "plt.show()"
   ]
  },
  {
   "cell_type": "markdown",
   "id": "23701225-9db8-4359-a5a3-7df8a320b208",
   "metadata": {},
   "source": [
    "#### Больше людей ездят без подписки, хотя 54 и 46 процента +- равносильно"
   ]
  },
  {
   "cell_type": "markdown",
   "id": "969e18e6-587e-4827-b623-a9ed54393108",
   "metadata": {},
   "source": [
    "## возраст пользователей"
   ]
  },
  {
   "cell_type": "code",
   "execution_count": 33,
   "id": "e5b8488a-61a5-4020-8de2-f702e87d9274",
   "metadata": {},
   "outputs": [
    {
     "data": {
      "text/plain": [
       "count    1534.000000\n",
       "mean       24.903520\n",
       "std         4.572367\n",
       "min        12.000000\n",
       "25%        22.000000\n",
       "50%        25.000000\n",
       "75%        28.000000\n",
       "max        43.000000\n",
       "Name: age, dtype: float64"
      ]
     },
     "execution_count": 33,
     "metadata": {},
     "output_type": "execute_result"
    }
   ],
   "source": [
    "data_users['age'].describe()"
   ]
  },
  {
   "cell_type": "code",
   "execution_count": 34,
   "id": "182a37b8-38a5-424b-a43e-30850c8f57c5",
   "metadata": {},
   "outputs": [],
   "source": [
    "freq_age = data_users['age'].value_counts()\n",
    "\n",
    "freq_age_df = freq_age.reset_index()\n",
    "\n",
    "freq_age_df.columns = ['возраст', 'частота']"
   ]
  },
  {
   "cell_type": "code",
   "execution_count": 35,
   "id": "da4baffa-42e9-46c6-bb09-9f33a9ba14cd",
   "metadata": {},
   "outputs": [
    {
     "data": {
      "image/png": "[encoded data removed]",
      "text/plain": [
       "<Figure size 720x576 with 1 Axes>"
      ]
     },
     "metadata": {
      "needs_background": "light"
     },
     "output_type": "display_data"
    }
   ],
   "source": [
    "data_users['age'].plot(kind = 'hist',figsize = (10,8),bins = 32)\n",
    "plt.title('Возраст пользователей')\n",
    "plt.xlabel('Возраст')\n",
    "plt.ylabel('Количество пользователей')\n",
    "plt.show()"
   ]
  },
  {
   "cell_type": "markdown",
   "id": "357721e2-2d4f-4fa8-be25-0677f7b0ed1c",
   "metadata": {},
   "source": [
    "#### Из describe и графика можно сказать, что чаще среди пользователй встречается возраст 25 лет, самый старший пользователь - 43, младший - 12.в 25 - 75 процентиль входят люди от 22 до 28 лет. Распределение похоже на нормальное"
   ]
  },
  {
   "cell_type": "markdown",
   "id": "1a6b6bf3-e970-469d-b10a-1dc75f6eb408",
   "metadata": {},
   "source": [
    "## расстояние, которое пользователь преодолел за одну поездку"
   ]
  },
  {
   "cell_type": "code",
   "execution_count": 36,
   "id": "d3e521ca-4140-4ff5-b63f-93621b3cfa43",
   "metadata": {},
   "outputs": [
    {
     "data": {
      "text/plain": [
       "count    18068.000000\n",
       "mean      3070.659976\n",
       "std       1116.831209\n",
       "min          0.855683\n",
       "25%       2543.226360\n",
       "50%       3133.609994\n",
       "75%       3776.222735\n",
       "max       7211.007745\n",
       "Name: distance, dtype: float64"
      ]
     },
     "execution_count": 36,
     "metadata": {},
     "output_type": "execute_result"
    }
   ],
   "source": [
    "data_rides['distance'].describe()"
   ]
  },
  {
   "cell_type": "code",
   "execution_count": 37,
   "id": "9b3218b2-2cc9-402e-9f0d-857e526b232d",
   "metadata": {},
   "outputs": [
    {
     "data": {
      "image/png": "[encoded data removed]",
      "text/plain": [
       "<Figure size 432x288 with 1 Axes>"
      ]
     },
     "metadata": {
      "needs_background": "light"
     },
     "output_type": "display_data"
    }
   ],
   "source": [
    "distances = data_rides['distance']\n",
    "distances.hist(bins=50)\n",
    "plt.title('Общее расстояние на пользователя')\n",
    "plt.xlabel('Общее расстояние')\n",
    "plt.ylabel('Количество пользователей')\n",
    "plt.show()"
   ]
  },
  {
   "cell_type": "code",
   "execution_count": 38,
   "id": "8285ce55-b9d5-4549-974b-c85ccde1ba32",
   "metadata": {},
   "outputs": [
    {
     "data": {
      "text/html": [
       "<div>\n",
       "<style scoped>\n",
       "    .dataframe tbody tr th:only-of-type {\n",
       "        vertical-align: middle;\n",
       "    }\n",
       "\n",
       "    .dataframe tbody tr th {\n",
       "        vertical-align: top;\n",
       "    }\n",
       "\n",
       "    .dataframe thead th {\n",
       "        text-align: right;\n",
       "    }\n",
       "</style>\n",
       "<table border=\"1\" class=\"dataframe\">\n",
       "  <thead>\n",
       "    <tr style=\"text-align: right;\">\n",
       "      <th></th>\n",
       "      <th>user_id</th>\n",
       "      <th>distance</th>\n",
       "      <th>duration</th>\n",
       "      <th>date</th>\n",
       "      <th>month</th>\n",
       "    </tr>\n",
       "  </thead>\n",
       "  <tbody>\n",
       "    <tr>\n",
       "      <th>197</th>\n",
       "      <td>21</td>\n",
       "      <td>518.341543</td>\n",
       "      <td>10.151870</td>\n",
       "      <td>2021-02-03</td>\n",
       "      <td>2</td>\n",
       "    </tr>\n",
       "    <tr>\n",
       "      <th>204</th>\n",
       "      <td>21</td>\n",
       "      <td>517.912395</td>\n",
       "      <td>14.219625</td>\n",
       "      <td>2021-10-01</td>\n",
       "      <td>10</td>\n",
       "    </tr>\n",
       "    <tr>\n",
       "      <th>228</th>\n",
       "      <td>24</td>\n",
       "      <td>409.829089</td>\n",
       "      <td>10.294197</td>\n",
       "      <td>2021-04-04</td>\n",
       "      <td>4</td>\n",
       "    </tr>\n",
       "    <tr>\n",
       "      <th>406</th>\n",
       "      <td>44</td>\n",
       "      <td>504.654111</td>\n",
       "      <td>4.513962</td>\n",
       "      <td>2021-01-25</td>\n",
       "      <td>1</td>\n",
       "    </tr>\n",
       "    <tr>\n",
       "      <th>463</th>\n",
       "      <td>50</td>\n",
       "      <td>307.532350</td>\n",
       "      <td>6.230129</td>\n",
       "      <td>2021-08-05</td>\n",
       "      <td>8</td>\n",
       "    </tr>\n",
       "    <tr>\n",
       "      <th>...</th>\n",
       "      <td>...</td>\n",
       "      <td>...</td>\n",
       "      <td>...</td>\n",
       "      <td>...</td>\n",
       "      <td>...</td>\n",
       "    </tr>\n",
       "    <tr>\n",
       "      <th>18007</th>\n",
       "      <td>1531</td>\n",
       "      <td>450.981518</td>\n",
       "      <td>15.591699</td>\n",
       "      <td>2021-02-14</td>\n",
       "      <td>2</td>\n",
       "    </tr>\n",
       "    <tr>\n",
       "      <th>18018</th>\n",
       "      <td>1531</td>\n",
       "      <td>375.107762</td>\n",
       "      <td>5.406654</td>\n",
       "      <td>2021-06-27</td>\n",
       "      <td>6</td>\n",
       "    </tr>\n",
       "    <tr>\n",
       "      <th>18031</th>\n",
       "      <td>1532</td>\n",
       "      <td>303.787850</td>\n",
       "      <td>7.792490</td>\n",
       "      <td>2021-05-21</td>\n",
       "      <td>5</td>\n",
       "    </tr>\n",
       "    <tr>\n",
       "      <th>18043</th>\n",
       "      <td>1533</td>\n",
       "      <td>310.488247</td>\n",
       "      <td>10.642389</td>\n",
       "      <td>2021-02-21</td>\n",
       "      <td>2</td>\n",
       "    </tr>\n",
       "    <tr>\n",
       "      <th>18058</th>\n",
       "      <td>1534</td>\n",
       "      <td>195.447469</td>\n",
       "      <td>6.469074</td>\n",
       "      <td>2021-06-11</td>\n",
       "      <td>6</td>\n",
       "    </tr>\n",
       "  </tbody>\n",
       "</table>\n",
       "<p>728 rows × 5 columns</p>\n",
       "</div>"
      ],
      "text/plain": [
       "       user_id    distance   duration       date  month\n",
       "197         21  518.341543  10.151870 2021-02-03      2\n",
       "204         21  517.912395  14.219625 2021-10-01     10\n",
       "228         24  409.829089  10.294197 2021-04-04      4\n",
       "406         44  504.654111   4.513962 2021-01-25      1\n",
       "463         50  307.532350   6.230129 2021-08-05      8\n",
       "...        ...         ...        ...        ...    ...\n",
       "18007     1531  450.981518  15.591699 2021-02-14      2\n",
       "18018     1531  375.107762   5.406654 2021-06-27      6\n",
       "18031     1532  303.787850   7.792490 2021-05-21      5\n",
       "18043     1533  310.488247  10.642389 2021-02-21      2\n",
       "18058     1534  195.447469   6.469074 2021-06-11      6\n",
       "\n",
       "[728 rows x 5 columns]"
      ]
     },
     "execution_count": 38,
     "metadata": {},
     "output_type": "execute_result"
    }
   ],
   "source": [
    "data_rides[data_rides['distance'] < 600]"
   ]
  },
  {
   "cell_type": "code",
   "execution_count": 39,
   "id": "9e5813b5-06d4-4161-9398-b65c070c332b",
   "metadata": {},
   "outputs": [
    {
     "data": {
      "image/png": "[encoded data removed]",
      "text/plain": [
       "<Figure size 432x288 with 1 Axes>"
      ]
     },
     "metadata": {
      "needs_background": "light"
     },
     "output_type": "display_data"
    }
   ],
   "source": [
    "distances.plot(kind='box')\n",
    "plt.title('Boxplot средних расстояний на поездку для каждого пользователя')\n",
    "plt.ylabel('Среднее расстояние на поездку')\n",
    "plt.show()"
   ]
  },
  {
   "cell_type": "code",
   "execution_count": 40,
   "id": "2037cd43-da3d-4b6f-b0d7-614f0be9852b",
   "metadata": {},
   "outputs": [
    {
     "data": {
      "image/png": "[encoded data removed]",
      "text/plain": [
       "<Figure size 432x288 with 1 Axes>"
      ]
     },
     "metadata": {
      "needs_background": "light"
     },
     "output_type": "display_data"
    }
   ],
   "source": [
    "# и второй вариант\n",
    "# среднее расстояние на поездку для каждого пользователя\n",
    "average_distance_per_user = data_rides.groupby('user_id')['distance'].median()\n",
    "\n",
    "average_distance_per_user.hist(bins=30)\n",
    "plt.title('Среднее расстояние на поездку для каждого пользователя')\n",
    "plt.xlabel('Среднее расстояние на поездку')\n",
    "plt.ylabel('Количество пользователей')\n",
    "plt.show()"
   ]
  },
  {
   "cell_type": "code",
   "execution_count": 41,
   "id": "96d9a164-8713-476e-9532-4ac8f55a4084",
   "metadata": {},
   "outputs": [
    {
     "data": {
      "image/png": "[encoded data removed]",
      "text/plain": [
       "<Figure size 432x288 with 1 Axes>"
      ]
     },
     "metadata": {
      "needs_background": "light"
     },
     "output_type": "display_data"
    }
   ],
   "source": [
    "average_distance_per_user.plot(kind='box')\n",
    "plt.title('Boxplot средних расстояний на поездку для каждого пользователя')\n",
    "plt.ylabel('Среднее расстояние на поездку')\n",
    "plt.show()"
   ]
  },
  {
   "cell_type": "markdown",
   "id": "59bbb5b2-3833-4588-99ea-638644b72097",
   "metadata": {},
   "source": [
    "#### В среднем пользователи проезжают чуть больше 3км(3133м), есть значения больше 7км, есть меньше 1 километра, на графике виден \"мини-максимум\" в части пользователей(около 200 пользователей проезжают меньше км, около 800 метров),может быть, нужно быстро добраться куда-то, опаздывают, ногу сломали, а добраться нужно и т.д"
   ]
  },
  {
   "cell_type": "markdown",
   "id": "42597f69-4088-40d9-929a-816e184805bd",
   "metadata": {},
   "source": [
    "## продолжительность поездок"
   ]
  },
  {
   "cell_type": "code",
   "execution_count": 42,
   "id": "817f02ef-266c-4ad8-b9af-b8baf00d3e0c",
   "metadata": {},
   "outputs": [
    {
     "data": {
      "text/plain": [
       "count    18068.000000\n",
       "mean        17.805011\n",
       "std          6.091051\n",
       "min          0.500000\n",
       "25%         13.597563\n",
       "50%         17.678395\n",
       "75%         21.724800\n",
       "max         40.823963\n",
       "Name: duration, dtype: float64"
      ]
     },
     "execution_count": 42,
     "metadata": {},
     "output_type": "execute_result"
    }
   ],
   "source": [
    "data_rides['duration'].describe()"
   ]
  },
  {
   "cell_type": "code",
   "execution_count": 43,
   "id": "9dead824-4a3d-4fc8-96b2-c924add96812",
   "metadata": {},
   "outputs": [
    {
     "data": {
      "image/png": "[encoded data removed]",
      "text/plain": [
       "<Figure size 432x288 with 1 Axes>"
      ]
     },
     "metadata": {
      "needs_background": "light"
     },
     "output_type": "display_data"
    }
   ],
   "source": [
    "data_rides['duration'].plot(kind = 'hist',bins = 50)\n",
    "plt.title('Распределение длительности поездок')\n",
    "plt.xlabel('Длительность')\n",
    "plt.ylabel('Количество поездок')\n",
    "plt.show()"
   ]
  },
  {
   "cell_type": "code",
   "execution_count": 44,
   "id": "1a757a38-63cd-4123-a1b8-2cb6c35b611e",
   "metadata": {},
   "outputs": [
    {
     "data": {
      "image/png": "[encoded data removed]",
      "text/plain": [
       "<Figure size 432x288 with 1 Axes>"
      ]
     },
     "metadata": {
      "needs_background": "light"
     },
     "output_type": "display_data"
    }
   ],
   "source": [
    "data_rides['duration'].plot(kind='box')\n",
    "plt.title('Boxplot длительности поездок')\n",
    "plt.ylabel('Длительность')\n",
    "plt.show()"
   ]
  },
  {
   "cell_type": "markdown",
   "id": "e9618bf4-8a6f-4d26-a9d2-c286e0e946c7",
   "metadata": {},
   "source": [
    "В среднем поездка занимает 17.67 минуты, есть большие значения больше получаса, и маленькие, меньше 1 минуты. Это могут быть выбросы, либо те самые \"лихачи\", котоыре проезжают по 800 метров и делают такой выброс"
   ]
  },
  {
   "cell_type": "code",
   "execution_count": 45,
   "id": "f2941fc6-083b-4deb-9b7c-17b26cb221bc",
   "metadata": {
    "scrolled": true
   },
   "outputs": [
    {
     "data": {
      "text/html": [
       "<div>\n",
       "<style scoped>\n",
       "    .dataframe tbody tr th:only-of-type {\n",
       "        vertical-align: middle;\n",
       "    }\n",
       "\n",
       "    .dataframe tbody tr th {\n",
       "        vertical-align: top;\n",
       "    }\n",
       "\n",
       "    .dataframe thead th {\n",
       "        text-align: right;\n",
       "    }\n",
       "</style>\n",
       "<table border=\"1\" class=\"dataframe\">\n",
       "  <thead>\n",
       "    <tr style=\"text-align: right;\">\n",
       "      <th></th>\n",
       "      <th>user_id</th>\n",
       "      <th>distance</th>\n",
       "      <th>duration</th>\n",
       "      <th>date</th>\n",
       "      <th>month</th>\n",
       "    </tr>\n",
       "  </thead>\n",
       "  <tbody>\n",
       "    <tr>\n",
       "      <th>6531</th>\n",
       "      <td>701</td>\n",
       "      <td>4196.445201</td>\n",
       "      <td>0.5</td>\n",
       "      <td>2021-08-31</td>\n",
       "      <td>8</td>\n",
       "    </tr>\n",
       "    <tr>\n",
       "      <th>6570</th>\n",
       "      <td>704</td>\n",
       "      <td>4830.824371</td>\n",
       "      <td>0.5</td>\n",
       "      <td>2021-10-14</td>\n",
       "      <td>10</td>\n",
       "    </tr>\n",
       "    <tr>\n",
       "      <th>6680</th>\n",
       "      <td>712</td>\n",
       "      <td>4684.004397</td>\n",
       "      <td>0.5</td>\n",
       "      <td>2021-03-04</td>\n",
       "      <td>3</td>\n",
       "    </tr>\n",
       "    <tr>\n",
       "      <th>6883</th>\n",
       "      <td>726</td>\n",
       "      <td>4452.491518</td>\n",
       "      <td>0.5</td>\n",
       "      <td>2021-03-01</td>\n",
       "      <td>3</td>\n",
       "    </tr>\n",
       "    <tr>\n",
       "      <th>7018</th>\n",
       "      <td>735</td>\n",
       "      <td>4406.954812</td>\n",
       "      <td>0.5</td>\n",
       "      <td>2021-04-13</td>\n",
       "      <td>4</td>\n",
       "    </tr>\n",
       "    <tr>\n",
       "      <th>7364</th>\n",
       "      <td>760</td>\n",
       "      <td>4881.391865</td>\n",
       "      <td>0.5</td>\n",
       "      <td>2021-08-29</td>\n",
       "      <td>8</td>\n",
       "    </tr>\n",
       "    <tr>\n",
       "      <th>7437</th>\n",
       "      <td>766</td>\n",
       "      <td>4539.088310</td>\n",
       "      <td>0.5</td>\n",
       "      <td>2021-12-22</td>\n",
       "      <td>12</td>\n",
       "    </tr>\n",
       "    <tr>\n",
       "      <th>7508</th>\n",
       "      <td>772</td>\n",
       "      <td>4718.820996</td>\n",
       "      <td>0.5</td>\n",
       "      <td>2021-05-22</td>\n",
       "      <td>5</td>\n",
       "    </tr>\n",
       "    <tr>\n",
       "      <th>8329</th>\n",
       "      <td>836</td>\n",
       "      <td>4958.922077</td>\n",
       "      <td>0.5</td>\n",
       "      <td>2021-01-12</td>\n",
       "      <td>1</td>\n",
       "    </tr>\n",
       "    <tr>\n",
       "      <th>8472</th>\n",
       "      <td>847</td>\n",
       "      <td>4770.172208</td>\n",
       "      <td>0.5</td>\n",
       "      <td>2021-03-26</td>\n",
       "      <td>3</td>\n",
       "    </tr>\n",
       "    <tr>\n",
       "      <th>9049</th>\n",
       "      <td>890</td>\n",
       "      <td>4848.485014</td>\n",
       "      <td>0.5</td>\n",
       "      <td>2021-11-20</td>\n",
       "      <td>11</td>\n",
       "    </tr>\n",
       "    <tr>\n",
       "      <th>9077</th>\n",
       "      <td>893</td>\n",
       "      <td>4762.120493</td>\n",
       "      <td>0.5</td>\n",
       "      <td>2021-03-18</td>\n",
       "      <td>3</td>\n",
       "    </tr>\n",
       "    <tr>\n",
       "      <th>9282</th>\n",
       "      <td>907</td>\n",
       "      <td>4520.123807</td>\n",
       "      <td>0.5</td>\n",
       "      <td>2021-04-24</td>\n",
       "      <td>4</td>\n",
       "    </tr>\n",
       "    <tr>\n",
       "      <th>9497</th>\n",
       "      <td>922</td>\n",
       "      <td>4620.899239</td>\n",
       "      <td>0.5</td>\n",
       "      <td>2021-01-05</td>\n",
       "      <td>1</td>\n",
       "    </tr>\n",
       "    <tr>\n",
       "      <th>9581</th>\n",
       "      <td>928</td>\n",
       "      <td>4857.412920</td>\n",
       "      <td>0.5</td>\n",
       "      <td>2021-06-06</td>\n",
       "      <td>6</td>\n",
       "    </tr>\n",
       "    <tr>\n",
       "      <th>9698</th>\n",
       "      <td>937</td>\n",
       "      <td>4169.066800</td>\n",
       "      <td>0.5</td>\n",
       "      <td>2021-12-12</td>\n",
       "      <td>12</td>\n",
       "    </tr>\n",
       "    <tr>\n",
       "      <th>10217</th>\n",
       "      <td>973</td>\n",
       "      <td>4578.711073</td>\n",
       "      <td>0.5</td>\n",
       "      <td>2021-03-01</td>\n",
       "      <td>3</td>\n",
       "    </tr>\n",
       "    <tr>\n",
       "      <th>10295</th>\n",
       "      <td>978</td>\n",
       "      <td>4835.931553</td>\n",
       "      <td>0.5</td>\n",
       "      <td>2021-02-12</td>\n",
       "      <td>2</td>\n",
       "    </tr>\n",
       "    <tr>\n",
       "      <th>10484</th>\n",
       "      <td>991</td>\n",
       "      <td>4753.927778</td>\n",
       "      <td>0.5</td>\n",
       "      <td>2021-07-23</td>\n",
       "      <td>7</td>\n",
       "    </tr>\n",
       "    <tr>\n",
       "      <th>10650</th>\n",
       "      <td>1003</td>\n",
       "      <td>4204.302074</td>\n",
       "      <td>0.5</td>\n",
       "      <td>2021-05-17</td>\n",
       "      <td>5</td>\n",
       "    </tr>\n",
       "    <tr>\n",
       "      <th>10692</th>\n",
       "      <td>1006</td>\n",
       "      <td>4106.278268</td>\n",
       "      <td>0.5</td>\n",
       "      <td>2021-10-31</td>\n",
       "      <td>10</td>\n",
       "    </tr>\n",
       "    <tr>\n",
       "      <th>10699</th>\n",
       "      <td>1007</td>\n",
       "      <td>4633.256106</td>\n",
       "      <td>0.5</td>\n",
       "      <td>2021-04-27</td>\n",
       "      <td>4</td>\n",
       "    </tr>\n",
       "    <tr>\n",
       "      <th>11165</th>\n",
       "      <td>1041</td>\n",
       "      <td>4599.798656</td>\n",
       "      <td>0.5</td>\n",
       "      <td>2021-02-26</td>\n",
       "      <td>2</td>\n",
       "    </tr>\n",
       "    <tr>\n",
       "      <th>11822</th>\n",
       "      <td>1088</td>\n",
       "      <td>4533.964591</td>\n",
       "      <td>0.5</td>\n",
       "      <td>2021-11-23</td>\n",
       "      <td>11</td>\n",
       "    </tr>\n",
       "    <tr>\n",
       "      <th>12013</th>\n",
       "      <td>1102</td>\n",
       "      <td>4602.122401</td>\n",
       "      <td>0.5</td>\n",
       "      <td>2021-08-01</td>\n",
       "      <td>8</td>\n",
       "    </tr>\n",
       "    <tr>\n",
       "      <th>12028</th>\n",
       "      <td>1104</td>\n",
       "      <td>4807.103751</td>\n",
       "      <td>0.5</td>\n",
       "      <td>2021-01-06</td>\n",
       "      <td>1</td>\n",
       "    </tr>\n",
       "    <tr>\n",
       "      <th>12354</th>\n",
       "      <td>1128</td>\n",
       "      <td>4703.905427</td>\n",
       "      <td>0.5</td>\n",
       "      <td>2021-09-23</td>\n",
       "      <td>9</td>\n",
       "    </tr>\n",
       "    <tr>\n",
       "      <th>12967</th>\n",
       "      <td>1172</td>\n",
       "      <td>4907.140751</td>\n",
       "      <td>0.5</td>\n",
       "      <td>2021-12-19</td>\n",
       "      <td>12</td>\n",
       "    </tr>\n",
       "    <tr>\n",
       "      <th>13012</th>\n",
       "      <td>1176</td>\n",
       "      <td>4935.071045</td>\n",
       "      <td>0.5</td>\n",
       "      <td>2021-05-14</td>\n",
       "      <td>5</td>\n",
       "    </tr>\n",
       "    <tr>\n",
       "      <th>13698</th>\n",
       "      <td>1224</td>\n",
       "      <td>4430.510768</td>\n",
       "      <td>0.5</td>\n",
       "      <td>2021-01-15</td>\n",
       "      <td>1</td>\n",
       "    </tr>\n",
       "    <tr>\n",
       "      <th>13976</th>\n",
       "      <td>1243</td>\n",
       "      <td>4434.740681</td>\n",
       "      <td>0.5</td>\n",
       "      <td>2021-05-31</td>\n",
       "      <td>5</td>\n",
       "    </tr>\n",
       "    <tr>\n",
       "      <th>14342</th>\n",
       "      <td>1268</td>\n",
       "      <td>4177.139336</td>\n",
       "      <td>0.5</td>\n",
       "      <td>2021-06-09</td>\n",
       "      <td>6</td>\n",
       "    </tr>\n",
       "    <tr>\n",
       "      <th>14417</th>\n",
       "      <td>1273</td>\n",
       "      <td>4178.876258</td>\n",
       "      <td>0.5</td>\n",
       "      <td>2021-04-30</td>\n",
       "      <td>4</td>\n",
       "    </tr>\n",
       "    <tr>\n",
       "      <th>14677</th>\n",
       "      <td>1293</td>\n",
       "      <td>4704.878192</td>\n",
       "      <td>0.5</td>\n",
       "      <td>2021-02-13</td>\n",
       "      <td>2</td>\n",
       "    </tr>\n",
       "    <tr>\n",
       "      <th>14829</th>\n",
       "      <td>1304</td>\n",
       "      <td>4899.706877</td>\n",
       "      <td>0.5</td>\n",
       "      <td>2021-07-28</td>\n",
       "      <td>7</td>\n",
       "    </tr>\n",
       "    <tr>\n",
       "      <th>15015</th>\n",
       "      <td>1317</td>\n",
       "      <td>4593.389022</td>\n",
       "      <td>0.5</td>\n",
       "      <td>2021-07-16</td>\n",
       "      <td>7</td>\n",
       "    </tr>\n",
       "    <tr>\n",
       "      <th>15132</th>\n",
       "      <td>1325</td>\n",
       "      <td>4030.308008</td>\n",
       "      <td>0.5</td>\n",
       "      <td>2021-12-22</td>\n",
       "      <td>12</td>\n",
       "    </tr>\n",
       "    <tr>\n",
       "      <th>15629</th>\n",
       "      <td>1364</td>\n",
       "      <td>4375.042408</td>\n",
       "      <td>0.5</td>\n",
       "      <td>2021-10-23</td>\n",
       "      <td>10</td>\n",
       "    </tr>\n",
       "    <tr>\n",
       "      <th>15636</th>\n",
       "      <td>1364</td>\n",
       "      <td>4697.638430</td>\n",
       "      <td>0.5</td>\n",
       "      <td>2021-12-20</td>\n",
       "      <td>12</td>\n",
       "    </tr>\n",
       "    <tr>\n",
       "      <th>16094</th>\n",
       "      <td>1396</td>\n",
       "      <td>4544.668989</td>\n",
       "      <td>0.5</td>\n",
       "      <td>2021-03-14</td>\n",
       "      <td>3</td>\n",
       "    </tr>\n",
       "    <tr>\n",
       "      <th>16179</th>\n",
       "      <td>1401</td>\n",
       "      <td>4688.979945</td>\n",
       "      <td>0.5</td>\n",
       "      <td>2021-11-19</td>\n",
       "      <td>11</td>\n",
       "    </tr>\n",
       "    <tr>\n",
       "      <th>16336</th>\n",
       "      <td>1412</td>\n",
       "      <td>4247.502137</td>\n",
       "      <td>0.5</td>\n",
       "      <td>2021-11-28</td>\n",
       "      <td>11</td>\n",
       "    </tr>\n",
       "    <tr>\n",
       "      <th>16754</th>\n",
       "      <td>1439</td>\n",
       "      <td>4324.482439</td>\n",
       "      <td>0.5</td>\n",
       "      <td>2021-12-27</td>\n",
       "      <td>12</td>\n",
       "    </tr>\n",
       "    <tr>\n",
       "      <th>17314</th>\n",
       "      <td>1483</td>\n",
       "      <td>4445.481070</td>\n",
       "      <td>0.5</td>\n",
       "      <td>2021-03-06</td>\n",
       "      <td>3</td>\n",
       "    </tr>\n",
       "    <tr>\n",
       "      <th>17909</th>\n",
       "      <td>1524</td>\n",
       "      <td>4103.998874</td>\n",
       "      <td>0.5</td>\n",
       "      <td>2021-06-18</td>\n",
       "      <td>6</td>\n",
       "    </tr>\n",
       "  </tbody>\n",
       "</table>\n",
       "</div>"
      ],
      "text/plain": [
       "       user_id     distance  duration       date  month\n",
       "6531       701  4196.445201       0.5 2021-08-31      8\n",
       "6570       704  4830.824371       0.5 2021-10-14     10\n",
       "6680       712  4684.004397       0.5 2021-03-04      3\n",
       "6883       726  4452.491518       0.5 2021-03-01      3\n",
       "7018       735  4406.954812       0.5 2021-04-13      4\n",
       "7364       760  4881.391865       0.5 2021-08-29      8\n",
       "7437       766  4539.088310       0.5 2021-12-22     12\n",
       "7508       772  4718.820996       0.5 2021-05-22      5\n",
       "8329       836  4958.922077       0.5 2021-01-12      1\n",
       "8472       847  4770.172208       0.5 2021-03-26      3\n",
       "9049       890  4848.485014       0.5 2021-11-20     11\n",
       "9077       893  4762.120493       0.5 2021-03-18      3\n",
       "9282       907  4520.123807       0.5 2021-04-24      4\n",
       "9497       922  4620.899239       0.5 2021-01-05      1\n",
       "9581       928  4857.412920       0.5 2021-06-06      6\n",
       "9698       937  4169.066800       0.5 2021-12-12     12\n",
       "10217      973  4578.711073       0.5 2021-03-01      3\n",
       "10295      978  4835.931553       0.5 2021-02-12      2\n",
       "10484      991  4753.927778       0.5 2021-07-23      7\n",
       "10650     1003  4204.302074       0.5 2021-05-17      5\n",
       "10692     1006  4106.278268       0.5 2021-10-31     10\n",
       "10699     1007  4633.256106       0.5 2021-04-27      4\n",
       "11165     1041  4599.798656       0.5 2021-02-26      2\n",
       "11822     1088  4533.964591       0.5 2021-11-23     11\n",
       "12013     1102  4602.122401       0.5 2021-08-01      8\n",
       "12028     1104  4807.103751       0.5 2021-01-06      1\n",
       "12354     1128  4703.905427       0.5 2021-09-23      9\n",
       "12967     1172  4907.140751       0.5 2021-12-19     12\n",
       "13012     1176  4935.071045       0.5 2021-05-14      5\n",
       "13698     1224  4430.510768       0.5 2021-01-15      1\n",
       "13976     1243  4434.740681       0.5 2021-05-31      5\n",
       "14342     1268  4177.139336       0.5 2021-06-09      6\n",
       "14417     1273  4178.876258       0.5 2021-04-30      4\n",
       "14677     1293  4704.878192       0.5 2021-02-13      2\n",
       "14829     1304  4899.706877       0.5 2021-07-28      7\n",
       "15015     1317  4593.389022       0.5 2021-07-16      7\n",
       "15132     1325  4030.308008       0.5 2021-12-22     12\n",
       "15629     1364  4375.042408       0.5 2021-10-23     10\n",
       "15636     1364  4697.638430       0.5 2021-12-20     12\n",
       "16094     1396  4544.668989       0.5 2021-03-14      3\n",
       "16179     1401  4688.979945       0.5 2021-11-19     11\n",
       "16336     1412  4247.502137       0.5 2021-11-28     11\n",
       "16754     1439  4324.482439       0.5 2021-12-27     12\n",
       "17314     1483  4445.481070       0.5 2021-03-06      3\n",
       "17909     1524  4103.998874       0.5 2021-06-18      6"
      ]
     },
     "execution_count": 45,
     "metadata": {},
     "output_type": "execute_result"
    }
   ],
   "source": [
    "data_rides[(data_rides['duration'] < 0.5001)&(data_rides['distance']<5000)]"
   ]
  },
  {
   "cell_type": "code",
   "execution_count": 46,
   "id": "0aaaa1e1-427a-4058-9bf5-642ed31287a9",
   "metadata": {},
   "outputs": [
    {
     "data": {
      "text/html": [
       "<div>\n",
       "<style scoped>\n",
       "    .dataframe tbody tr th:only-of-type {\n",
       "        vertical-align: middle;\n",
       "    }\n",
       "\n",
       "    .dataframe tbody tr th {\n",
       "        vertical-align: top;\n",
       "    }\n",
       "\n",
       "    .dataframe thead th {\n",
       "        text-align: right;\n",
       "    }\n",
       "</style>\n",
       "<table border=\"1\" class=\"dataframe\">\n",
       "  <thead>\n",
       "    <tr style=\"text-align: right;\">\n",
       "      <th></th>\n",
       "      <th>user_id</th>\n",
       "      <th>distance</th>\n",
       "      <th>duration</th>\n",
       "      <th>date</th>\n",
       "      <th>month</th>\n",
       "    </tr>\n",
       "  </thead>\n",
       "  <tbody>\n",
       "  </tbody>\n",
       "</table>\n",
       "</div>"
      ],
      "text/plain": [
       "Empty DataFrame\n",
       "Columns: [user_id, distance, duration, date, month]\n",
       "Index: []"
      ]
     },
     "execution_count": 46,
     "metadata": {},
     "output_type": "execute_result"
    }
   ],
   "source": [
    "data_rides[(data_rides['duration'] < 0.5001)&(data_rides['distance']<500)]"
   ]
  },
  {
   "cell_type": "markdown",
   "id": "c2f2943c-1e3f-4b9e-8bb6-8e08767eaf56",
   "metadata": {},
   "source": [
    "Экспериментальным путем были выявлены записи, где расстояние больше 4 км, а длительность СТРОГО полсекунды - скорее всего, это 0.5 часа и длительность поездки округлилась до 30 минут, либо закончились деньги на поездку. 95 записей из 18 тысяч = 0.5% от общей информации, так что удалим эти записи и оставим только приблизительно нормально описывающие всю совокупность"
   ]
  },
  {
   "cell_type": "code",
   "execution_count": 47,
   "id": "8ce38f82-792e-443f-a4a0-26326792b4bb",
   "metadata": {},
   "outputs": [],
   "source": [
    "data_rides = data_rides[data_rides['duration'] != 0.5]\n"
   ]
  },
  {
   "cell_type": "code",
   "execution_count": 48,
   "id": "98f2ac6f-38ec-433c-9bed-a5d48294d79b",
   "metadata": {},
   "outputs": [
    {
     "data": {
      "image/png": "[encoded data removed]",
      "text/plain": [
       "<Figure size 432x288 with 1 Axes>"
      ]
     },
     "metadata": {
      "needs_background": "light"
     },
     "output_type": "display_data"
    }
   ],
   "source": [
    "data_rides['duration'].plot(kind = 'hist',bins = 50)\n",
    "plt.title('Распределение длительности поездок')\n",
    "plt.xlabel('Длительность')\n",
    "plt.ylabel('Количество поездок')\n",
    "plt.show()"
   ]
  },
  {
   "cell_type": "markdown",
   "id": "f35f93d3-2995-424c-b5aa-7e664e1d9dd9",
   "metadata": {},
   "source": [
    "Стало получшe"
   ]
  },
  {
   "cell_type": "code",
   "execution_count": 49,
   "id": "e2b41758-4810-4bd4-835d-a52029702e1f",
   "metadata": {},
   "outputs": [
    {
     "data": {
      "text/plain": [
       "count    17973.000000\n",
       "mean        17.896480\n",
       "std          5.975424\n",
       "min          2.035632\n",
       "25%         13.670439\n",
       "50%         17.714122\n",
       "75%         21.747016\n",
       "max         40.823963\n",
       "Name: duration, dtype: float64"
      ]
     },
     "execution_count": 49,
     "metadata": {},
     "output_type": "execute_result"
    }
   ],
   "source": [
    "data_rides['duration'].describe()"
   ]
  },
  {
   "cell_type": "markdown",
   "id": "a110625f-1147-4695-ad97-553427973851",
   "metadata": {},
   "source": [
    "#### средняя продолжительность поездки чуть выросла(мат ожидание, получается) до 17.71 с 17.69. Основная часть поездок укладывается в 14-22 минуту.На вид данные имеют Гауссовское распределение."
   ]
  },
  {
   "cell_type": "markdown",
   "id": "74c69c53-ba96-4025-9da9-6921a309dc01",
   "metadata": {},
   "source": [
    "## Итог\n",
    "### 1.Частота встречаемости городов\n",
    "#### Преобладает Пятигорск, Екатеринбург и Ростов,  все города в диапозоне 10.95-14.27 %\n",
    "### 2.соотношение пользователей с подпиской и без подписки\n",
    "#### Больше людей ездят без подписки, чем с подпской. Соотношение 54.4% и 45.6%\n",
    "### 3.возраст пользователей\n",
    "#### чаще среди пользователей встречается возраст 25 лет, самый старший пользователь - 43, младший - 12.Основной возраст пользователей от 22 до 28 лет\n",
    "### 4.расстояние, которое пользователь преодолел за одну поездку\n",
    "#### В среднем пользователи проезжают чуть больше 3км(3133м), есть значения больше 7км, есть меньше 1 километра,около 200 пользователей проезжают #меньше км, около 800 метров,может быть, нужно быстро добраться куда-то, опаздывают, ногу сломали, а добраться нужно и т.д\n",
    "### 5.продолжительность поездок\n",
    "#### средняя продолжительность поездки равна 17.71 минут. Основная часть поездок укладывается в 14-22 минуты."
   ]
  },
  {
   "cell_type": "markdown",
   "id": "7b3d6272-81b7-43be-8680-ec3c9fdf13a2",
   "metadata": {},
   "source": [
    "## Объединение данных"
   ]
  },
  {
   "cell_type": "markdown",
   "id": "b940f31a-56f0-49d9-afeb-cde8928dfb39",
   "metadata": {},
   "source": [
    "### Три df круто, а одна сводная таблица - лучше"
   ]
  },
  {
   "cell_type": "code",
   "execution_count": 50,
   "id": "0208014d-f1f8-4c18-b74c-009b7ff30061",
   "metadata": {},
   "outputs": [
    {
     "data": {
      "text/html": [
       "<div>\n",
       "<style scoped>\n",
       "    .dataframe tbody tr th:only-of-type {\n",
       "        vertical-align: middle;\n",
       "    }\n",
       "\n",
       "    .dataframe tbody tr th {\n",
       "        vertical-align: top;\n",
       "    }\n",
       "\n",
       "    .dataframe thead th {\n",
       "        text-align: right;\n",
       "    }\n",
       "</style>\n",
       "<table border=\"1\" class=\"dataframe\">\n",
       "  <thead>\n",
       "    <tr style=\"text-align: right;\">\n",
       "      <th></th>\n",
       "      <th>user_id</th>\n",
       "      <th>name</th>\n",
       "      <th>age</th>\n",
       "      <th>city</th>\n",
       "      <th>subscription_type</th>\n",
       "      <th>distance</th>\n",
       "      <th>duration</th>\n",
       "      <th>date</th>\n",
       "      <th>month</th>\n",
       "    </tr>\n",
       "  </thead>\n",
       "  <tbody>\n",
       "    <tr>\n",
       "      <th>0</th>\n",
       "      <td>1</td>\n",
       "      <td>Кира</td>\n",
       "      <td>22</td>\n",
       "      <td>Тюмень</td>\n",
       "      <td>ultra</td>\n",
       "      <td>4409.919140</td>\n",
       "      <td>25.599769</td>\n",
       "      <td>2021-01-01</td>\n",
       "      <td>1</td>\n",
       "    </tr>\n",
       "    <tr>\n",
       "      <th>1</th>\n",
       "      <td>1</td>\n",
       "      <td>Кира</td>\n",
       "      <td>22</td>\n",
       "      <td>Тюмень</td>\n",
       "      <td>ultra</td>\n",
       "      <td>2617.592153</td>\n",
       "      <td>15.816871</td>\n",
       "      <td>2021-01-18</td>\n",
       "      <td>1</td>\n",
       "    </tr>\n",
       "    <tr>\n",
       "      <th>2</th>\n",
       "      <td>1</td>\n",
       "      <td>Кира</td>\n",
       "      <td>22</td>\n",
       "      <td>Тюмень</td>\n",
       "      <td>ultra</td>\n",
       "      <td>754.159807</td>\n",
       "      <td>6.232113</td>\n",
       "      <td>2021-04-20</td>\n",
       "      <td>4</td>\n",
       "    </tr>\n",
       "    <tr>\n",
       "      <th>3</th>\n",
       "      <td>1</td>\n",
       "      <td>Кира</td>\n",
       "      <td>22</td>\n",
       "      <td>Тюмень</td>\n",
       "      <td>ultra</td>\n",
       "      <td>2694.783254</td>\n",
       "      <td>18.511000</td>\n",
       "      <td>2021-08-11</td>\n",
       "      <td>8</td>\n",
       "    </tr>\n",
       "    <tr>\n",
       "      <th>4</th>\n",
       "      <td>1</td>\n",
       "      <td>Кира</td>\n",
       "      <td>22</td>\n",
       "      <td>Тюмень</td>\n",
       "      <td>ultra</td>\n",
       "      <td>4028.687306</td>\n",
       "      <td>26.265803</td>\n",
       "      <td>2021-08-28</td>\n",
       "      <td>8</td>\n",
       "    </tr>\n",
       "    <tr>\n",
       "      <th>...</th>\n",
       "      <td>...</td>\n",
       "      <td>...</td>\n",
       "      <td>...</td>\n",
       "      <td>...</td>\n",
       "      <td>...</td>\n",
       "      <td>...</td>\n",
       "      <td>...</td>\n",
       "      <td>...</td>\n",
       "      <td>...</td>\n",
       "    </tr>\n",
       "    <tr>\n",
       "      <th>17968</th>\n",
       "      <td>1534</td>\n",
       "      <td>Альберт</td>\n",
       "      <td>25</td>\n",
       "      <td>Краснодар</td>\n",
       "      <td>free</td>\n",
       "      <td>3781.098080</td>\n",
       "      <td>19.822962</td>\n",
       "      <td>2021-11-04</td>\n",
       "      <td>11</td>\n",
       "    </tr>\n",
       "    <tr>\n",
       "      <th>17969</th>\n",
       "      <td>1534</td>\n",
       "      <td>Альберт</td>\n",
       "      <td>25</td>\n",
       "      <td>Краснодар</td>\n",
       "      <td>free</td>\n",
       "      <td>2840.423057</td>\n",
       "      <td>21.409799</td>\n",
       "      <td>2021-11-16</td>\n",
       "      <td>11</td>\n",
       "    </tr>\n",
       "    <tr>\n",
       "      <th>17970</th>\n",
       "      <td>1534</td>\n",
       "      <td>Альберт</td>\n",
       "      <td>25</td>\n",
       "      <td>Краснодар</td>\n",
       "      <td>free</td>\n",
       "      <td>3826.185507</td>\n",
       "      <td>18.435051</td>\n",
       "      <td>2021-11-18</td>\n",
       "      <td>11</td>\n",
       "    </tr>\n",
       "    <tr>\n",
       "      <th>17971</th>\n",
       "      <td>1534</td>\n",
       "      <td>Альберт</td>\n",
       "      <td>25</td>\n",
       "      <td>Краснодар</td>\n",
       "      <td>free</td>\n",
       "      <td>2902.308661</td>\n",
       "      <td>16.674362</td>\n",
       "      <td>2021-11-27</td>\n",
       "      <td>11</td>\n",
       "    </tr>\n",
       "    <tr>\n",
       "      <th>17972</th>\n",
       "      <td>1534</td>\n",
       "      <td>Альберт</td>\n",
       "      <td>25</td>\n",
       "      <td>Краснодар</td>\n",
       "      <td>free</td>\n",
       "      <td>2371.711192</td>\n",
       "      <td>15.893917</td>\n",
       "      <td>2021-12-29</td>\n",
       "      <td>12</td>\n",
       "    </tr>\n",
       "  </tbody>\n",
       "</table>\n",
       "<p>17973 rows × 9 columns</p>\n",
       "</div>"
      ],
      "text/plain": [
       "       user_id     name  age       city subscription_type     distance  \\\n",
       "0            1     Кира   22     Тюмень             ultra  4409.919140   \n",
       "1            1     Кира   22     Тюмень             ultra  2617.592153   \n",
       "2            1     Кира   22     Тюмень             ultra   754.159807   \n",
       "3            1     Кира   22     Тюмень             ultra  2694.783254   \n",
       "4            1     Кира   22     Тюмень             ultra  4028.687306   \n",
       "...        ...      ...  ...        ...               ...          ...   \n",
       "17968     1534  Альберт   25  Краснодар              free  3781.098080   \n",
       "17969     1534  Альберт   25  Краснодар              free  2840.423057   \n",
       "17970     1534  Альберт   25  Краснодар              free  3826.185507   \n",
       "17971     1534  Альберт   25  Краснодар              free  2902.308661   \n",
       "17972     1534  Альберт   25  Краснодар              free  2371.711192   \n",
       "\n",
       "        duration       date  month  \n",
       "0      25.599769 2021-01-01      1  \n",
       "1      15.816871 2021-01-18      1  \n",
       "2       6.232113 2021-04-20      4  \n",
       "3      18.511000 2021-08-11      8  \n",
       "4      26.265803 2021-08-28      8  \n",
       "...          ...        ...    ...  \n",
       "17968  19.822962 2021-11-04     11  \n",
       "17969  21.409799 2021-11-16     11  \n",
       "17970  18.435051 2021-11-18     11  \n",
       "17971  16.674362 2021-11-27     11  \n",
       "17972  15.893917 2021-12-29     12  \n",
       "\n",
       "[17973 rows x 9 columns]"
      ]
     },
     "execution_count": 50,
     "metadata": {},
     "output_type": "execute_result"
    }
   ],
   "source": [
    "merged_users_and_rides = data_users.merge(data_rides,on = 'user_id',how = 'left')\n",
    "merged_users_and_rides"
   ]
  },
  {
   "cell_type": "code",
   "execution_count": 51,
   "id": "d34af2f6-4057-45ae-a783-fb5537c78e8e",
   "metadata": {
    "scrolled": true
   },
   "outputs": [
    {
     "data": {
      "text/html": [
       "<div>\n",
       "<style scoped>\n",
       "    .dataframe tbody tr th:only-of-type {\n",
       "        vertical-align: middle;\n",
       "    }\n",
       "\n",
       "    .dataframe tbody tr th {\n",
       "        vertical-align: top;\n",
       "    }\n",
       "\n",
       "    .dataframe thead th {\n",
       "        text-align: right;\n",
       "    }\n",
       "</style>\n",
       "<table border=\"1\" class=\"dataframe\">\n",
       "  <thead>\n",
       "    <tr style=\"text-align: right;\">\n",
       "      <th></th>\n",
       "      <th>user_id</th>\n",
       "      <th>name</th>\n",
       "      <th>age</th>\n",
       "      <th>city</th>\n",
       "      <th>distance</th>\n",
       "      <th>duration</th>\n",
       "      <th>date</th>\n",
       "      <th>month</th>\n",
       "      <th>subscription_type</th>\n",
       "    </tr>\n",
       "  </thead>\n",
       "  <tbody>\n",
       "    <tr>\n",
       "      <th>0</th>\n",
       "      <td>1</td>\n",
       "      <td>Кира</td>\n",
       "      <td>22</td>\n",
       "      <td>Тюмень</td>\n",
       "      <td>4409.919140</td>\n",
       "      <td>25.599769</td>\n",
       "      <td>2021-01-01</td>\n",
       "      <td>1</td>\n",
       "      <td>ultra</td>\n",
       "    </tr>\n",
       "    <tr>\n",
       "      <th>1</th>\n",
       "      <td>1</td>\n",
       "      <td>Кира</td>\n",
       "      <td>22</td>\n",
       "      <td>Тюмень</td>\n",
       "      <td>2617.592153</td>\n",
       "      <td>15.816871</td>\n",
       "      <td>2021-01-18</td>\n",
       "      <td>1</td>\n",
       "      <td>ultra</td>\n",
       "    </tr>\n",
       "    <tr>\n",
       "      <th>2</th>\n",
       "      <td>1</td>\n",
       "      <td>Кира</td>\n",
       "      <td>22</td>\n",
       "      <td>Тюмень</td>\n",
       "      <td>754.159807</td>\n",
       "      <td>6.232113</td>\n",
       "      <td>2021-04-20</td>\n",
       "      <td>4</td>\n",
       "      <td>ultra</td>\n",
       "    </tr>\n",
       "    <tr>\n",
       "      <th>3</th>\n",
       "      <td>1</td>\n",
       "      <td>Кира</td>\n",
       "      <td>22</td>\n",
       "      <td>Тюмень</td>\n",
       "      <td>2694.783254</td>\n",
       "      <td>18.511000</td>\n",
       "      <td>2021-08-11</td>\n",
       "      <td>8</td>\n",
       "      <td>ultra</td>\n",
       "    </tr>\n",
       "    <tr>\n",
       "      <th>4</th>\n",
       "      <td>1</td>\n",
       "      <td>Кира</td>\n",
       "      <td>22</td>\n",
       "      <td>Тюмень</td>\n",
       "      <td>4028.687306</td>\n",
       "      <td>26.265803</td>\n",
       "      <td>2021-08-28</td>\n",
       "      <td>8</td>\n",
       "      <td>ultra</td>\n",
       "    </tr>\n",
       "    <tr>\n",
       "      <th>...</th>\n",
       "      <td>...</td>\n",
       "      <td>...</td>\n",
       "      <td>...</td>\n",
       "      <td>...</td>\n",
       "      <td>...</td>\n",
       "      <td>...</td>\n",
       "      <td>...</td>\n",
       "      <td>...</td>\n",
       "      <td>...</td>\n",
       "    </tr>\n",
       "    <tr>\n",
       "      <th>17968</th>\n",
       "      <td>1534</td>\n",
       "      <td>Альберт</td>\n",
       "      <td>25</td>\n",
       "      <td>Краснодар</td>\n",
       "      <td>3781.098080</td>\n",
       "      <td>19.822962</td>\n",
       "      <td>2021-11-04</td>\n",
       "      <td>11</td>\n",
       "      <td>free</td>\n",
       "    </tr>\n",
       "    <tr>\n",
       "      <th>17969</th>\n",
       "      <td>1534</td>\n",
       "      <td>Альберт</td>\n",
       "      <td>25</td>\n",
       "      <td>Краснодар</td>\n",
       "      <td>2840.423057</td>\n",
       "      <td>21.409799</td>\n",
       "      <td>2021-11-16</td>\n",
       "      <td>11</td>\n",
       "      <td>free</td>\n",
       "    </tr>\n",
       "    <tr>\n",
       "      <th>17970</th>\n",
       "      <td>1534</td>\n",
       "      <td>Альберт</td>\n",
       "      <td>25</td>\n",
       "      <td>Краснодар</td>\n",
       "      <td>3826.185507</td>\n",
       "      <td>18.435051</td>\n",
       "      <td>2021-11-18</td>\n",
       "      <td>11</td>\n",
       "      <td>free</td>\n",
       "    </tr>\n",
       "    <tr>\n",
       "      <th>17971</th>\n",
       "      <td>1534</td>\n",
       "      <td>Альберт</td>\n",
       "      <td>25</td>\n",
       "      <td>Краснодар</td>\n",
       "      <td>2902.308661</td>\n",
       "      <td>16.674362</td>\n",
       "      <td>2021-11-27</td>\n",
       "      <td>11</td>\n",
       "      <td>free</td>\n",
       "    </tr>\n",
       "    <tr>\n",
       "      <th>17972</th>\n",
       "      <td>1534</td>\n",
       "      <td>Альберт</td>\n",
       "      <td>25</td>\n",
       "      <td>Краснодар</td>\n",
       "      <td>2371.711192</td>\n",
       "      <td>15.893917</td>\n",
       "      <td>2021-12-29</td>\n",
       "      <td>12</td>\n",
       "      <td>free</td>\n",
       "    </tr>\n",
       "  </tbody>\n",
       "</table>\n",
       "<p>17973 rows × 9 columns</p>\n",
       "</div>"
      ],
      "text/plain": [
       "       user_id     name  age       city     distance   duration       date  \\\n",
       "0            1     Кира   22     Тюмень  4409.919140  25.599769 2021-01-01   \n",
       "1            1     Кира   22     Тюмень  2617.592153  15.816871 2021-01-18   \n",
       "2            1     Кира   22     Тюмень   754.159807   6.232113 2021-04-20   \n",
       "3            1     Кира   22     Тюмень  2694.783254  18.511000 2021-08-11   \n",
       "4            1     Кира   22     Тюмень  4028.687306  26.265803 2021-08-28   \n",
       "...        ...      ...  ...        ...          ...        ...        ...   \n",
       "17968     1534  Альберт   25  Краснодар  3781.098080  19.822962 2021-11-04   \n",
       "17969     1534  Альберт   25  Краснодар  2840.423057  21.409799 2021-11-16   \n",
       "17970     1534  Альберт   25  Краснодар  3826.185507  18.435051 2021-11-18   \n",
       "17971     1534  Альберт   25  Краснодар  2902.308661  16.674362 2021-11-27   \n",
       "17972     1534  Альберт   25  Краснодар  2371.711192  15.893917 2021-12-29   \n",
       "\n",
       "       month subscription_type  \n",
       "0          1             ultra  \n",
       "1          1             ultra  \n",
       "2          4             ultra  \n",
       "3          8             ultra  \n",
       "4          8             ultra  \n",
       "...      ...               ...  \n",
       "17968     11              free  \n",
       "17969     11              free  \n",
       "17970     11              free  \n",
       "17971     11              free  \n",
       "17972     12              free  \n",
       "\n",
       "[17973 rows x 9 columns]"
      ]
     },
     "execution_count": 51,
     "metadata": {},
     "output_type": "execute_result"
    }
   ],
   "source": [
    "# Перекину колонку с подпиской в конец, так удобнее\n",
    "columns = [col for col in merged_users_and_rides.columns if col != 'subscription_type']\n",
    "\n",
    "columns.append('subscription_type')\n",
    "\n",
    "merged_users_and_rides = merged_users_and_rides[columns]\n",
    "merged_users_and_rides"
   ]
  },
  {
   "cell_type": "code",
   "execution_count": 52,
   "id": "dd56d9e9-1ce1-45cd-978f-df86d4aee0fd",
   "metadata": {
    "scrolled": true
   },
   "outputs": [
    {
     "data": {
      "text/html": [
       "<div>\n",
       "<style scoped>\n",
       "    .dataframe tbody tr th:only-of-type {\n",
       "        vertical-align: middle;\n",
       "    }\n",
       "\n",
       "    .dataframe tbody tr th {\n",
       "        vertical-align: top;\n",
       "    }\n",
       "\n",
       "    .dataframe thead th {\n",
       "        text-align: right;\n",
       "    }\n",
       "</style>\n",
       "<table border=\"1\" class=\"dataframe\">\n",
       "  <thead>\n",
       "    <tr style=\"text-align: right;\">\n",
       "      <th></th>\n",
       "      <th>user_id</th>\n",
       "      <th>name</th>\n",
       "      <th>age</th>\n",
       "      <th>city</th>\n",
       "      <th>distance</th>\n",
       "      <th>duration</th>\n",
       "      <th>date</th>\n",
       "      <th>month</th>\n",
       "      <th>subscription_type</th>\n",
       "      <th>minute_price</th>\n",
       "      <th>start_ride_price</th>\n",
       "      <th>subscription_fee</th>\n",
       "    </tr>\n",
       "  </thead>\n",
       "  <tbody>\n",
       "    <tr>\n",
       "      <th>0</th>\n",
       "      <td>1</td>\n",
       "      <td>Кира</td>\n",
       "      <td>22</td>\n",
       "      <td>Тюмень</td>\n",
       "      <td>4409.919140</td>\n",
       "      <td>25.599769</td>\n",
       "      <td>2021-01-01</td>\n",
       "      <td>1</td>\n",
       "      <td>ultra</td>\n",
       "      <td>6</td>\n",
       "      <td>0</td>\n",
       "      <td>199</td>\n",
       "    </tr>\n",
       "    <tr>\n",
       "      <th>1</th>\n",
       "      <td>1</td>\n",
       "      <td>Кира</td>\n",
       "      <td>22</td>\n",
       "      <td>Тюмень</td>\n",
       "      <td>2617.592153</td>\n",
       "      <td>15.816871</td>\n",
       "      <td>2021-01-18</td>\n",
       "      <td>1</td>\n",
       "      <td>ultra</td>\n",
       "      <td>6</td>\n",
       "      <td>0</td>\n",
       "      <td>199</td>\n",
       "    </tr>\n",
       "    <tr>\n",
       "      <th>2</th>\n",
       "      <td>1</td>\n",
       "      <td>Кира</td>\n",
       "      <td>22</td>\n",
       "      <td>Тюмень</td>\n",
       "      <td>754.159807</td>\n",
       "      <td>6.232113</td>\n",
       "      <td>2021-04-20</td>\n",
       "      <td>4</td>\n",
       "      <td>ultra</td>\n",
       "      <td>6</td>\n",
       "      <td>0</td>\n",
       "      <td>199</td>\n",
       "    </tr>\n",
       "    <tr>\n",
       "      <th>3</th>\n",
       "      <td>1</td>\n",
       "      <td>Кира</td>\n",
       "      <td>22</td>\n",
       "      <td>Тюмень</td>\n",
       "      <td>2694.783254</td>\n",
       "      <td>18.511000</td>\n",
       "      <td>2021-08-11</td>\n",
       "      <td>8</td>\n",
       "      <td>ultra</td>\n",
       "      <td>6</td>\n",
       "      <td>0</td>\n",
       "      <td>199</td>\n",
       "    </tr>\n",
       "    <tr>\n",
       "      <th>4</th>\n",
       "      <td>1</td>\n",
       "      <td>Кира</td>\n",
       "      <td>22</td>\n",
       "      <td>Тюмень</td>\n",
       "      <td>4028.687306</td>\n",
       "      <td>26.265803</td>\n",
       "      <td>2021-08-28</td>\n",
       "      <td>8</td>\n",
       "      <td>ultra</td>\n",
       "      <td>6</td>\n",
       "      <td>0</td>\n",
       "      <td>199</td>\n",
       "    </tr>\n",
       "    <tr>\n",
       "      <th>...</th>\n",
       "      <td>...</td>\n",
       "      <td>...</td>\n",
       "      <td>...</td>\n",
       "      <td>...</td>\n",
       "      <td>...</td>\n",
       "      <td>...</td>\n",
       "      <td>...</td>\n",
       "      <td>...</td>\n",
       "      <td>...</td>\n",
       "      <td>...</td>\n",
       "      <td>...</td>\n",
       "      <td>...</td>\n",
       "    </tr>\n",
       "    <tr>\n",
       "      <th>17968</th>\n",
       "      <td>1534</td>\n",
       "      <td>Альберт</td>\n",
       "      <td>25</td>\n",
       "      <td>Краснодар</td>\n",
       "      <td>3781.098080</td>\n",
       "      <td>19.822962</td>\n",
       "      <td>2021-11-04</td>\n",
       "      <td>11</td>\n",
       "      <td>free</td>\n",
       "      <td>8</td>\n",
       "      <td>50</td>\n",
       "      <td>0</td>\n",
       "    </tr>\n",
       "    <tr>\n",
       "      <th>17969</th>\n",
       "      <td>1534</td>\n",
       "      <td>Альберт</td>\n",
       "      <td>25</td>\n",
       "      <td>Краснодар</td>\n",
       "      <td>2840.423057</td>\n",
       "      <td>21.409799</td>\n",
       "      <td>2021-11-16</td>\n",
       "      <td>11</td>\n",
       "      <td>free</td>\n",
       "      <td>8</td>\n",
       "      <td>50</td>\n",
       "      <td>0</td>\n",
       "    </tr>\n",
       "    <tr>\n",
       "      <th>17970</th>\n",
       "      <td>1534</td>\n",
       "      <td>Альберт</td>\n",
       "      <td>25</td>\n",
       "      <td>Краснодар</td>\n",
       "      <td>3826.185507</td>\n",
       "      <td>18.435051</td>\n",
       "      <td>2021-11-18</td>\n",
       "      <td>11</td>\n",
       "      <td>free</td>\n",
       "      <td>8</td>\n",
       "      <td>50</td>\n",
       "      <td>0</td>\n",
       "    </tr>\n",
       "    <tr>\n",
       "      <th>17971</th>\n",
       "      <td>1534</td>\n",
       "      <td>Альберт</td>\n",
       "      <td>25</td>\n",
       "      <td>Краснодар</td>\n",
       "      <td>2902.308661</td>\n",
       "      <td>16.674362</td>\n",
       "      <td>2021-11-27</td>\n",
       "      <td>11</td>\n",
       "      <td>free</td>\n",
       "      <td>8</td>\n",
       "      <td>50</td>\n",
       "      <td>0</td>\n",
       "    </tr>\n",
       "    <tr>\n",
       "      <th>17972</th>\n",
       "      <td>1534</td>\n",
       "      <td>Альберт</td>\n",
       "      <td>25</td>\n",
       "      <td>Краснодар</td>\n",
       "      <td>2371.711192</td>\n",
       "      <td>15.893917</td>\n",
       "      <td>2021-12-29</td>\n",
       "      <td>12</td>\n",
       "      <td>free</td>\n",
       "      <td>8</td>\n",
       "      <td>50</td>\n",
       "      <td>0</td>\n",
       "    </tr>\n",
       "  </tbody>\n",
       "</table>\n",
       "<p>17973 rows × 12 columns</p>\n",
       "</div>"
      ],
      "text/plain": [
       "       user_id     name  age       city     distance   duration       date  \\\n",
       "0            1     Кира   22     Тюмень  4409.919140  25.599769 2021-01-01   \n",
       "1            1     Кира   22     Тюмень  2617.592153  15.816871 2021-01-18   \n",
       "2            1     Кира   22     Тюмень   754.159807   6.232113 2021-04-20   \n",
       "3            1     Кира   22     Тюмень  2694.783254  18.511000 2021-08-11   \n",
       "4            1     Кира   22     Тюмень  4028.687306  26.265803 2021-08-28   \n",
       "...        ...      ...  ...        ...          ...        ...        ...   \n",
       "17968     1534  Альберт   25  Краснодар  3781.098080  19.822962 2021-11-04   \n",
       "17969     1534  Альберт   25  Краснодар  2840.423057  21.409799 2021-11-16   \n",
       "17970     1534  Альберт   25  Краснодар  3826.185507  18.435051 2021-11-18   \n",
       "17971     1534  Альберт   25  Краснодар  2902.308661  16.674362 2021-11-27   \n",
       "17972     1534  Альберт   25  Краснодар  2371.711192  15.893917 2021-12-29   \n",
       "\n",
       "       month subscription_type  minute_price  start_ride_price  \\\n",
       "0          1             ultra             6                 0   \n",
       "1          1             ultra             6                 0   \n",
       "2          4             ultra             6                 0   \n",
       "3          8             ultra             6                 0   \n",
       "4          8             ultra             6                 0   \n",
       "...      ...               ...           ...               ...   \n",
       "17968     11              free             8                50   \n",
       "17969     11              free             8                50   \n",
       "17970     11              free             8                50   \n",
       "17971     11              free             8                50   \n",
       "17972     12              free             8                50   \n",
       "\n",
       "       subscription_fee  \n",
       "0                   199  \n",
       "1                   199  \n",
       "2                   199  \n",
       "3                   199  \n",
       "4                   199  \n",
       "...                 ...  \n",
       "17968                 0  \n",
       "17969                 0  \n",
       "17970                 0  \n",
       "17971                 0  \n",
       "17972                 0  \n",
       "\n",
       "[17973 rows x 12 columns]"
      ]
     },
     "execution_count": 52,
     "metadata": {},
     "output_type": "execute_result"
    }
   ],
   "source": [
    "pivot_df = merged_users_and_rides.merge(data_subs,on ='subscription_type',how = 'left')\n",
    "pivot_df"
   ]
  },
  {
   "cell_type": "markdown",
   "id": "8906f8dc-3977-4700-a117-bfb76b86e0bd",
   "metadata": {},
   "source": [
    "Симпатишно😏"
   ]
  },
  {
   "cell_type": "markdown",
   "id": "ec1ba543",
   "metadata": {},
   "source": [
    "Проверим на корректность объединения"
   ]
  },
  {
   "cell_type": "code",
   "execution_count": 53,
   "id": "d9c43c84",
   "metadata": {},
   "outputs": [
    {
     "data": {
      "text/plain": [
       "True"
      ]
     },
     "execution_count": 53,
     "metadata": {},
     "output_type": "execute_result"
    }
   ],
   "source": [
    "pivot_df['user_id'].count() == merged_users_and_rides['user_id'].count()"
   ]
  },
  {
   "cell_type": "code",
   "execution_count": 54,
   "id": "51629c24",
   "metadata": {},
   "outputs": [
    {
     "data": {
      "text/plain": [
       "user_id              0\n",
       "name                 0\n",
       "age                  0\n",
       "city                 0\n",
       "distance             0\n",
       "duration             0\n",
       "date                 0\n",
       "month                0\n",
       "subscription_type    0\n",
       "minute_price         0\n",
       "start_ride_price     0\n",
       "subscription_fee     0\n",
       "dtype: int64"
      ]
     },
     "execution_count": 54,
     "metadata": {},
     "output_type": "execute_result"
    }
   ],
   "source": [
    "pivot_df.isna().sum()"
   ]
  },
  {
   "cell_type": "markdown",
   "id": "8a5c441f",
   "metadata": {},
   "source": [
    "Данные объединились корректно"
   ]
  },
  {
   "cell_type": "markdown",
   "id": "03faf40d-2be3-46a3-9852-f0814d44f612",
   "metadata": {},
   "source": [
    "### Теперь отделим пользователей free от ultra, раскидаем на разные df"
   ]
  },
  {
   "cell_type": "markdown",
   "id": "1eab9e45-5b5b-4491-961c-4e9bf7bdf5fe",
   "metadata": {},
   "source": [
    "Создам отдельные df для free и для ultra"
   ]
  },
  {
   "cell_type": "code",
   "execution_count": 55,
   "id": "21db260c-171d-4c0c-9cb8-d24b1c495b8c",
   "metadata": {},
   "outputs": [
    {
     "data": {
      "text/plain": [
       "array(['free'], dtype=object)"
      ]
     },
     "metadata": {},
     "output_type": "display_data"
    },
    {
     "data": {
      "text/html": [
       "<div>\n",
       "<style scoped>\n",
       "    .dataframe tbody tr th:only-of-type {\n",
       "        vertical-align: middle;\n",
       "    }\n",
       "\n",
       "    .dataframe tbody tr th {\n",
       "        vertical-align: top;\n",
       "    }\n",
       "\n",
       "    .dataframe thead th {\n",
       "        text-align: right;\n",
       "    }\n",
       "</style>\n",
       "<table border=\"1\" class=\"dataframe\">\n",
       "  <thead>\n",
       "    <tr style=\"text-align: right;\">\n",
       "      <th></th>\n",
       "      <th>user_id</th>\n",
       "      <th>name</th>\n",
       "      <th>age</th>\n",
       "      <th>city</th>\n",
       "      <th>distance</th>\n",
       "      <th>duration</th>\n",
       "      <th>date</th>\n",
       "      <th>month</th>\n",
       "      <th>subscription_type</th>\n",
       "      <th>minute_price</th>\n",
       "      <th>start_ride_price</th>\n",
       "      <th>subscription_fee</th>\n",
       "    </tr>\n",
       "  </thead>\n",
       "  <tbody>\n",
       "    <tr>\n",
       "      <th>6500</th>\n",
       "      <td>700</td>\n",
       "      <td>Айдар</td>\n",
       "      <td>22</td>\n",
       "      <td>Омск</td>\n",
       "      <td>2515.690719</td>\n",
       "      <td>14.944286</td>\n",
       "      <td>2021-01-02</td>\n",
       "      <td>1</td>\n",
       "      <td>free</td>\n",
       "      <td>8</td>\n",
       "      <td>50</td>\n",
       "      <td>0</td>\n",
       "    </tr>\n",
       "    <tr>\n",
       "      <th>6501</th>\n",
       "      <td>700</td>\n",
       "      <td>Айдар</td>\n",
       "      <td>22</td>\n",
       "      <td>Омск</td>\n",
       "      <td>846.932642</td>\n",
       "      <td>16.234663</td>\n",
       "      <td>2021-02-01</td>\n",
       "      <td>2</td>\n",
       "      <td>free</td>\n",
       "      <td>8</td>\n",
       "      <td>50</td>\n",
       "      <td>0</td>\n",
       "    </tr>\n",
       "    <tr>\n",
       "      <th>6502</th>\n",
       "      <td>700</td>\n",
       "      <td>Айдар</td>\n",
       "      <td>22</td>\n",
       "      <td>Омск</td>\n",
       "      <td>4004.434142</td>\n",
       "      <td>20.016628</td>\n",
       "      <td>2021-02-04</td>\n",
       "      <td>2</td>\n",
       "      <td>free</td>\n",
       "      <td>8</td>\n",
       "      <td>50</td>\n",
       "      <td>0</td>\n",
       "    </tr>\n",
       "    <tr>\n",
       "      <th>6503</th>\n",
       "      <td>700</td>\n",
       "      <td>Айдар</td>\n",
       "      <td>22</td>\n",
       "      <td>Омск</td>\n",
       "      <td>1205.911290</td>\n",
       "      <td>9.782872</td>\n",
       "      <td>2021-02-10</td>\n",
       "      <td>2</td>\n",
       "      <td>free</td>\n",
       "      <td>8</td>\n",
       "      <td>50</td>\n",
       "      <td>0</td>\n",
       "    </tr>\n",
       "    <tr>\n",
       "      <th>6504</th>\n",
       "      <td>700</td>\n",
       "      <td>Айдар</td>\n",
       "      <td>22</td>\n",
       "      <td>Омск</td>\n",
       "      <td>3047.379435</td>\n",
       "      <td>17.427673</td>\n",
       "      <td>2021-02-14</td>\n",
       "      <td>2</td>\n",
       "      <td>free</td>\n",
       "      <td>8</td>\n",
       "      <td>50</td>\n",
       "      <td>0</td>\n",
       "    </tr>\n",
       "    <tr>\n",
       "      <th>...</th>\n",
       "      <td>...</td>\n",
       "      <td>...</td>\n",
       "      <td>...</td>\n",
       "      <td>...</td>\n",
       "      <td>...</td>\n",
       "      <td>...</td>\n",
       "      <td>...</td>\n",
       "      <td>...</td>\n",
       "      <td>...</td>\n",
       "      <td>...</td>\n",
       "      <td>...</td>\n",
       "      <td>...</td>\n",
       "    </tr>\n",
       "    <tr>\n",
       "      <th>17968</th>\n",
       "      <td>1534</td>\n",
       "      <td>Альберт</td>\n",
       "      <td>25</td>\n",
       "      <td>Краснодар</td>\n",
       "      <td>3781.098080</td>\n",
       "      <td>19.822962</td>\n",
       "      <td>2021-11-04</td>\n",
       "      <td>11</td>\n",
       "      <td>free</td>\n",
       "      <td>8</td>\n",
       "      <td>50</td>\n",
       "      <td>0</td>\n",
       "    </tr>\n",
       "    <tr>\n",
       "      <th>17969</th>\n",
       "      <td>1534</td>\n",
       "      <td>Альберт</td>\n",
       "      <td>25</td>\n",
       "      <td>Краснодар</td>\n",
       "      <td>2840.423057</td>\n",
       "      <td>21.409799</td>\n",
       "      <td>2021-11-16</td>\n",
       "      <td>11</td>\n",
       "      <td>free</td>\n",
       "      <td>8</td>\n",
       "      <td>50</td>\n",
       "      <td>0</td>\n",
       "    </tr>\n",
       "    <tr>\n",
       "      <th>17970</th>\n",
       "      <td>1534</td>\n",
       "      <td>Альберт</td>\n",
       "      <td>25</td>\n",
       "      <td>Краснодар</td>\n",
       "      <td>3826.185507</td>\n",
       "      <td>18.435051</td>\n",
       "      <td>2021-11-18</td>\n",
       "      <td>11</td>\n",
       "      <td>free</td>\n",
       "      <td>8</td>\n",
       "      <td>50</td>\n",
       "      <td>0</td>\n",
       "    </tr>\n",
       "    <tr>\n",
       "      <th>17971</th>\n",
       "      <td>1534</td>\n",
       "      <td>Альберт</td>\n",
       "      <td>25</td>\n",
       "      <td>Краснодар</td>\n",
       "      <td>2902.308661</td>\n",
       "      <td>16.674362</td>\n",
       "      <td>2021-11-27</td>\n",
       "      <td>11</td>\n",
       "      <td>free</td>\n",
       "      <td>8</td>\n",
       "      <td>50</td>\n",
       "      <td>0</td>\n",
       "    </tr>\n",
       "    <tr>\n",
       "      <th>17972</th>\n",
       "      <td>1534</td>\n",
       "      <td>Альберт</td>\n",
       "      <td>25</td>\n",
       "      <td>Краснодар</td>\n",
       "      <td>2371.711192</td>\n",
       "      <td>15.893917</td>\n",
       "      <td>2021-12-29</td>\n",
       "      <td>12</td>\n",
       "      <td>free</td>\n",
       "      <td>8</td>\n",
       "      <td>50</td>\n",
       "      <td>0</td>\n",
       "    </tr>\n",
       "  </tbody>\n",
       "</table>\n",
       "<p>11473 rows × 12 columns</p>\n",
       "</div>"
      ],
      "text/plain": [
       "       user_id     name  age       city     distance   duration       date  \\\n",
       "6500       700    Айдар   22       Омск  2515.690719  14.944286 2021-01-02   \n",
       "6501       700    Айдар   22       Омск   846.932642  16.234663 2021-02-01   \n",
       "6502       700    Айдар   22       Омск  4004.434142  20.016628 2021-02-04   \n",
       "6503       700    Айдар   22       Омск  1205.911290   9.782872 2021-02-10   \n",
       "6504       700    Айдар   22       Омск  3047.379435  17.427673 2021-02-14   \n",
       "...        ...      ...  ...        ...          ...        ...        ...   \n",
       "17968     1534  Альберт   25  Краснодар  3781.098080  19.822962 2021-11-04   \n",
       "17969     1534  Альберт   25  Краснодар  2840.423057  21.409799 2021-11-16   \n",
       "17970     1534  Альберт   25  Краснодар  3826.185507  18.435051 2021-11-18   \n",
       "17971     1534  Альберт   25  Краснодар  2902.308661  16.674362 2021-11-27   \n",
       "17972     1534  Альберт   25  Краснодар  2371.711192  15.893917 2021-12-29   \n",
       "\n",
       "       month subscription_type  minute_price  start_ride_price  \\\n",
       "6500       1              free             8                50   \n",
       "6501       2              free             8                50   \n",
       "6502       2              free             8                50   \n",
       "6503       2              free             8                50   \n",
       "6504       2              free             8                50   \n",
       "...      ...               ...           ...               ...   \n",
       "17968     11              free             8                50   \n",
       "17969     11              free             8                50   \n",
       "17970     11              free             8                50   \n",
       "17971     11              free             8                50   \n",
       "17972     12              free             8                50   \n",
       "\n",
       "       subscription_fee  \n",
       "6500                  0  \n",
       "6501                  0  \n",
       "6502                  0  \n",
       "6503                  0  \n",
       "6504                  0  \n",
       "...                 ...  \n",
       "17968                 0  \n",
       "17969                 0  \n",
       "17970                 0  \n",
       "17971                 0  \n",
       "17972                 0  \n",
       "\n",
       "[11473 rows x 12 columns]"
      ]
     },
     "metadata": {},
     "output_type": "display_data"
    }
   ],
   "source": [
    "# для free\n",
    "df_free = pivot_df[pivot_df['subscription_type']=='free']\n",
    "display(df_free['subscription_type'].unique())\n",
    "display(df_free)"
   ]
  },
  {
   "cell_type": "code",
   "execution_count": 56,
   "id": "d42be05e-61ef-4c5d-9c47-f94f1272ad0b",
   "metadata": {},
   "outputs": [
    {
     "data": {
      "text/plain": [
       "array(['ultra'], dtype=object)"
      ]
     },
     "metadata": {},
     "output_type": "display_data"
    },
    {
     "data": {
      "text/html": [
       "<div>\n",
       "<style scoped>\n",
       "    .dataframe tbody tr th:only-of-type {\n",
       "        vertical-align: middle;\n",
       "    }\n",
       "\n",
       "    .dataframe tbody tr th {\n",
       "        vertical-align: top;\n",
       "    }\n",
       "\n",
       "    .dataframe thead th {\n",
       "        text-align: right;\n",
       "    }\n",
       "</style>\n",
       "<table border=\"1\" class=\"dataframe\">\n",
       "  <thead>\n",
       "    <tr style=\"text-align: right;\">\n",
       "      <th></th>\n",
       "      <th>user_id</th>\n",
       "      <th>name</th>\n",
       "      <th>age</th>\n",
       "      <th>city</th>\n",
       "      <th>distance</th>\n",
       "      <th>duration</th>\n",
       "      <th>date</th>\n",
       "      <th>month</th>\n",
       "      <th>subscription_type</th>\n",
       "      <th>minute_price</th>\n",
       "      <th>start_ride_price</th>\n",
       "      <th>subscription_fee</th>\n",
       "    </tr>\n",
       "  </thead>\n",
       "  <tbody>\n",
       "    <tr>\n",
       "      <th>0</th>\n",
       "      <td>1</td>\n",
       "      <td>Кира</td>\n",
       "      <td>22</td>\n",
       "      <td>Тюмень</td>\n",
       "      <td>4409.919140</td>\n",
       "      <td>25.599769</td>\n",
       "      <td>2021-01-01</td>\n",
       "      <td>1</td>\n",
       "      <td>ultra</td>\n",
       "      <td>6</td>\n",
       "      <td>0</td>\n",
       "      <td>199</td>\n",
       "    </tr>\n",
       "    <tr>\n",
       "      <th>1</th>\n",
       "      <td>1</td>\n",
       "      <td>Кира</td>\n",
       "      <td>22</td>\n",
       "      <td>Тюмень</td>\n",
       "      <td>2617.592153</td>\n",
       "      <td>15.816871</td>\n",
       "      <td>2021-01-18</td>\n",
       "      <td>1</td>\n",
       "      <td>ultra</td>\n",
       "      <td>6</td>\n",
       "      <td>0</td>\n",
       "      <td>199</td>\n",
       "    </tr>\n",
       "    <tr>\n",
       "      <th>2</th>\n",
       "      <td>1</td>\n",
       "      <td>Кира</td>\n",
       "      <td>22</td>\n",
       "      <td>Тюмень</td>\n",
       "      <td>754.159807</td>\n",
       "      <td>6.232113</td>\n",
       "      <td>2021-04-20</td>\n",
       "      <td>4</td>\n",
       "      <td>ultra</td>\n",
       "      <td>6</td>\n",
       "      <td>0</td>\n",
       "      <td>199</td>\n",
       "    </tr>\n",
       "    <tr>\n",
       "      <th>3</th>\n",
       "      <td>1</td>\n",
       "      <td>Кира</td>\n",
       "      <td>22</td>\n",
       "      <td>Тюмень</td>\n",
       "      <td>2694.783254</td>\n",
       "      <td>18.511000</td>\n",
       "      <td>2021-08-11</td>\n",
       "      <td>8</td>\n",
       "      <td>ultra</td>\n",
       "      <td>6</td>\n",
       "      <td>0</td>\n",
       "      <td>199</td>\n",
       "    </tr>\n",
       "    <tr>\n",
       "      <th>4</th>\n",
       "      <td>1</td>\n",
       "      <td>Кира</td>\n",
       "      <td>22</td>\n",
       "      <td>Тюмень</td>\n",
       "      <td>4028.687306</td>\n",
       "      <td>26.265803</td>\n",
       "      <td>2021-08-28</td>\n",
       "      <td>8</td>\n",
       "      <td>ultra</td>\n",
       "      <td>6</td>\n",
       "      <td>0</td>\n",
       "      <td>199</td>\n",
       "    </tr>\n",
       "    <tr>\n",
       "      <th>...</th>\n",
       "      <td>...</td>\n",
       "      <td>...</td>\n",
       "      <td>...</td>\n",
       "      <td>...</td>\n",
       "      <td>...</td>\n",
       "      <td>...</td>\n",
       "      <td>...</td>\n",
       "      <td>...</td>\n",
       "      <td>...</td>\n",
       "      <td>...</td>\n",
       "      <td>...</td>\n",
       "      <td>...</td>\n",
       "    </tr>\n",
       "    <tr>\n",
       "      <th>6495</th>\n",
       "      <td>699</td>\n",
       "      <td>Оксана</td>\n",
       "      <td>22</td>\n",
       "      <td>Москва</td>\n",
       "      <td>3973.046497</td>\n",
       "      <td>24.671163</td>\n",
       "      <td>2021-08-29</td>\n",
       "      <td>8</td>\n",
       "      <td>ultra</td>\n",
       "      <td>6</td>\n",
       "      <td>0</td>\n",
       "      <td>199</td>\n",
       "    </tr>\n",
       "    <tr>\n",
       "      <th>6496</th>\n",
       "      <td>699</td>\n",
       "      <td>Оксана</td>\n",
       "      <td>22</td>\n",
       "      <td>Москва</td>\n",
       "      <td>3288.702563</td>\n",
       "      <td>15.892886</td>\n",
       "      <td>2021-09-12</td>\n",
       "      <td>9</td>\n",
       "      <td>ultra</td>\n",
       "      <td>6</td>\n",
       "      <td>0</td>\n",
       "      <td>199</td>\n",
       "    </tr>\n",
       "    <tr>\n",
       "      <th>6497</th>\n",
       "      <td>699</td>\n",
       "      <td>Оксана</td>\n",
       "      <td>22</td>\n",
       "      <td>Москва</td>\n",
       "      <td>3076.159348</td>\n",
       "      <td>14.389525</td>\n",
       "      <td>2021-09-26</td>\n",
       "      <td>9</td>\n",
       "      <td>ultra</td>\n",
       "      <td>6</td>\n",
       "      <td>0</td>\n",
       "      <td>199</td>\n",
       "    </tr>\n",
       "    <tr>\n",
       "      <th>6498</th>\n",
       "      <td>699</td>\n",
       "      <td>Оксана</td>\n",
       "      <td>22</td>\n",
       "      <td>Москва</td>\n",
       "      <td>4707.845501</td>\n",
       "      <td>15.839579</td>\n",
       "      <td>2021-10-17</td>\n",
       "      <td>10</td>\n",
       "      <td>ultra</td>\n",
       "      <td>6</td>\n",
       "      <td>0</td>\n",
       "      <td>199</td>\n",
       "    </tr>\n",
       "    <tr>\n",
       "      <th>6499</th>\n",
       "      <td>699</td>\n",
       "      <td>Оксана</td>\n",
       "      <td>22</td>\n",
       "      <td>Москва</td>\n",
       "      <td>3202.890770</td>\n",
       "      <td>25.217345</td>\n",
       "      <td>2021-12-03</td>\n",
       "      <td>12</td>\n",
       "      <td>ultra</td>\n",
       "      <td>6</td>\n",
       "      <td>0</td>\n",
       "      <td>199</td>\n",
       "    </tr>\n",
       "  </tbody>\n",
       "</table>\n",
       "<p>6500 rows × 12 columns</p>\n",
       "</div>"
      ],
      "text/plain": [
       "      user_id    name  age    city     distance   duration       date  month  \\\n",
       "0           1    Кира   22  Тюмень  4409.919140  25.599769 2021-01-01      1   \n",
       "1           1    Кира   22  Тюмень  2617.592153  15.816871 2021-01-18      1   \n",
       "2           1    Кира   22  Тюмень   754.159807   6.232113 2021-04-20      4   \n",
       "3           1    Кира   22  Тюмень  2694.783254  18.511000 2021-08-11      8   \n",
       "4           1    Кира   22  Тюмень  4028.687306  26.265803 2021-08-28      8   \n",
       "...       ...     ...  ...     ...          ...        ...        ...    ...   \n",
       "6495      699  Оксана   22  Москва  3973.046497  24.671163 2021-08-29      8   \n",
       "6496      699  Оксана   22  Москва  3288.702563  15.892886 2021-09-12      9   \n",
       "6497      699  Оксана   22  Москва  3076.159348  14.389525 2021-09-26      9   \n",
       "6498      699  Оксана   22  Москва  4707.845501  15.839579 2021-10-17     10   \n",
       "6499      699  Оксана   22  Москва  3202.890770  25.217345 2021-12-03     12   \n",
       "\n",
       "     subscription_type  minute_price  start_ride_price  subscription_fee  \n",
       "0                ultra             6                 0               199  \n",
       "1                ultra             6                 0               199  \n",
       "2                ultra             6                 0               199  \n",
       "3                ultra             6                 0               199  \n",
       "4                ultra             6                 0               199  \n",
       "...                ...           ...               ...               ...  \n",
       "6495             ultra             6                 0               199  \n",
       "6496             ultra             6                 0               199  \n",
       "6497             ultra             6                 0               199  \n",
       "6498             ultra             6                 0               199  \n",
       "6499             ultra             6                 0               199  \n",
       "\n",
       "[6500 rows x 12 columns]"
      ]
     },
     "metadata": {},
     "output_type": "display_data"
    }
   ],
   "source": [
    "# для ultra\n",
    "df_ultra = pivot_df[pivot_df['subscription_type']=='ultra']\n",
    "display(df_ultra['subscription_type'].unique())\n",
    "display(df_ultra)"
   ]
  },
  {
   "cell_type": "markdown",
   "id": "61b99307-93ff-4515-a706-4d25622c4592",
   "metadata": {},
   "source": [
    "Записей в df_free 11568 против 6500 записй о поездках для пользователей в df_ultra, что похоже на правду, чаще всего пользователи берут самокаты на 1-2 поездки и поэтмоу нет мысла брать подписку(например. погулять по городу в отпуске или просто срочно добраться конкретно сейчас)"
   ]
  },
  {
   "cell_type": "markdown",
   "id": "a1b83215",
   "metadata": {},
   "source": [
    "Проверим на пропуски после разделения"
   ]
  },
  {
   "cell_type": "code",
   "execution_count": 57,
   "id": "5299b963",
   "metadata": {},
   "outputs": [
    {
     "data": {
      "text/plain": [
       "(user_id              0\n",
       " name                 0\n",
       " age                  0\n",
       " city                 0\n",
       " distance             0\n",
       " duration             0\n",
       " date                 0\n",
       " month                0\n",
       " subscription_type    0\n",
       " minute_price         0\n",
       " start_ride_price     0\n",
       " subscription_fee     0\n",
       " dtype: int64,\n",
       " user_id              0\n",
       " name                 0\n",
       " age                  0\n",
       " city                 0\n",
       " distance             0\n",
       " duration             0\n",
       " date                 0\n",
       " month                0\n",
       " subscription_type    0\n",
       " minute_price         0\n",
       " start_ride_price     0\n",
       " subscription_fee     0\n",
       " dtype: int64)"
      ]
     },
     "execution_count": 57,
     "metadata": {},
     "output_type": "execute_result"
    }
   ],
   "source": [
    "df_ultra.isna().sum(), df_free.isna().sum()"
   ]
  },
  {
   "cell_type": "markdown",
   "id": "a9b8a6fe",
   "metadata": {},
   "source": [
    "It's ok"
   ]
  },
  {
   "cell_type": "markdown",
   "id": "6bed3c40-cd2f-4073-8b56-217e1341e8db",
   "metadata": {},
   "source": [
    "### Посмотрим, сколько проезжает две категории(подбираемся к гипотезам...)"
   ]
  },
  {
   "cell_type": "code",
   "execution_count": 58,
   "id": "7ae7f590-f307-473a-9327-51fafe5289a6",
   "metadata": {},
   "outputs": [
    {
     "data": {
      "image/png": "[encoded data removed]",
      "text/plain": [
       "<Figure size 864x864 with 2 Axes>"
      ]
     },
     "metadata": {
      "needs_background": "light"
     },
     "output_type": "display_data"
    }
   ],
   "source": [
    "fig, axes = plt.subplots(nrows=1, ncols=2, figsize=(12, 12))\n",
    "axes[0].hist(df_free['distance'],bins = 50, alpha=0.8, label='Free')\n",
    "axes[0].hist(df_ultra['distance'],bins = 50, alpha=0.8, label = 'Ultra')\n",
    "axes[0].set_title('Дистанция поездок ')\n",
    "axes[0].set_ylabel('Количество')\n",
    "axes[0].legend()\n",
    "plt.grid()\n",
    "axes[1].hist(df_free['duration'],bins = 50, alpha=0.8, label='Free')\n",
    "axes[1].hist(df_ultra['duration'],bins = 50, alpha=0.8, label = 'Ultra')\n",
    "axes[1].set_title('Длительность поездок ')\n",
    "axes[1].set_ylabel('Количество')\n",
    "axes[1].legend()\n",
    "plt.tight_layout()\n",
    "plt.grid()\n",
    "plt.show()"
   ]
  },
  {
   "cell_type": "markdown",
   "id": "d90b3edb-09af-4812-b6be-876c0c1a7488",
   "metadata": {},
   "source": [
    "Распределение длительности поездок:\n",
    "\n",
    "Для обеих категорий пользователей (с подпиской и без подписки) длительность поездок, судя по графикам, имеет распределение, похожее на нормальное.\n",
    "Большинство поездок длятся от 5 до 30 минут, с пиком около 15-25 минут.\n",
    "Это может указывать на то, что пользователи предпочитают короткие поездки, возможно, используя самокаты для быстрых поездок на короткие расстояния, например, от метро до дома или от работы до обеденного места.\n",
    "\n",
    "Распределение дистанции поездок:\n",
    "\n",
    "Графики показывают, что большинство поездок имеют дистанцию в пределах от 0 до примерно 2000-2500 метров.\n",
    "\n",
    "Есть заметный \"хвост\" на графиках дистанции, что указывает на наличие более длинных поездок, но их значительно меньше, чем коротких.\n",
    "\n",
    "Наличие длинного хвоста в распределении дистанции поездок указывает на то, что хотя большинство поездок являются короткими, существует заметное количество поездок на большие расстояния. Это может быть связано с использованием самокатов для разных целей, включая, например, досуг или поездки на работу.\n",
    "\n",
    "Более обще: пользователи имеют хожие цели аренды самокатов."
   ]
  },
  {
   "cell_type": "code",
   "execution_count": 59,
   "id": "3891799b",
   "metadata": {
    "scrolled": true
   },
   "outputs": [
    {
     "data": {
      "text/plain": [
       "(            user_id           age      distance      duration         month  \\\n",
       " count  11473.000000  11473.000000  11473.000000  11473.000000  11473.000000   \n",
       " mean    1120.761701     24.888782   3028.374239     17.530771      6.523316   \n",
       " std      241.138659      4.482066   1235.541051      6.162609      3.447707   \n",
       " min      700.000000     12.000000      0.855683      2.035632      1.000000   \n",
       " 25%      915.000000     22.000000   2360.878149     13.085688      4.000000   \n",
       " 50%     1123.000000     25.000000   3102.083025     17.383807      7.000000   \n",
       " 75%     1329.000000     28.000000   3883.979311     21.638038      9.000000   \n",
       " max     1534.000000     43.000000   7066.003772     34.948498     12.000000   \n",
       " \n",
       "        minute_price  start_ride_price  subscription_fee  \n",
       " count       11473.0           11473.0           11473.0  \n",
       " mean            8.0              50.0               0.0  \n",
       " std             0.0               0.0               0.0  \n",
       " min             8.0              50.0               0.0  \n",
       " 25%             8.0              50.0               0.0  \n",
       " 50%             8.0              50.0               0.0  \n",
       " 75%             8.0              50.0               0.0  \n",
       " max             8.0              50.0               0.0  ,\n",
       "            user_id          age     distance     duration        month  \\\n",
       " count  6500.000000  6500.000000  6500.000000  6500.000000  6500.000000   \n",
       " mean    348.725385    24.892615  3115.445388    18.541985     6.422308   \n",
       " std     201.099339     4.757208   836.895330     5.572048     3.414616   \n",
       " min       1.000000    12.000000   244.210438     3.760353     1.000000   \n",
       " 25%     175.000000    22.000000  2785.444017    14.524654     4.000000   \n",
       " 50%     351.000000    25.000000  3148.637229    18.178153     6.000000   \n",
       " 75%     525.000000    28.000000  3560.574425    21.884129     9.000000   \n",
       " max     699.000000    38.000000  5699.769662    40.823963    12.000000   \n",
       " \n",
       "        minute_price  start_ride_price  subscription_fee  \n",
       " count        6500.0            6500.0            6500.0  \n",
       " mean            6.0               0.0             199.0  \n",
       " std             0.0               0.0               0.0  \n",
       " min             6.0               0.0             199.0  \n",
       " 25%             6.0               0.0             199.0  \n",
       " 50%             6.0               0.0             199.0  \n",
       " 75%             6.0               0.0             199.0  \n",
       " max             6.0               0.0             199.0  )"
      ]
     },
     "execution_count": 59,
     "metadata": {},
     "output_type": "execute_result"
    }
   ],
   "source": [
    "df_free.describe(), df_ultra.describe()"
   ]
  },
  {
   "cell_type": "markdown",
   "id": "4c6ae363",
   "metadata": {},
   "source": [
    "В среднем пользователи сподпиской проезжают большее расстояние: 3115.445388 метров,против free -3028.374239б метров,\n",
    "\n",
    "длительность поездки в среднем больше у пользователей с подпиской 18.541985 минут, против 17.530771 минут у пользователей без подписки  \n",
    "\n",
    "Это может говорить о целесообразности привлекать новых пользователей приобретать подписку"
   ]
  },
  {
   "cell_type": "markdown",
   "id": "a9fb9c88-5e27-4a64-8207-66dfd31ba866",
   "metadata": {},
   "source": [
    "## Считаем выручку"
   ]
  },
  {
   "cell_type": "markdown",
   "id": "89210937-cf44-4f2f-a8e4-1872a617e41c",
   "metadata": {},
   "source": [
    "### Создать df с агрегированными данными о поездках на основе датафрейма с объединёнными данными: \n",
    "#### найти суммарное расстояние, количество поездок и суммарное время для каждого пользователя за каждый месяц."
   ]
  },
  {
   "cell_type": "code",
   "execution_count": 60,
   "id": "7d0c0c43-6fa3-4afd-ba9a-40b937dbb708",
   "metadata": {
    "scrolled": true
   },
   "outputs": [
    {
     "name": "stdout",
     "output_type": "stream",
     "text": [
      "<class 'pandas.core.frame.DataFrame'>\n",
      "RangeIndex: 11300 entries, 0 to 11299\n",
      "Data columns (total 5 columns):\n",
      " #   Column        Non-Null Count  Dtype  \n",
      "---  ------        --------------  -----  \n",
      " 0   user_id       11300 non-null  int64  \n",
      " 1   month         11300 non-null  int64  \n",
      " 2   total_dist    11300 non-null  float64\n",
      " 3   amount_rides  11300 non-null  int64  \n",
      " 4   total_dur     11300 non-null  float64\n",
      "dtypes: float64(2), int64(3)\n",
      "memory usage: 441.5 KB\n"
     ]
    },
    {
     "data": {
      "text/plain": [
       "None"
      ]
     },
     "metadata": {},
     "output_type": "display_data"
    },
    {
     "data": {
      "text/html": [
       "<div>\n",
       "<style scoped>\n",
       "    .dataframe tbody tr th:only-of-type {\n",
       "        vertical-align: middle;\n",
       "    }\n",
       "\n",
       "    .dataframe tbody tr th {\n",
       "        vertical-align: top;\n",
       "    }\n",
       "\n",
       "    .dataframe thead th {\n",
       "        text-align: right;\n",
       "    }\n",
       "</style>\n",
       "<table border=\"1\" class=\"dataframe\">\n",
       "  <thead>\n",
       "    <tr style=\"text-align: right;\">\n",
       "      <th></th>\n",
       "      <th>user_id</th>\n",
       "      <th>month</th>\n",
       "      <th>total_dist</th>\n",
       "      <th>amount_rides</th>\n",
       "      <th>total_dur</th>\n",
       "    </tr>\n",
       "  </thead>\n",
       "  <tbody>\n",
       "    <tr>\n",
       "      <th>0</th>\n",
       "      <td>1</td>\n",
       "      <td>1</td>\n",
       "      <td>7027.511294</td>\n",
       "      <td>2</td>\n",
       "      <td>41.416640</td>\n",
       "    </tr>\n",
       "    <tr>\n",
       "      <th>1</th>\n",
       "      <td>1</td>\n",
       "      <td>4</td>\n",
       "      <td>754.159807</td>\n",
       "      <td>1</td>\n",
       "      <td>6.232113</td>\n",
       "    </tr>\n",
       "    <tr>\n",
       "      <th>2</th>\n",
       "      <td>1</td>\n",
       "      <td>8</td>\n",
       "      <td>6723.470560</td>\n",
       "      <td>2</td>\n",
       "      <td>44.776802</td>\n",
       "    </tr>\n",
       "    <tr>\n",
       "      <th>3</th>\n",
       "      <td>1</td>\n",
       "      <td>10</td>\n",
       "      <td>5809.911100</td>\n",
       "      <td>2</td>\n",
       "      <td>31.578017</td>\n",
       "    </tr>\n",
       "    <tr>\n",
       "      <th>4</th>\n",
       "      <td>1</td>\n",
       "      <td>11</td>\n",
       "      <td>7003.499363</td>\n",
       "      <td>3</td>\n",
       "      <td>53.397424</td>\n",
       "    </tr>\n",
       "    <tr>\n",
       "      <th>5</th>\n",
       "      <td>1</td>\n",
       "      <td>12</td>\n",
       "      <td>6751.629942</td>\n",
       "      <td>2</td>\n",
       "      <td>27.203912</td>\n",
       "    </tr>\n",
       "    <tr>\n",
       "      <th>6</th>\n",
       "      <td>2</td>\n",
       "      <td>3</td>\n",
       "      <td>10187.723006</td>\n",
       "      <td>3</td>\n",
       "      <td>60.959959</td>\n",
       "    </tr>\n",
       "    <tr>\n",
       "      <th>7</th>\n",
       "      <td>2</td>\n",
       "      <td>4</td>\n",
       "      <td>6164.381824</td>\n",
       "      <td>2</td>\n",
       "      <td>39.048633</td>\n",
       "    </tr>\n",
       "    <tr>\n",
       "      <th>8</th>\n",
       "      <td>2</td>\n",
       "      <td>6</td>\n",
       "      <td>3255.338202</td>\n",
       "      <td>1</td>\n",
       "      <td>13.851127</td>\n",
       "    </tr>\n",
       "    <tr>\n",
       "      <th>9</th>\n",
       "      <td>2</td>\n",
       "      <td>7</td>\n",
       "      <td>6780.722964</td>\n",
       "      <td>2</td>\n",
       "      <td>46.170157</td>\n",
       "    </tr>\n",
       "    <tr>\n",
       "      <th>10</th>\n",
       "      <td>2</td>\n",
       "      <td>8</td>\n",
       "      <td>923.007439</td>\n",
       "      <td>1</td>\n",
       "      <td>6.914760</td>\n",
       "    </tr>\n",
       "    <tr>\n",
       "      <th>11</th>\n",
       "      <td>2</td>\n",
       "      <td>10</td>\n",
       "      <td>2824.636598</td>\n",
       "      <td>1</td>\n",
       "      <td>18.779128</td>\n",
       "    </tr>\n",
       "    <tr>\n",
       "      <th>12</th>\n",
       "      <td>2</td>\n",
       "      <td>12</td>\n",
       "      <td>3828.248580</td>\n",
       "      <td>1</td>\n",
       "      <td>11.920514</td>\n",
       "    </tr>\n",
       "    <tr>\n",
       "      <th>13</th>\n",
       "      <td>3</td>\n",
       "      <td>1</td>\n",
       "      <td>3061.777147</td>\n",
       "      <td>1</td>\n",
       "      <td>12.654443</td>\n",
       "    </tr>\n",
       "    <tr>\n",
       "      <th>14</th>\n",
       "      <td>3</td>\n",
       "      <td>2</td>\n",
       "      <td>5421.152016</td>\n",
       "      <td>2</td>\n",
       "      <td>37.568637</td>\n",
       "    </tr>\n",
       "    <tr>\n",
       "      <th>15</th>\n",
       "      <td>3</td>\n",
       "      <td>4</td>\n",
       "      <td>2956.651632</td>\n",
       "      <td>1</td>\n",
       "      <td>20.671364</td>\n",
       "    </tr>\n",
       "    <tr>\n",
       "      <th>16</th>\n",
       "      <td>3</td>\n",
       "      <td>5</td>\n",
       "      <td>9064.026918</td>\n",
       "      <td>3</td>\n",
       "      <td>61.404503</td>\n",
       "    </tr>\n",
       "    <tr>\n",
       "      <th>17</th>\n",
       "      <td>3</td>\n",
       "      <td>7</td>\n",
       "      <td>10919.595403</td>\n",
       "      <td>3</td>\n",
       "      <td>65.519784</td>\n",
       "    </tr>\n",
       "    <tr>\n",
       "      <th>18</th>\n",
       "      <td>3</td>\n",
       "      <td>9</td>\n",
       "      <td>2891.012822</td>\n",
       "      <td>1</td>\n",
       "      <td>22.390055</td>\n",
       "    </tr>\n",
       "    <tr>\n",
       "      <th>19</th>\n",
       "      <td>3</td>\n",
       "      <td>12</td>\n",
       "      <td>2593.381928</td>\n",
       "      <td>1</td>\n",
       "      <td>12.984728</td>\n",
       "    </tr>\n",
       "    <tr>\n",
       "      <th>20</th>\n",
       "      <td>4</td>\n",
       "      <td>2</td>\n",
       "      <td>6339.696747</td>\n",
       "      <td>2</td>\n",
       "      <td>48.150598</td>\n",
       "    </tr>\n",
       "    <tr>\n",
       "      <th>21</th>\n",
       "      <td>4</td>\n",
       "      <td>6</td>\n",
       "      <td>6753.041806</td>\n",
       "      <td>2</td>\n",
       "      <td>43.607518</td>\n",
       "    </tr>\n",
       "    <tr>\n",
       "      <th>22</th>\n",
       "      <td>4</td>\n",
       "      <td>7</td>\n",
       "      <td>10491.175555</td>\n",
       "      <td>3</td>\n",
       "      <td>55.249009</td>\n",
       "    </tr>\n",
       "    <tr>\n",
       "      <th>23</th>\n",
       "      <td>4</td>\n",
       "      <td>8</td>\n",
       "      <td>4649.488243</td>\n",
       "      <td>1</td>\n",
       "      <td>35.896929</td>\n",
       "    </tr>\n",
       "    <tr>\n",
       "      <th>24</th>\n",
       "      <td>4</td>\n",
       "      <td>10</td>\n",
       "      <td>13260.762274</td>\n",
       "      <td>4</td>\n",
       "      <td>77.992731</td>\n",
       "    </tr>\n",
       "    <tr>\n",
       "      <th>25</th>\n",
       "      <td>4</td>\n",
       "      <td>11</td>\n",
       "      <td>3343.025291</td>\n",
       "      <td>2</td>\n",
       "      <td>27.666796</td>\n",
       "    </tr>\n",
       "    <tr>\n",
       "      <th>26</th>\n",
       "      <td>5</td>\n",
       "      <td>1</td>\n",
       "      <td>3914.646990</td>\n",
       "      <td>1</td>\n",
       "      <td>12.395153</td>\n",
       "    </tr>\n",
       "    <tr>\n",
       "      <th>27</th>\n",
       "      <td>5</td>\n",
       "      <td>2</td>\n",
       "      <td>2561.108241</td>\n",
       "      <td>1</td>\n",
       "      <td>11.087710</td>\n",
       "    </tr>\n",
       "    <tr>\n",
       "      <th>28</th>\n",
       "      <td>5</td>\n",
       "      <td>3</td>\n",
       "      <td>10633.732186</td>\n",
       "      <td>3</td>\n",
       "      <td>55.666862</td>\n",
       "    </tr>\n",
       "    <tr>\n",
       "      <th>29</th>\n",
       "      <td>5</td>\n",
       "      <td>4</td>\n",
       "      <td>3373.080412</td>\n",
       "      <td>1</td>\n",
       "      <td>14.904990</td>\n",
       "    </tr>\n",
       "    <tr>\n",
       "      <th>30</th>\n",
       "      <td>5</td>\n",
       "      <td>5</td>\n",
       "      <td>5823.074031</td>\n",
       "      <td>2</td>\n",
       "      <td>31.299780</td>\n",
       "    </tr>\n",
       "    <tr>\n",
       "      <th>31</th>\n",
       "      <td>5</td>\n",
       "      <td>7</td>\n",
       "      <td>3311.974724</td>\n",
       "      <td>1</td>\n",
       "      <td>11.948739</td>\n",
       "    </tr>\n",
       "    <tr>\n",
       "      <th>32</th>\n",
       "      <td>5</td>\n",
       "      <td>8</td>\n",
       "      <td>2720.817111</td>\n",
       "      <td>1</td>\n",
       "      <td>17.046260</td>\n",
       "    </tr>\n",
       "    <tr>\n",
       "      <th>33</th>\n",
       "      <td>5</td>\n",
       "      <td>10</td>\n",
       "      <td>3218.515955</td>\n",
       "      <td>1</td>\n",
       "      <td>19.724438</td>\n",
       "    </tr>\n",
       "    <tr>\n",
       "      <th>34</th>\n",
       "      <td>6</td>\n",
       "      <td>2</td>\n",
       "      <td>3961.432708</td>\n",
       "      <td>1</td>\n",
       "      <td>27.807164</td>\n",
       "    </tr>\n",
       "    <tr>\n",
       "      <th>35</th>\n",
       "      <td>6</td>\n",
       "      <td>5</td>\n",
       "      <td>11013.574364</td>\n",
       "      <td>3</td>\n",
       "      <td>69.834311</td>\n",
       "    </tr>\n",
       "    <tr>\n",
       "      <th>36</th>\n",
       "      <td>6</td>\n",
       "      <td>8</td>\n",
       "      <td>3142.271823</td>\n",
       "      <td>1</td>\n",
       "      <td>16.569832</td>\n",
       "    </tr>\n",
       "    <tr>\n",
       "      <th>37</th>\n",
       "      <td>6</td>\n",
       "      <td>9</td>\n",
       "      <td>3346.098372</td>\n",
       "      <td>1</td>\n",
       "      <td>19.566626</td>\n",
       "    </tr>\n",
       "    <tr>\n",
       "      <th>38</th>\n",
       "      <td>6</td>\n",
       "      <td>10</td>\n",
       "      <td>2350.641957</td>\n",
       "      <td>1</td>\n",
       "      <td>10.051926</td>\n",
       "    </tr>\n",
       "    <tr>\n",
       "      <th>39</th>\n",
       "      <td>6</td>\n",
       "      <td>11</td>\n",
       "      <td>3339.625640</td>\n",
       "      <td>1</td>\n",
       "      <td>16.015102</td>\n",
       "    </tr>\n",
       "    <tr>\n",
       "      <th>40</th>\n",
       "      <td>6</td>\n",
       "      <td>12</td>\n",
       "      <td>6924.961829</td>\n",
       "      <td>2</td>\n",
       "      <td>43.454116</td>\n",
       "    </tr>\n",
       "    <tr>\n",
       "      <th>41</th>\n",
       "      <td>7</td>\n",
       "      <td>1</td>\n",
       "      <td>6478.080979</td>\n",
       "      <td>2</td>\n",
       "      <td>27.653450</td>\n",
       "    </tr>\n",
       "    <tr>\n",
       "      <th>42</th>\n",
       "      <td>7</td>\n",
       "      <td>3</td>\n",
       "      <td>3679.561009</td>\n",
       "      <td>1</td>\n",
       "      <td>20.598855</td>\n",
       "    </tr>\n",
       "    <tr>\n",
       "      <th>43</th>\n",
       "      <td>7</td>\n",
       "      <td>4</td>\n",
       "      <td>4888.946162</td>\n",
       "      <td>2</td>\n",
       "      <td>36.726035</td>\n",
       "    </tr>\n",
       "    <tr>\n",
       "      <th>44</th>\n",
       "      <td>7</td>\n",
       "      <td>5</td>\n",
       "      <td>2971.564811</td>\n",
       "      <td>1</td>\n",
       "      <td>14.428912</td>\n",
       "    </tr>\n",
       "    <tr>\n",
       "      <th>45</th>\n",
       "      <td>7</td>\n",
       "      <td>6</td>\n",
       "      <td>2508.554171</td>\n",
       "      <td>1</td>\n",
       "      <td>18.271385</td>\n",
       "    </tr>\n",
       "    <tr>\n",
       "      <th>46</th>\n",
       "      <td>7</td>\n",
       "      <td>7</td>\n",
       "      <td>6097.825669</td>\n",
       "      <td>2</td>\n",
       "      <td>33.302359</td>\n",
       "    </tr>\n",
       "    <tr>\n",
       "      <th>47</th>\n",
       "      <td>7</td>\n",
       "      <td>8</td>\n",
       "      <td>3008.257505</td>\n",
       "      <td>1</td>\n",
       "      <td>14.027525</td>\n",
       "    </tr>\n",
       "    <tr>\n",
       "      <th>48</th>\n",
       "      <td>7</td>\n",
       "      <td>11</td>\n",
       "      <td>12879.354733</td>\n",
       "      <td>4</td>\n",
       "      <td>64.391394</td>\n",
       "    </tr>\n",
       "    <tr>\n",
       "      <th>49</th>\n",
       "      <td>7</td>\n",
       "      <td>12</td>\n",
       "      <td>6195.334108</td>\n",
       "      <td>2</td>\n",
       "      <td>28.971306</td>\n",
       "    </tr>\n",
       "  </tbody>\n",
       "</table>\n",
       "</div>"
      ],
      "text/plain": [
       "    user_id  month    total_dist  amount_rides  total_dur\n",
       "0         1      1   7027.511294             2  41.416640\n",
       "1         1      4    754.159807             1   6.232113\n",
       "2         1      8   6723.470560             2  44.776802\n",
       "3         1     10   5809.911100             2  31.578017\n",
       "4         1     11   7003.499363             3  53.397424\n",
       "5         1     12   6751.629942             2  27.203912\n",
       "6         2      3  10187.723006             3  60.959959\n",
       "7         2      4   6164.381824             2  39.048633\n",
       "8         2      6   3255.338202             1  13.851127\n",
       "9         2      7   6780.722964             2  46.170157\n",
       "10        2      8    923.007439             1   6.914760\n",
       "11        2     10   2824.636598             1  18.779128\n",
       "12        2     12   3828.248580             1  11.920514\n",
       "13        3      1   3061.777147             1  12.654443\n",
       "14        3      2   5421.152016             2  37.568637\n",
       "15        3      4   2956.651632             1  20.671364\n",
       "16        3      5   9064.026918             3  61.404503\n",
       "17        3      7  10919.595403             3  65.519784\n",
       "18        3      9   2891.012822             1  22.390055\n",
       "19        3     12   2593.381928             1  12.984728\n",
       "20        4      2   6339.696747             2  48.150598\n",
       "21        4      6   6753.041806             2  43.607518\n",
       "22        4      7  10491.175555             3  55.249009\n",
       "23        4      8   4649.488243             1  35.896929\n",
       "24        4     10  13260.762274             4  77.992731\n",
       "25        4     11   3343.025291             2  27.666796\n",
       "26        5      1   3914.646990             1  12.395153\n",
       "27        5      2   2561.108241             1  11.087710\n",
       "28        5      3  10633.732186             3  55.666862\n",
       "29        5      4   3373.080412             1  14.904990\n",
       "30        5      5   5823.074031             2  31.299780\n",
       "31        5      7   3311.974724             1  11.948739\n",
       "32        5      8   2720.817111             1  17.046260\n",
       "33        5     10   3218.515955             1  19.724438\n",
       "34        6      2   3961.432708             1  27.807164\n",
       "35        6      5  11013.574364             3  69.834311\n",
       "36        6      8   3142.271823             1  16.569832\n",
       "37        6      9   3346.098372             1  19.566626\n",
       "38        6     10   2350.641957             1  10.051926\n",
       "39        6     11   3339.625640             1  16.015102\n",
       "40        6     12   6924.961829             2  43.454116\n",
       "41        7      1   6478.080979             2  27.653450\n",
       "42        7      3   3679.561009             1  20.598855\n",
       "43        7      4   4888.946162             2  36.726035\n",
       "44        7      5   2971.564811             1  14.428912\n",
       "45        7      6   2508.554171             1  18.271385\n",
       "46        7      7   6097.825669             2  33.302359\n",
       "47        7      8   3008.257505             1  14.027525\n",
       "48        7     11  12879.354733             4  64.391394\n",
       "49        7     12   6195.334108             2  28.971306"
      ]
     },
     "execution_count": 60,
     "metadata": {},
     "output_type": "execute_result"
    }
   ],
   "source": [
    "agg_df_profit = pivot_df.groupby(['user_id','month']\n",
    "                                ).agg(total_dist = ('distance','sum'),\n",
    "                                                          amount_rides = ('distance','count'),\n",
    "                                                          total_dur =('duration','sum')).reset_index()\n",
    "display(agg_df_profit.info())\n",
    "agg_df_profit.head(50)"
   ]
  },
  {
   "cell_type": "markdown",
   "id": "8cc571d1-9220-4f23-b082-3ace45fead51",
   "metadata": {},
   "source": [
    "Вроде норм"
   ]
  },
  {
   "cell_type": "code",
   "execution_count": 61,
   "id": "8620f6a5",
   "metadata": {
    "scrolled": true
   },
   "outputs": [
    {
     "data": {
      "text/plain": [
       "user_id         0\n",
       "month           0\n",
       "total_dist      0\n",
       "amount_rides    0\n",
       "total_dur       0\n",
       "dtype: int64"
      ]
     },
     "execution_count": 61,
     "metadata": {},
     "output_type": "execute_result"
    }
   ],
   "source": [
    "agg_df_profit.isna().sum()"
   ]
  },
  {
   "cell_type": "markdown",
   "id": "3275bb3b",
   "metadata": {},
   "source": [
    "Пропусков нет, работаем"
   ]
  },
  {
   "cell_type": "markdown",
   "id": "4a6d5904-75a8-4ebe-bb8e-30fb602c6660",
   "metadata": {},
   "source": [
    "### В этот же датафрейм посчитаю выручку в столбец с помесячной выручкой, которую принёс каждый пользователь. \n",
    "#### Продолжительность каждой поездки в каждой строке исходного датафрейма для подсчёта стоимости округляется до следующего целого числа "
   ]
  },
  {
   "cell_type": "code",
   "execution_count": 62,
   "id": "8b1d52a2-314a-4c5d-9784-9636b2b16d8d",
   "metadata": {},
   "outputs": [],
   "source": [
    "agg_df_profit['total_dur'] = np.ceil(agg_df_profit['total_dur'])"
   ]
  },
  {
   "cell_type": "code",
   "execution_count": 63,
   "id": "24019ed2",
   "metadata": {
    "scrolled": true
   },
   "outputs": [
    {
     "data": {
      "text/html": [
       "<div>\n",
       "<style scoped>\n",
       "    .dataframe tbody tr th:only-of-type {\n",
       "        vertical-align: middle;\n",
       "    }\n",
       "\n",
       "    .dataframe tbody tr th {\n",
       "        vertical-align: top;\n",
       "    }\n",
       "\n",
       "    .dataframe thead th {\n",
       "        text-align: right;\n",
       "    }\n",
       "</style>\n",
       "<table border=\"1\" class=\"dataframe\">\n",
       "  <thead>\n",
       "    <tr style=\"text-align: right;\">\n",
       "      <th></th>\n",
       "      <th>user_id</th>\n",
       "      <th>month</th>\n",
       "      <th>total_dist</th>\n",
       "      <th>amount_rides</th>\n",
       "      <th>total_dur</th>\n",
       "    </tr>\n",
       "  </thead>\n",
       "  <tbody>\n",
       "    <tr>\n",
       "      <th>0</th>\n",
       "      <td>1</td>\n",
       "      <td>1</td>\n",
       "      <td>7027.511294</td>\n",
       "      <td>2</td>\n",
       "      <td>42.0</td>\n",
       "    </tr>\n",
       "    <tr>\n",
       "      <th>1</th>\n",
       "      <td>1</td>\n",
       "      <td>4</td>\n",
       "      <td>754.159807</td>\n",
       "      <td>1</td>\n",
       "      <td>7.0</td>\n",
       "    </tr>\n",
       "    <tr>\n",
       "      <th>2</th>\n",
       "      <td>1</td>\n",
       "      <td>8</td>\n",
       "      <td>6723.470560</td>\n",
       "      <td>2</td>\n",
       "      <td>45.0</td>\n",
       "    </tr>\n",
       "    <tr>\n",
       "      <th>3</th>\n",
       "      <td>1</td>\n",
       "      <td>10</td>\n",
       "      <td>5809.911100</td>\n",
       "      <td>2</td>\n",
       "      <td>32.0</td>\n",
       "    </tr>\n",
       "    <tr>\n",
       "      <th>4</th>\n",
       "      <td>1</td>\n",
       "      <td>11</td>\n",
       "      <td>7003.499363</td>\n",
       "      <td>3</td>\n",
       "      <td>54.0</td>\n",
       "    </tr>\n",
       "    <tr>\n",
       "      <th>...</th>\n",
       "      <td>...</td>\n",
       "      <td>...</td>\n",
       "      <td>...</td>\n",
       "      <td>...</td>\n",
       "      <td>...</td>\n",
       "    </tr>\n",
       "    <tr>\n",
       "      <th>11295</th>\n",
       "      <td>1534</td>\n",
       "      <td>6</td>\n",
       "      <td>3409.468534</td>\n",
       "      <td>2</td>\n",
       "      <td>25.0</td>\n",
       "    </tr>\n",
       "    <tr>\n",
       "      <th>11296</th>\n",
       "      <td>1534</td>\n",
       "      <td>8</td>\n",
       "      <td>7622.453034</td>\n",
       "      <td>2</td>\n",
       "      <td>48.0</td>\n",
       "    </tr>\n",
       "    <tr>\n",
       "      <th>11297</th>\n",
       "      <td>1534</td>\n",
       "      <td>9</td>\n",
       "      <td>4928.173852</td>\n",
       "      <td>1</td>\n",
       "      <td>23.0</td>\n",
       "    </tr>\n",
       "    <tr>\n",
       "      <th>11298</th>\n",
       "      <td>1534</td>\n",
       "      <td>11</td>\n",
       "      <td>13350.015305</td>\n",
       "      <td>4</td>\n",
       "      <td>77.0</td>\n",
       "    </tr>\n",
       "    <tr>\n",
       "      <th>11299</th>\n",
       "      <td>1534</td>\n",
       "      <td>12</td>\n",
       "      <td>2371.711192</td>\n",
       "      <td>1</td>\n",
       "      <td>16.0</td>\n",
       "    </tr>\n",
       "  </tbody>\n",
       "</table>\n",
       "<p>11300 rows × 5 columns</p>\n",
       "</div>"
      ],
      "text/plain": [
       "       user_id  month    total_dist  amount_rides  total_dur\n",
       "0            1      1   7027.511294             2       42.0\n",
       "1            1      4    754.159807             1        7.0\n",
       "2            1      8   6723.470560             2       45.0\n",
       "3            1     10   5809.911100             2       32.0\n",
       "4            1     11   7003.499363             3       54.0\n",
       "...        ...    ...           ...           ...        ...\n",
       "11295     1534      6   3409.468534             2       25.0\n",
       "11296     1534      8   7622.453034             2       48.0\n",
       "11297     1534      9   4928.173852             1       23.0\n",
       "11298     1534     11  13350.015305             4       77.0\n",
       "11299     1534     12   2371.711192             1       16.0\n",
       "\n",
       "[11300 rows x 5 columns]"
      ]
     },
     "metadata": {},
     "output_type": "display_data"
    }
   ],
   "source": [
    "display(agg_df_profit)"
   ]
  },
  {
   "cell_type": "markdown",
   "id": "ff9dd140",
   "metadata": {},
   "source": [
    "<div class=\"alert alert-info\"> <b>Комментарии студента:</b> \n",
    "Проверил пропуски в пункте выше."
   ]
  },
  {
   "cell_type": "code",
   "execution_count": 64,
   "id": "2b8a261d-4cb0-4feb-a5ea-e27ae3f0946d",
   "metadata": {},
   "outputs": [
    {
     "data": {
      "text/html": [
       "<div>\n",
       "<style scoped>\n",
       "    .dataframe tbody tr th:only-of-type {\n",
       "        vertical-align: middle;\n",
       "    }\n",
       "\n",
       "    .dataframe tbody tr th {\n",
       "        vertical-align: top;\n",
       "    }\n",
       "\n",
       "    .dataframe thead th {\n",
       "        text-align: right;\n",
       "    }\n",
       "</style>\n",
       "<table border=\"1\" class=\"dataframe\">\n",
       "  <thead>\n",
       "    <tr style=\"text-align: right;\">\n",
       "      <th></th>\n",
       "      <th>user_id</th>\n",
       "      <th>name</th>\n",
       "      <th>age</th>\n",
       "      <th>city</th>\n",
       "      <th>distance</th>\n",
       "      <th>duration</th>\n",
       "      <th>date</th>\n",
       "      <th>month</th>\n",
       "      <th>subscription_type</th>\n",
       "      <th>minute_price</th>\n",
       "      <th>start_ride_price</th>\n",
       "      <th>subscription_fee</th>\n",
       "      <th>round_dur</th>\n",
       "    </tr>\n",
       "  </thead>\n",
       "  <tbody>\n",
       "    <tr>\n",
       "      <th>0</th>\n",
       "      <td>1</td>\n",
       "      <td>Кира</td>\n",
       "      <td>22</td>\n",
       "      <td>Тюмень</td>\n",
       "      <td>4409.919140</td>\n",
       "      <td>25.599769</td>\n",
       "      <td>2021-01-01</td>\n",
       "      <td>1</td>\n",
       "      <td>ultra</td>\n",
       "      <td>6</td>\n",
       "      <td>0</td>\n",
       "      <td>199</td>\n",
       "      <td>26.0</td>\n",
       "    </tr>\n",
       "    <tr>\n",
       "      <th>1</th>\n",
       "      <td>1</td>\n",
       "      <td>Кира</td>\n",
       "      <td>22</td>\n",
       "      <td>Тюмень</td>\n",
       "      <td>2617.592153</td>\n",
       "      <td>15.816871</td>\n",
       "      <td>2021-01-18</td>\n",
       "      <td>1</td>\n",
       "      <td>ultra</td>\n",
       "      <td>6</td>\n",
       "      <td>0</td>\n",
       "      <td>199</td>\n",
       "      <td>16.0</td>\n",
       "    </tr>\n",
       "    <tr>\n",
       "      <th>2</th>\n",
       "      <td>1</td>\n",
       "      <td>Кира</td>\n",
       "      <td>22</td>\n",
       "      <td>Тюмень</td>\n",
       "      <td>754.159807</td>\n",
       "      <td>6.232113</td>\n",
       "      <td>2021-04-20</td>\n",
       "      <td>4</td>\n",
       "      <td>ultra</td>\n",
       "      <td>6</td>\n",
       "      <td>0</td>\n",
       "      <td>199</td>\n",
       "      <td>7.0</td>\n",
       "    </tr>\n",
       "    <tr>\n",
       "      <th>3</th>\n",
       "      <td>1</td>\n",
       "      <td>Кира</td>\n",
       "      <td>22</td>\n",
       "      <td>Тюмень</td>\n",
       "      <td>2694.783254</td>\n",
       "      <td>18.511000</td>\n",
       "      <td>2021-08-11</td>\n",
       "      <td>8</td>\n",
       "      <td>ultra</td>\n",
       "      <td>6</td>\n",
       "      <td>0</td>\n",
       "      <td>199</td>\n",
       "      <td>19.0</td>\n",
       "    </tr>\n",
       "    <tr>\n",
       "      <th>4</th>\n",
       "      <td>1</td>\n",
       "      <td>Кира</td>\n",
       "      <td>22</td>\n",
       "      <td>Тюмень</td>\n",
       "      <td>4028.687306</td>\n",
       "      <td>26.265803</td>\n",
       "      <td>2021-08-28</td>\n",
       "      <td>8</td>\n",
       "      <td>ultra</td>\n",
       "      <td>6</td>\n",
       "      <td>0</td>\n",
       "      <td>199</td>\n",
       "      <td>27.0</td>\n",
       "    </tr>\n",
       "    <tr>\n",
       "      <th>5</th>\n",
       "      <td>1</td>\n",
       "      <td>Кира</td>\n",
       "      <td>22</td>\n",
       "      <td>Тюмень</td>\n",
       "      <td>2770.890808</td>\n",
       "      <td>16.650138</td>\n",
       "      <td>2021-10-09</td>\n",
       "      <td>10</td>\n",
       "      <td>ultra</td>\n",
       "      <td>6</td>\n",
       "      <td>0</td>\n",
       "      <td>199</td>\n",
       "      <td>17.0</td>\n",
       "    </tr>\n",
       "    <tr>\n",
       "      <th>6</th>\n",
       "      <td>1</td>\n",
       "      <td>Кира</td>\n",
       "      <td>22</td>\n",
       "      <td>Тюмень</td>\n",
       "      <td>3039.020292</td>\n",
       "      <td>14.927879</td>\n",
       "      <td>2021-10-19</td>\n",
       "      <td>10</td>\n",
       "      <td>ultra</td>\n",
       "      <td>6</td>\n",
       "      <td>0</td>\n",
       "      <td>199</td>\n",
       "      <td>15.0</td>\n",
       "    </tr>\n",
       "    <tr>\n",
       "      <th>7</th>\n",
       "      <td>1</td>\n",
       "      <td>Кира</td>\n",
       "      <td>22</td>\n",
       "      <td>Тюмень</td>\n",
       "      <td>2842.118050</td>\n",
       "      <td>23.117468</td>\n",
       "      <td>2021-11-06</td>\n",
       "      <td>11</td>\n",
       "      <td>ultra</td>\n",
       "      <td>6</td>\n",
       "      <td>0</td>\n",
       "      <td>199</td>\n",
       "      <td>24.0</td>\n",
       "    </tr>\n",
       "    <tr>\n",
       "      <th>8</th>\n",
       "      <td>1</td>\n",
       "      <td>Кира</td>\n",
       "      <td>22</td>\n",
       "      <td>Тюмень</td>\n",
       "      <td>3412.690668</td>\n",
       "      <td>15.238072</td>\n",
       "      <td>2021-11-14</td>\n",
       "      <td>11</td>\n",
       "      <td>ultra</td>\n",
       "      <td>6</td>\n",
       "      <td>0</td>\n",
       "      <td>199</td>\n",
       "      <td>16.0</td>\n",
       "    </tr>\n",
       "    <tr>\n",
       "      <th>9</th>\n",
       "      <td>1</td>\n",
       "      <td>Кира</td>\n",
       "      <td>22</td>\n",
       "      <td>Тюмень</td>\n",
       "      <td>748.690645</td>\n",
       "      <td>15.041884</td>\n",
       "      <td>2021-11-22</td>\n",
       "      <td>11</td>\n",
       "      <td>ultra</td>\n",
       "      <td>6</td>\n",
       "      <td>0</td>\n",
       "      <td>199</td>\n",
       "      <td>16.0</td>\n",
       "    </tr>\n",
       "  </tbody>\n",
       "</table>\n",
       "</div>"
      ],
      "text/plain": [
       "   user_id  name  age    city     distance   duration       date  month  \\\n",
       "0        1  Кира   22  Тюмень  4409.919140  25.599769 2021-01-01      1   \n",
       "1        1  Кира   22  Тюмень  2617.592153  15.816871 2021-01-18      1   \n",
       "2        1  Кира   22  Тюмень   754.159807   6.232113 2021-04-20      4   \n",
       "3        1  Кира   22  Тюмень  2694.783254  18.511000 2021-08-11      8   \n",
       "4        1  Кира   22  Тюмень  4028.687306  26.265803 2021-08-28      8   \n",
       "5        1  Кира   22  Тюмень  2770.890808  16.650138 2021-10-09     10   \n",
       "6        1  Кира   22  Тюмень  3039.020292  14.927879 2021-10-19     10   \n",
       "7        1  Кира   22  Тюмень  2842.118050  23.117468 2021-11-06     11   \n",
       "8        1  Кира   22  Тюмень  3412.690668  15.238072 2021-11-14     11   \n",
       "9        1  Кира   22  Тюмень   748.690645  15.041884 2021-11-22     11   \n",
       "\n",
       "  subscription_type  minute_price  start_ride_price  subscription_fee  \\\n",
       "0             ultra             6                 0               199   \n",
       "1             ultra             6                 0               199   \n",
       "2             ultra             6                 0               199   \n",
       "3             ultra             6                 0               199   \n",
       "4             ultra             6                 0               199   \n",
       "5             ultra             6                 0               199   \n",
       "6             ultra             6                 0               199   \n",
       "7             ultra             6                 0               199   \n",
       "8             ultra             6                 0               199   \n",
       "9             ultra             6                 0               199   \n",
       "\n",
       "   round_dur  \n",
       "0       26.0  \n",
       "1       16.0  \n",
       "2        7.0  \n",
       "3       19.0  \n",
       "4       27.0  \n",
       "5       17.0  \n",
       "6       15.0  \n",
       "7       24.0  \n",
       "8       16.0  \n",
       "9       16.0  "
      ]
     },
     "execution_count": 64,
     "metadata": {},
     "output_type": "execute_result"
    }
   ],
   "source": [
    "pivot_df['round_dur'] = np.ceil(pivot_df['duration'])\n",
    "pivot_df.head(10)"
   ]
  },
  {
   "cell_type": "code",
   "execution_count": 65,
   "id": "efe2b1be-77fa-4e86-966d-69998e595bed",
   "metadata": {},
   "outputs": [
    {
     "data": {
      "text/html": [
       "<div>\n",
       "<style scoped>\n",
       "    .dataframe tbody tr th:only-of-type {\n",
       "        vertical-align: middle;\n",
       "    }\n",
       "\n",
       "    .dataframe tbody tr th {\n",
       "        vertical-align: top;\n",
       "    }\n",
       "\n",
       "    .dataframe thead th {\n",
       "        text-align: right;\n",
       "    }\n",
       "</style>\n",
       "<table border=\"1\" class=\"dataframe\">\n",
       "  <thead>\n",
       "    <tr style=\"text-align: right;\">\n",
       "      <th></th>\n",
       "      <th>user_id</th>\n",
       "      <th>month</th>\n",
       "      <th>total_dist</th>\n",
       "      <th>amount_rides</th>\n",
       "      <th>total_dur</th>\n",
       "      <th>ride_cost</th>\n",
       "    </tr>\n",
       "  </thead>\n",
       "  <tbody>\n",
       "    <tr>\n",
       "      <th>0</th>\n",
       "      <td>1</td>\n",
       "      <td>1</td>\n",
       "      <td>7027.511294</td>\n",
       "      <td>2</td>\n",
       "      <td>42.0</td>\n",
       "      <td>252.0</td>\n",
       "    </tr>\n",
       "    <tr>\n",
       "      <th>1</th>\n",
       "      <td>1</td>\n",
       "      <td>4</td>\n",
       "      <td>754.159807</td>\n",
       "      <td>1</td>\n",
       "      <td>7.0</td>\n",
       "      <td>42.0</td>\n",
       "    </tr>\n",
       "    <tr>\n",
       "      <th>2</th>\n",
       "      <td>1</td>\n",
       "      <td>8</td>\n",
       "      <td>6723.470560</td>\n",
       "      <td>2</td>\n",
       "      <td>45.0</td>\n",
       "      <td>276.0</td>\n",
       "    </tr>\n",
       "    <tr>\n",
       "      <th>3</th>\n",
       "      <td>1</td>\n",
       "      <td>10</td>\n",
       "      <td>5809.911100</td>\n",
       "      <td>2</td>\n",
       "      <td>32.0</td>\n",
       "      <td>192.0</td>\n",
       "    </tr>\n",
       "    <tr>\n",
       "      <th>4</th>\n",
       "      <td>1</td>\n",
       "      <td>11</td>\n",
       "      <td>7003.499363</td>\n",
       "      <td>3</td>\n",
       "      <td>54.0</td>\n",
       "      <td>336.0</td>\n",
       "    </tr>\n",
       "    <tr>\n",
       "      <th>...</th>\n",
       "      <td>...</td>\n",
       "      <td>...</td>\n",
       "      <td>...</td>\n",
       "      <td>...</td>\n",
       "      <td>...</td>\n",
       "      <td>...</td>\n",
       "    </tr>\n",
       "    <tr>\n",
       "      <th>11295</th>\n",
       "      <td>1534</td>\n",
       "      <td>6</td>\n",
       "      <td>3409.468534</td>\n",
       "      <td>2</td>\n",
       "      <td>25.0</td>\n",
       "      <td>308.0</td>\n",
       "    </tr>\n",
       "    <tr>\n",
       "      <th>11296</th>\n",
       "      <td>1534</td>\n",
       "      <td>8</td>\n",
       "      <td>7622.453034</td>\n",
       "      <td>2</td>\n",
       "      <td>48.0</td>\n",
       "      <td>484.0</td>\n",
       "    </tr>\n",
       "    <tr>\n",
       "      <th>11297</th>\n",
       "      <td>1534</td>\n",
       "      <td>9</td>\n",
       "      <td>4928.173852</td>\n",
       "      <td>1</td>\n",
       "      <td>23.0</td>\n",
       "      <td>234.0</td>\n",
       "    </tr>\n",
       "    <tr>\n",
       "      <th>11298</th>\n",
       "      <td>1534</td>\n",
       "      <td>11</td>\n",
       "      <td>13350.015305</td>\n",
       "      <td>4</td>\n",
       "      <td>77.0</td>\n",
       "      <td>824.0</td>\n",
       "    </tr>\n",
       "    <tr>\n",
       "      <th>11299</th>\n",
       "      <td>1534</td>\n",
       "      <td>12</td>\n",
       "      <td>2371.711192</td>\n",
       "      <td>1</td>\n",
       "      <td>16.0</td>\n",
       "      <td>178.0</td>\n",
       "    </tr>\n",
       "  </tbody>\n",
       "</table>\n",
       "<p>11300 rows × 6 columns</p>\n",
       "</div>"
      ],
      "text/plain": [
       "       user_id  month    total_dist  amount_rides  total_dur  ride_cost\n",
       "0            1      1   7027.511294             2       42.0      252.0\n",
       "1            1      4    754.159807             1        7.0       42.0\n",
       "2            1      8   6723.470560             2       45.0      276.0\n",
       "3            1     10   5809.911100             2       32.0      192.0\n",
       "4            1     11   7003.499363             3       54.0      336.0\n",
       "...        ...    ...           ...           ...        ...        ...\n",
       "11295     1534      6   3409.468534             2       25.0      308.0\n",
       "11296     1534      8   7622.453034             2       48.0      484.0\n",
       "11297     1534      9   4928.173852             1       23.0      234.0\n",
       "11298     1534     11  13350.015305             4       77.0      824.0\n",
       "11299     1534     12   2371.711192             1       16.0      178.0\n",
       "\n",
       "[11300 rows x 6 columns]"
      ]
     },
     "execution_count": 65,
     "metadata": {},
     "output_type": "execute_result"
    }
   ],
   "source": [
    "pivot_df['ride_cost'] = pivot_df['round_dur'] * pivot_df['minute_price'] + pivot_df['start_ride_price']\n",
    "pivot_df.head(25)\n",
    "month_profit = pivot_df.groupby(['user_id','month'])['ride_cost'].sum().reset_index()\n",
    "agg_df_profit = agg_df_profit.merge(month_profit,on = ['user_id', 'month'],how = 'right')\n",
    "agg_df_profit"
   ]
  },
  {
   "cell_type": "code",
   "execution_count": 66,
   "id": "24f9287a-c44c-4efb-8632-920f29e5e637",
   "metadata": {},
   "outputs": [],
   "source": [
    "sub_fee = pivot_df[['user_id', 'subscription_fee']].drop_duplicates()\n",
    "agg_df_profit = agg_df_profit.merge(sub_fee,on = ['user_id'],how = 'right')"
   ]
  },
  {
   "cell_type": "code",
   "execution_count": 67,
   "id": "f6743dee-66a1-4d33-9d10-649f611cae63",
   "metadata": {},
   "outputs": [
    {
     "data": {
      "text/html": [
       "<div>\n",
       "<style scoped>\n",
       "    .dataframe tbody tr th:only-of-type {\n",
       "        vertical-align: middle;\n",
       "    }\n",
       "\n",
       "    .dataframe tbody tr th {\n",
       "        vertical-align: top;\n",
       "    }\n",
       "\n",
       "    .dataframe thead th {\n",
       "        text-align: right;\n",
       "    }\n",
       "</style>\n",
       "<table border=\"1\" class=\"dataframe\">\n",
       "  <thead>\n",
       "    <tr style=\"text-align: right;\">\n",
       "      <th></th>\n",
       "      <th>user_id</th>\n",
       "      <th>month</th>\n",
       "      <th>total_dist</th>\n",
       "      <th>amount_rides</th>\n",
       "      <th>total_dur</th>\n",
       "      <th>ride_cost</th>\n",
       "      <th>subscription_fee</th>\n",
       "    </tr>\n",
       "  </thead>\n",
       "  <tbody>\n",
       "    <tr>\n",
       "      <th>0</th>\n",
       "      <td>1</td>\n",
       "      <td>1</td>\n",
       "      <td>7027.511294</td>\n",
       "      <td>2</td>\n",
       "      <td>42.0</td>\n",
       "      <td>252.0</td>\n",
       "      <td>199</td>\n",
       "    </tr>\n",
       "    <tr>\n",
       "      <th>1</th>\n",
       "      <td>1</td>\n",
       "      <td>4</td>\n",
       "      <td>754.159807</td>\n",
       "      <td>1</td>\n",
       "      <td>7.0</td>\n",
       "      <td>42.0</td>\n",
       "      <td>199</td>\n",
       "    </tr>\n",
       "    <tr>\n",
       "      <th>2</th>\n",
       "      <td>1</td>\n",
       "      <td>8</td>\n",
       "      <td>6723.470560</td>\n",
       "      <td>2</td>\n",
       "      <td>45.0</td>\n",
       "      <td>276.0</td>\n",
       "      <td>199</td>\n",
       "    </tr>\n",
       "    <tr>\n",
       "      <th>3</th>\n",
       "      <td>1</td>\n",
       "      <td>10</td>\n",
       "      <td>5809.911100</td>\n",
       "      <td>2</td>\n",
       "      <td>32.0</td>\n",
       "      <td>192.0</td>\n",
       "      <td>199</td>\n",
       "    </tr>\n",
       "    <tr>\n",
       "      <th>4</th>\n",
       "      <td>1</td>\n",
       "      <td>11</td>\n",
       "      <td>7003.499363</td>\n",
       "      <td>3</td>\n",
       "      <td>54.0</td>\n",
       "      <td>336.0</td>\n",
       "      <td>199</td>\n",
       "    </tr>\n",
       "    <tr>\n",
       "      <th>...</th>\n",
       "      <td>...</td>\n",
       "      <td>...</td>\n",
       "      <td>...</td>\n",
       "      <td>...</td>\n",
       "      <td>...</td>\n",
       "      <td>...</td>\n",
       "      <td>...</td>\n",
       "    </tr>\n",
       "    <tr>\n",
       "      <th>11295</th>\n",
       "      <td>1534</td>\n",
       "      <td>6</td>\n",
       "      <td>3409.468534</td>\n",
       "      <td>2</td>\n",
       "      <td>25.0</td>\n",
       "      <td>308.0</td>\n",
       "      <td>0</td>\n",
       "    </tr>\n",
       "    <tr>\n",
       "      <th>11296</th>\n",
       "      <td>1534</td>\n",
       "      <td>8</td>\n",
       "      <td>7622.453034</td>\n",
       "      <td>2</td>\n",
       "      <td>48.0</td>\n",
       "      <td>484.0</td>\n",
       "      <td>0</td>\n",
       "    </tr>\n",
       "    <tr>\n",
       "      <th>11297</th>\n",
       "      <td>1534</td>\n",
       "      <td>9</td>\n",
       "      <td>4928.173852</td>\n",
       "      <td>1</td>\n",
       "      <td>23.0</td>\n",
       "      <td>234.0</td>\n",
       "      <td>0</td>\n",
       "    </tr>\n",
       "    <tr>\n",
       "      <th>11298</th>\n",
       "      <td>1534</td>\n",
       "      <td>11</td>\n",
       "      <td>13350.015305</td>\n",
       "      <td>4</td>\n",
       "      <td>77.0</td>\n",
       "      <td>824.0</td>\n",
       "      <td>0</td>\n",
       "    </tr>\n",
       "    <tr>\n",
       "      <th>11299</th>\n",
       "      <td>1534</td>\n",
       "      <td>12</td>\n",
       "      <td>2371.711192</td>\n",
       "      <td>1</td>\n",
       "      <td>16.0</td>\n",
       "      <td>178.0</td>\n",
       "      <td>0</td>\n",
       "    </tr>\n",
       "  </tbody>\n",
       "</table>\n",
       "<p>11300 rows × 7 columns</p>\n",
       "</div>"
      ],
      "text/plain": [
       "       user_id  month    total_dist  amount_rides  total_dur  ride_cost  \\\n",
       "0            1      1   7027.511294             2       42.0      252.0   \n",
       "1            1      4    754.159807             1        7.0       42.0   \n",
       "2            1      8   6723.470560             2       45.0      276.0   \n",
       "3            1     10   5809.911100             2       32.0      192.0   \n",
       "4            1     11   7003.499363             3       54.0      336.0   \n",
       "...        ...    ...           ...           ...        ...        ...   \n",
       "11295     1534      6   3409.468534             2       25.0      308.0   \n",
       "11296     1534      8   7622.453034             2       48.0      484.0   \n",
       "11297     1534      9   4928.173852             1       23.0      234.0   \n",
       "11298     1534     11  13350.015305             4       77.0      824.0   \n",
       "11299     1534     12   2371.711192             1       16.0      178.0   \n",
       "\n",
       "       subscription_fee  \n",
       "0                   199  \n",
       "1                   199  \n",
       "2                   199  \n",
       "3                   199  \n",
       "4                   199  \n",
       "...                 ...  \n",
       "11295                 0  \n",
       "11296                 0  \n",
       "11297                 0  \n",
       "11298                 0  \n",
       "11299                 0  \n",
       "\n",
       "[11300 rows x 7 columns]"
      ]
     },
     "execution_count": 67,
     "metadata": {},
     "output_type": "execute_result"
    }
   ],
   "source": [
    "agg_df_profit"
   ]
  },
  {
   "cell_type": "code",
   "execution_count": 68,
   "id": "cfc4baf6-36a3-475b-8cc5-b9a51b7e6817",
   "metadata": {},
   "outputs": [
    {
     "data": {
      "text/html": [
       "<div>\n",
       "<style scoped>\n",
       "    .dataframe tbody tr th:only-of-type {\n",
       "        vertical-align: middle;\n",
       "    }\n",
       "\n",
       "    .dataframe tbody tr th {\n",
       "        vertical-align: top;\n",
       "    }\n",
       "\n",
       "    .dataframe thead th {\n",
       "        text-align: right;\n",
       "    }\n",
       "</style>\n",
       "<table border=\"1\" class=\"dataframe\">\n",
       "  <thead>\n",
       "    <tr style=\"text-align: right;\">\n",
       "      <th></th>\n",
       "      <th>user_id</th>\n",
       "      <th>month</th>\n",
       "      <th>total_dist</th>\n",
       "      <th>amount_rides</th>\n",
       "      <th>total_dur</th>\n",
       "      <th>ride_cost</th>\n",
       "      <th>subscription_fee</th>\n",
       "      <th>total_profit</th>\n",
       "    </tr>\n",
       "  </thead>\n",
       "  <tbody>\n",
       "    <tr>\n",
       "      <th>0</th>\n",
       "      <td>1</td>\n",
       "      <td>1</td>\n",
       "      <td>7027.511294</td>\n",
       "      <td>2</td>\n",
       "      <td>42.0</td>\n",
       "      <td>252.0</td>\n",
       "      <td>199</td>\n",
       "      <td>451.0</td>\n",
       "    </tr>\n",
       "    <tr>\n",
       "      <th>1</th>\n",
       "      <td>1</td>\n",
       "      <td>4</td>\n",
       "      <td>754.159807</td>\n",
       "      <td>1</td>\n",
       "      <td>7.0</td>\n",
       "      <td>42.0</td>\n",
       "      <td>199</td>\n",
       "      <td>241.0</td>\n",
       "    </tr>\n",
       "    <tr>\n",
       "      <th>2</th>\n",
       "      <td>1</td>\n",
       "      <td>8</td>\n",
       "      <td>6723.470560</td>\n",
       "      <td>2</td>\n",
       "      <td>45.0</td>\n",
       "      <td>276.0</td>\n",
       "      <td>199</td>\n",
       "      <td>475.0</td>\n",
       "    </tr>\n",
       "    <tr>\n",
       "      <th>3</th>\n",
       "      <td>1</td>\n",
       "      <td>10</td>\n",
       "      <td>5809.911100</td>\n",
       "      <td>2</td>\n",
       "      <td>32.0</td>\n",
       "      <td>192.0</td>\n",
       "      <td>199</td>\n",
       "      <td>391.0</td>\n",
       "    </tr>\n",
       "    <tr>\n",
       "      <th>4</th>\n",
       "      <td>1</td>\n",
       "      <td>11</td>\n",
       "      <td>7003.499363</td>\n",
       "      <td>3</td>\n",
       "      <td>54.0</td>\n",
       "      <td>336.0</td>\n",
       "      <td>199</td>\n",
       "      <td>535.0</td>\n",
       "    </tr>\n",
       "    <tr>\n",
       "      <th>...</th>\n",
       "      <td>...</td>\n",
       "      <td>...</td>\n",
       "      <td>...</td>\n",
       "      <td>...</td>\n",
       "      <td>...</td>\n",
       "      <td>...</td>\n",
       "      <td>...</td>\n",
       "      <td>...</td>\n",
       "    </tr>\n",
       "    <tr>\n",
       "      <th>11295</th>\n",
       "      <td>1534</td>\n",
       "      <td>6</td>\n",
       "      <td>3409.468534</td>\n",
       "      <td>2</td>\n",
       "      <td>25.0</td>\n",
       "      <td>308.0</td>\n",
       "      <td>0</td>\n",
       "      <td>308.0</td>\n",
       "    </tr>\n",
       "    <tr>\n",
       "      <th>11296</th>\n",
       "      <td>1534</td>\n",
       "      <td>8</td>\n",
       "      <td>7622.453034</td>\n",
       "      <td>2</td>\n",
       "      <td>48.0</td>\n",
       "      <td>484.0</td>\n",
       "      <td>0</td>\n",
       "      <td>484.0</td>\n",
       "    </tr>\n",
       "    <tr>\n",
       "      <th>11297</th>\n",
       "      <td>1534</td>\n",
       "      <td>9</td>\n",
       "      <td>4928.173852</td>\n",
       "      <td>1</td>\n",
       "      <td>23.0</td>\n",
       "      <td>234.0</td>\n",
       "      <td>0</td>\n",
       "      <td>234.0</td>\n",
       "    </tr>\n",
       "    <tr>\n",
       "      <th>11298</th>\n",
       "      <td>1534</td>\n",
       "      <td>11</td>\n",
       "      <td>13350.015305</td>\n",
       "      <td>4</td>\n",
       "      <td>77.0</td>\n",
       "      <td>824.0</td>\n",
       "      <td>0</td>\n",
       "      <td>824.0</td>\n",
       "    </tr>\n",
       "    <tr>\n",
       "      <th>11299</th>\n",
       "      <td>1534</td>\n",
       "      <td>12</td>\n",
       "      <td>2371.711192</td>\n",
       "      <td>1</td>\n",
       "      <td>16.0</td>\n",
       "      <td>178.0</td>\n",
       "      <td>0</td>\n",
       "      <td>178.0</td>\n",
       "    </tr>\n",
       "  </tbody>\n",
       "</table>\n",
       "<p>11300 rows × 8 columns</p>\n",
       "</div>"
      ],
      "text/plain": [
       "       user_id  month    total_dist  amount_rides  total_dur  ride_cost  \\\n",
       "0            1      1   7027.511294             2       42.0      252.0   \n",
       "1            1      4    754.159807             1        7.0       42.0   \n",
       "2            1      8   6723.470560             2       45.0      276.0   \n",
       "3            1     10   5809.911100             2       32.0      192.0   \n",
       "4            1     11   7003.499363             3       54.0      336.0   \n",
       "...        ...    ...           ...           ...        ...        ...   \n",
       "11295     1534      6   3409.468534             2       25.0      308.0   \n",
       "11296     1534      8   7622.453034             2       48.0      484.0   \n",
       "11297     1534      9   4928.173852             1       23.0      234.0   \n",
       "11298     1534     11  13350.015305             4       77.0      824.0   \n",
       "11299     1534     12   2371.711192             1       16.0      178.0   \n",
       "\n",
       "       subscription_fee  total_profit  \n",
       "0                   199         451.0  \n",
       "1                   199         241.0  \n",
       "2                   199         475.0  \n",
       "3                   199         391.0  \n",
       "4                   199         535.0  \n",
       "...                 ...           ...  \n",
       "11295                 0         308.0  \n",
       "11296                 0         484.0  \n",
       "11297                 0         234.0  \n",
       "11298                 0         824.0  \n",
       "11299                 0         178.0  \n",
       "\n",
       "[11300 rows x 8 columns]"
      ]
     },
     "execution_count": 68,
     "metadata": {},
     "output_type": "execute_result"
    }
   ],
   "source": [
    "agg_df_profit['total_profit'] = agg_df_profit['ride_cost'] + agg_df_profit['subscription_fee']\n",
    "agg_df_profit"
   ]
  },
  {
   "cell_type": "code",
   "execution_count": 69,
   "id": "10c9db93",
   "metadata": {},
   "outputs": [
    {
     "name": "stdout",
     "output_type": "stream",
     "text": [
      " Суммарная Прибыль у ultra = 1644537.0\n",
      " Суммарная прибыль у free = 2228594.0\n",
      " Cреднемесячная Прибыль у ultra = 362.7921906022502\n",
      " Среднемесячная прибыль у free = 329.3326437121324\n"
     ]
    }
   ],
   "source": [
    "# Посчитаю годовую выручку по подпискам\n",
    "print(f\" Суммарная Прибыль у ultra = {agg_df_profit[agg_df_profit['subscription_fee'] == 199]['total_profit'].sum()}\")\n",
    "print(f\" Суммарная прибыль у free = {agg_df_profit[agg_df_profit['subscription_fee'] == 0]['total_profit'].sum()}\")\n",
    "print(f\" Cреднемесячная Прибыль у ultra = {agg_df_profit[agg_df_profit['subscription_fee']== 199]['total_profit'].mean()}\")\n",
    "print(f\" Среднемесячная прибыль у free = {agg_df_profit[agg_df_profit['subscription_fee'] == 0]['total_profit'].mean()}\")"
   ]
  },
  {
   "cell_type": "markdown",
   "id": "be6d12df-f9ce-4a3a-aa1b-47b84e0c5a79",
   "metadata": {
    "tags": []
   },
   "source": [
    "## Вышло неплохо, следующий шаг - проверка гипотез для бизнеса."
   ]
  },
  {
   "cell_type": "code",
   "execution_count": 70,
   "id": "ad5392b5",
   "metadata": {},
   "outputs": [
    {
     "data": {
      "text/plain": [
       "3873131.0"
      ]
     },
     "execution_count": 70,
     "metadata": {},
     "output_type": "execute_result"
    }
   ],
   "source": [
    "agg_df_profit['total_profit'].sum()"
   ]
  },
  {
   "cell_type": "markdown",
   "id": "e5c5e670-f691-4349-ae64-72a4eae1a69c",
   "metadata": {},
   "source": [
    "## Проверка гипотез\n",
    "## Продакт-менеджеры сервиса хотят увеличить количество пользователей с подпиской. Для этого они будут проводить различные акции, но сначала нужно выяснить несколько важных моментов."
   ]
  },
  {
   "cell_type": "markdown",
   "id": "3ad03c35-6382-4000-8f03-b3c19c23fb46",
   "metadata": {},
   "source": [
    "### Важно понять, тратят ли пользователи с подпиской больше времени на поездки? Если да, то пользователи с подпиской могут быть «выгоднее» для компании. Проверить гипотезу. Используя исходные данные о продолжительности каждой сессии — отдельно для подписчиков и тех, у кого нет подписки."
   ]
  },
  {
   "cell_type": "markdown",
   "id": "165411cc-d635-42c7-b9d5-b46645fb055f",
   "metadata": {},
   "source": [
    "Выдвинем две гипотезы: \n",
    "\n",
    "H0: Пользователи с подпиской в среднем тратят столько же времени на поездки , сколько и пользователи без подписки\n",
    "\n",
    "H1: Пользователи с подпиской в среднем тратят больше времени на поездки, чем пользователи без подписки"
   ]
  },
  {
   "cell_type": "markdown",
   "id": "217dd3e2-a032-4029-b450-a1e26befdd81",
   "metadata": {},
   "source": [
    "Получается, правостороння гипотеза о равенстве средних для выборок, будем использовать scipy.stats.ttest_ind(array1, array2, equal_var, alternative)"
   ]
  },
  {
   "cell_type": "code",
   "execution_count": 71,
   "id": "4ea334ed-a416-4ef4-b20a-01842ad0117d",
   "metadata": {},
   "outputs": [
    {
     "name": "stdout",
     "output_type": "stream",
     "text": [
      "p-значение: 4.704468074453899e-28\n",
      "Нет оснований принять нулевую гипотезу\n"
     ]
    }
   ],
   "source": [
    "from scipy import stats as st\n",
    "alpha1 = 0.01\n",
    "results = st.ttest_ind(df_ultra['duration'], df_free['duration'],alternative = 'greater')\n",
    "print('p-значение:', results.pvalue)\n",
    "\n",
    "if results.pvalue < alpha1:\n",
    "    print('Нет оснований принять нулевую гипотезу')\n",
    "else:\n",
    "    print('Не получилось отвергнуть нулевую гипотезу') "
   ]
  },
  {
   "cell_type": "markdown",
   "id": "8c438a8e",
   "metadata": {},
   "source": [
    "P - value даёт нам понять, с какой вероятностью мы можем получить искомый или переваливающий его результат(H0) при верной Гипотезе H0, конкретно здесь, получая столь малое значение(ниже любого общепринятого порога) мы пониманаем, что среднея длительность поездки дя пользователей с подпиской больше, чем для пользователей без подписки"
   ]
  },
  {
   "cell_type": "markdown",
   "id": "b3951f96-f1f8-4baf-a44e-95ade22dae4d",
   "metadata": {},
   "source": [
    "### Вывод: Мы получили p-value меньше уровня стат.значимости в 1%, так что у нас нет оснований принимать нулевую гипотезу, соответственно. мы можем сделать вывод, что пользователи с подпиской тратят больше времени на поездки. чем \"free\"-шные юзеры, начальству стоит обсудить усиление акцента на подписке среди пользователей, мб. ввести акции"
   ]
  },
  {
   "cell_type": "markdown",
   "id": "e8221f78-df58-44b0-909e-70b3c2f0e8ed",
   "metadata": {},
   "source": [
    "### Расстояние одной поездки в  3130 метров — оптимальное с точки зрения износа самоката. \n",
    "### Можно ли сказать, что среднее расстояние, которое проезжают пользователи с подпиской за одну поездку, не превышает 3130 метров? Проверить гипотезу и сделать выводы.\n"
   ]
  },
  {
   "cell_type": "markdown",
   "id": "f3b05009-8098-45cd-852f-d666583db3d0",
   "metadata": {},
   "source": [
    "Итак, нулевая гипотеза: \n",
    "\n",
    "H0: Среднее расстояние, которое проезжают пользователи \"ultra\" не превышает 3130 метров (mu = 3130,получается)\n",
    "\n",
    "H1: Среднее расстояние, которое проезжают пользователи больше 3130 метров (mu>3130)\n",
    "\n",
    "Будем использовать ttest_1samp"
   ]
  },
  {
   "cell_type": "code",
   "execution_count": 73,
   "id": "b2dc7494-7260-4321-8bc7-0cb0e5193c35",
   "metadata": {},
   "outputs": [
    {
     "name": "stdout",
     "output_type": "stream",
     "text": [
      "p-значение: 0.9195368847849785\n",
      "Не получилось отвергнуть нулевую гипотезу\n"
     ]
    }
   ],
   "source": [
    "alpha2 = 0.01\n",
    "num_optima = 3130\n",
    "results = st.ttest_1samp(df_ultra['distance'],num_optima,alternative = 'greater')\n",
    "print('p-значение:', results.pvalue)\n",
    "\n",
    "if results.pvalue < alpha2:\n",
    "    print('Нет оснований принять нулевую гипотезу')\n",
    "else:\n",
    "    print('Не получилось отвергнуть нулевую гипотезу') \n",
    "    "
   ]
  },
  {
   "cell_type": "markdown",
   "id": "e491178b-0a63-45c0-bd3f-af76f447dc48",
   "metadata": {},
   "source": [
    "Вывод: Исходя из полученной вероятности с помощью p-value мы не можем утверждать, что нулевая гипотеза не верна -> можно сказать, что \n",
    "\n",
    "### Среднее расстояние, которое проезжают пользователи \"ultra\" не превышает 3130 метров \n",
    "это нам на руку, не нужно менять самокаты или повышать цены на поездки для уменьшения \"амортизации\""
   ]
  },
  {
   "cell_type": "markdown",
   "id": "1c64010e-0aa8-473f-a413-6fea9cc7b1b4",
   "metadata": {},
   "source": [
    "\n",
    "### Проверить гипотезу о том, будет ли помесячная выручка от пользователей с подпиской по месяцам выше, чем выручка от пользователей без подписки. Сделайте вывод."
   ]
  },
  {
   "cell_type": "markdown",
   "id": "8a83a167-1b8b-45d2-8916-63bc2cbfd16c",
   "metadata": {},
   "source": [
    "Две гипотезы: \n",
    "\n",
    "H0: Выручки ultra и free юзеров равны\n",
    "\n",
    "H1: Выручка ultra юзеров больше,чем у free юзеров\n",
    "\n",
    "Используем ttest_ind тест"
   ]
  },
  {
   "cell_type": "code",
   "execution_count": 74,
   "id": "3dc598d7-f6d4-4c01-9400-94cc4bbc4daa",
   "metadata": {},
   "outputs": [
    {
     "name": "stdout",
     "output_type": "stream",
     "text": [
      "p-значение: 2.0314113674863288e-30\n",
      "Нет оснований принять нулевую гипотезу\n"
     ]
    }
   ],
   "source": [
    "alpha3 = 0.01\n",
    "results = st.ttest_ind(agg_df_profit[agg_df_profit['subscription_fee'] > 0]['total_profit'], \n",
    "                       agg_df_profit[agg_df_profit['subscription_fee'] == 0]['total_profit'],alternative = 'greater')\n",
    "print('p-значение:', results.pvalue)\n",
    "\n",
    "if results.pvalue < alpha3:\n",
    "    print('Нет оснований принять нулевую гипотезу')\n",
    "else:\n",
    "    print('Не получилось отвергнуть нулевую гипотезу') "
   ]
  },
  {
   "cell_type": "markdown",
   "id": "92ce3b19-273a-4fbb-9165-7064d98b7221",
   "metadata": {},
   "source": [
    "### Вывод: Мы получили p-value кратно меньше уровня стат.значимости в 1%, так что у нас нет оснований принимать нулевую гипотезу, соответственно. мы можем сделать вывод, что пользователи с подпиской в среднем помесячно приносят больше, чем пользователи без подписки, и компании,как я указал выше, стоит всерьез задуматься над тем, чтобы продвигать свою подписку!"
   ]
  },
  {
   "cell_type": "markdown",
   "id": "fcdf1394-d2ef-434d-809e-062cea2c575c",
   "metadata": {},
   "source": [
    "## Общий вывод:\n",
    "\n",
    "В ходе данной работы было сделано следующее:\n",
    "1. Изучены данные о сервисе проката, \"подчищенны\" данные от пропусков, дубликатов и т.д. Исправлены некорректные данные в виде выбросов, приведено соответствие типов, подготовлены данные для агрегирования.\n",
    "\n",
    "2. Агрегированы данные для дальнейшего изучения\n",
    "\n",
    "3. Было выявлено, что:\n",
    "\n",
    "- 1.Частота встречаемости городов: Преобладает Пятигорск, Екатеринбург и Ростов,  все города в диапозоне 10.95-14.27 %\n",
    "- 2.Больше людей ездят без подписки, чем с подпской. Соотношение 54.4% и 45.6%\n",
    "- 3.Чаще среди пользователей встречается возраст 25 лет, самый старший пользователь - 43, младший - 12.Основной возраст пользователей от 22 до 28 лет\n",
    "- 4.В среднем пользователи проезжают чуть больше 3км(3133м). Есть отклоняющиеся значения от основного диапозона, есть отдельная группа среди пользователей без подписки - те, кто скорее всего ситуацтивно берут самокаты, чтобы добраться быстро и недалеко.\n",
    "- 5.Средняя продолжительность поездки примерно 18 минут. Основная часть поездок укладывается в 14-22 минуты.\n",
    "\n",
    "\n",
    "4. С помощью графиков распределений было получено, что тип подписки не оказывает значительного влияния на выбор длительности и дистанции поездок. Пользователи выбирают самокаты для схожих целей независимо от наличия подписки.\n",
    "5. Были получены помесячная прибыль для пользователей с предварительной подготовкой данных. \n",
    "6. Получены ответы на основные вопросы:\n",
    "- Пользователи с подпиской тратят больше времени на поездки, чем пользователи без подписки, руководству стоит обсудить усиление акцента на подписке среди пользователей, ввести акции. увеличить рассылку и т.д\n",
    "- Среднее расстояние, которое проезжают пользователи \"ultra\" не превышает 3130 метров, это нам на руку, не нужнло менять самокаты или повышать цены на поездки для уменьшения \"амортизации\".\n",
    "- пользователи с подпиской в среднем помесячно приносят больше, чем пользователи без подписки, и компании,как я указал выше, стоит всерьез задуматься над тем, чтобы продвигать свою подписку!\n",
    "7. Анализируя цифры: \n",
    "- годовая Прибыль от пользователей с подпиской = 1.644.537, годовая Прибыль от пользователей без подписки = 2.228.594, при имеющихся 6500 поездках у пользователей с подпиской, против 11473 поездках у пользователей подписки.\n",
    "- среднемесячная выручка от пользователей с подпиской = 362.79, среднемесячная выручка от пользователей без подписки = 329.33, при имеющихся 6500 поездках у пользователей с подпиской, против 11473 поездках у пользователей подписки. \n",
    "- Учитывая эти показатели, можно сказать, что однозначно является целесообразным вкладываться в продвижение, рекламу и развитие акционных событий для привлечения в ряды \"подписчиков ultra\", разница между двумя поездками у пользователей разных групп почти в 2 раза, а прибыль можно сравнять для этих групп, если количество поездок у пользователей с подпиской будет примерно 8800(вместо 6500 имеющихся). Что однозначно является наиболее выгодным кусом для привлечение новой аудтиории\n",
    "\n"
   ]
  }
 ],
 "metadata": {
  "ExecuteTimeLog": [
   {
    "duration": 1168,
    "start_time": "2024-02-19T21:27:23.567Z"
   },
   {
    "duration": 28,
    "start_time": "2024-02-19T21:27:24.737Z"
   },
   {
    "duration": 31,
    "start_time": "2024-02-19T21:27:24.767Z"
   },
   {
    "duration": 15,
    "start_time": "2024-02-19T21:27:24.799Z"
   },
   {
    "duration": 13,
    "start_time": "2024-02-19T21:27:24.817Z"
   },
   {
    "duration": 14,
    "start_time": "2024-02-19T21:27:24.832Z"
   },
   {
    "duration": 23,
    "start_time": "2024-02-19T21:27:24.848Z"
   },
   {
    "duration": 10,
    "start_time": "2024-02-19T21:27:24.873Z"
   },
   {
    "duration": 26,
    "start_time": "2024-02-19T21:27:24.885Z"
   },
   {
    "duration": 19,
    "start_time": "2024-02-19T21:27:24.913Z"
   },
   {
    "duration": 13,
    "start_time": "2024-02-19T21:27:24.933Z"
   },
   {
    "duration": 15,
    "start_time": "2024-02-19T21:27:24.947Z"
   },
   {
    "duration": 35,
    "start_time": "2024-02-19T21:27:24.964Z"
   },
   {
    "duration": 20,
    "start_time": "2024-02-19T21:27:25.003Z"
   },
   {
    "duration": 12,
    "start_time": "2024-02-19T21:27:25.025Z"
   },
   {
    "duration": 11,
    "start_time": "2024-02-19T21:27:25.039Z"
   },
   {
    "duration": 22,
    "start_time": "2024-02-19T21:27:25.052Z"
   },
   {
    "duration": 18,
    "start_time": "2024-02-19T21:27:25.076Z"
   },
   {
    "duration": 29,
    "start_time": "2024-02-19T21:27:25.096Z"
   },
   {
    "duration": 19,
    "start_time": "2024-02-19T21:27:25.126Z"
   },
   {
    "duration": 20,
    "start_time": "2024-02-19T21:27:25.147Z"
   },
   {
    "duration": 16,
    "start_time": "2024-02-19T21:27:25.168Z"
   },
   {
    "duration": 7,
    "start_time": "2024-02-19T21:27:25.186Z"
   },
   {
    "duration": 21,
    "start_time": "2024-02-19T21:27:25.194Z"
   },
   {
    "duration": 29,
    "start_time": "2024-02-19T21:27:25.217Z"
   },
   {
    "duration": 8,
    "start_time": "2024-02-19T21:27:25.248Z"
   },
   {
    "duration": 17,
    "start_time": "2024-02-19T21:27:25.257Z"
   },
   {
    "duration": 35,
    "start_time": "2024-02-19T21:27:25.275Z"
   },
   {
    "duration": 5,
    "start_time": "2024-02-19T21:27:25.311Z"
   },
   {
    "duration": 9,
    "start_time": "2024-02-19T21:27:25.318Z"
   },
   {
    "duration": 10,
    "start_time": "2024-02-19T21:27:25.329Z"
   },
   {
    "duration": 23,
    "start_time": "2024-02-19T21:27:25.341Z"
   },
   {
    "duration": 10,
    "start_time": "2024-02-19T21:27:25.365Z"
   },
   {
    "duration": 11,
    "start_time": "2024-02-19T21:27:25.377Z"
   },
   {
    "duration": 174,
    "start_time": "2024-02-19T21:27:25.389Z"
   },
   {
    "duration": 7,
    "start_time": "2024-02-19T21:27:25.564Z"
   },
   {
    "duration": 122,
    "start_time": "2024-02-19T21:27:25.573Z"
   },
   {
    "duration": 8,
    "start_time": "2024-02-19T21:27:25.696Z"
   },
   {
    "duration": 18,
    "start_time": "2024-02-19T21:27:25.706Z"
   },
   {
    "duration": 214,
    "start_time": "2024-02-19T21:27:25.725Z"
   },
   {
    "duration": 9,
    "start_time": "2024-02-19T21:27:25.944Z"
   },
   {
    "duration": 238,
    "start_time": "2024-02-19T21:27:25.954Z"
   },
   {
    "duration": 16,
    "start_time": "2024-02-19T21:27:26.193Z"
   },
   {
    "duration": 174,
    "start_time": "2024-02-19T21:27:26.210Z"
   },
   {
    "duration": 221,
    "start_time": "2024-02-19T21:27:26.387Z"
   },
   {
    "duration": 139,
    "start_time": "2024-02-19T21:27:26.610Z"
   },
   {
    "duration": 12,
    "start_time": "2024-02-19T21:27:26.751Z"
   },
   {
    "duration": 247,
    "start_time": "2024-02-19T21:27:26.765Z"
   },
   {
    "duration": 217,
    "start_time": "2024-02-19T21:27:27.014Z"
   },
   {
    "duration": 17,
    "start_time": "2024-02-19T21:27:27.232Z"
   },
   {
    "duration": 35,
    "start_time": "2024-02-19T21:27:27.251Z"
   },
   {
    "duration": 4,
    "start_time": "2024-02-19T21:27:27.288Z"
   },
   {
    "duration": 208,
    "start_time": "2024-02-19T21:27:27.294Z"
   },
   {
    "duration": 10,
    "start_time": "2024-02-19T21:27:27.503Z"
   },
   {
    "duration": 91,
    "start_time": "2024-02-19T21:27:27.515Z"
   },
   {
    "duration": 33,
    "start_time": "2024-02-19T21:27:27.608Z"
   },
   {
    "duration": 41,
    "start_time": "2024-02-19T21:27:27.643Z"
   },
   {
    "duration": 29,
    "start_time": "2024-02-19T21:27:27.691Z"
   },
   {
    "duration": 25,
    "start_time": "2024-02-19T21:27:27.722Z"
   },
   {
    "duration": 968,
    "start_time": "2024-02-19T21:27:27.749Z"
   },
   {
    "duration": 39,
    "start_time": "2024-02-19T21:27:28.718Z"
   },
   {
    "duration": 3,
    "start_time": "2024-02-19T21:27:28.758Z"
   },
   {
    "duration": 39,
    "start_time": "2024-02-19T21:27:28.763Z"
   },
   {
    "duration": 16,
    "start_time": "2024-02-19T21:27:28.803Z"
   },
   {
    "duration": 29,
    "start_time": "2024-02-19T21:27:28.821Z"
   },
   {
    "duration": 11,
    "start_time": "2024-02-19T21:27:28.851Z"
   },
   {
    "duration": 43,
    "start_time": "2024-02-19T21:27:28.863Z"
   },
   {
    "duration": 31,
    "start_time": "2024-02-19T21:27:28.908Z"
   },
   {
    "duration": 8,
    "start_time": "2024-02-19T21:27:28.942Z"
   },
   {
    "duration": 7,
    "start_time": "2024-02-19T21:27:28.953Z"
   },
   {
    "duration": 35,
    "start_time": "2024-02-19T21:27:28.963Z"
   },
   {
    "duration": 6,
    "start_time": "2024-02-19T21:27:29.000Z"
   },
   {
    "duration": 1188,
    "start_time": "2024-02-19T21:29:15.070Z"
   },
   {
    "duration": 28,
    "start_time": "2024-02-19T21:29:16.260Z"
   },
   {
    "duration": 29,
    "start_time": "2024-02-19T21:29:16.290Z"
   },
   {
    "duration": 15,
    "start_time": "2024-02-19T21:29:16.321Z"
   },
   {
    "duration": 12,
    "start_time": "2024-02-19T21:29:16.338Z"
   },
   {
    "duration": 13,
    "start_time": "2024-02-19T21:29:16.352Z"
   },
   {
    "duration": 17,
    "start_time": "2024-02-19T21:29:16.366Z"
   },
   {
    "duration": 13,
    "start_time": "2024-02-19T21:29:16.385Z"
   },
   {
    "duration": 26,
    "start_time": "2024-02-19T21:29:16.400Z"
   },
   {
    "duration": 24,
    "start_time": "2024-02-19T21:29:16.430Z"
   },
   {
    "duration": 7,
    "start_time": "2024-02-19T21:29:16.456Z"
   },
   {
    "duration": 20,
    "start_time": "2024-02-19T21:29:16.464Z"
   },
   {
    "duration": 24,
    "start_time": "2024-02-19T21:29:16.485Z"
   },
   {
    "duration": 21,
    "start_time": "2024-02-19T21:29:16.511Z"
   },
   {
    "duration": 10,
    "start_time": "2024-02-19T21:29:16.533Z"
   },
   {
    "duration": 18,
    "start_time": "2024-02-19T21:29:16.545Z"
   },
   {
    "duration": 7,
    "start_time": "2024-02-19T21:29:16.564Z"
   },
   {
    "duration": 21,
    "start_time": "2024-02-19T21:29:16.573Z"
   },
   {
    "duration": 9,
    "start_time": "2024-02-19T21:29:16.596Z"
   },
   {
    "duration": 15,
    "start_time": "2024-02-19T21:29:16.607Z"
   },
   {
    "duration": 17,
    "start_time": "2024-02-19T21:29:16.624Z"
   },
   {
    "duration": 40,
    "start_time": "2024-02-19T21:29:16.642Z"
   },
   {
    "duration": 21,
    "start_time": "2024-02-19T21:29:16.683Z"
   },
   {
    "duration": 19,
    "start_time": "2024-02-19T21:29:16.705Z"
   },
   {
    "duration": 15,
    "start_time": "2024-02-19T21:29:16.725Z"
   },
   {
    "duration": 15,
    "start_time": "2024-02-19T21:29:16.742Z"
   },
   {
    "duration": 9,
    "start_time": "2024-02-19T21:29:16.759Z"
   },
   {
    "duration": 34,
    "start_time": "2024-02-19T21:29:16.773Z"
   },
   {
    "duration": 5,
    "start_time": "2024-02-19T21:29:16.809Z"
   },
   {
    "duration": 39,
    "start_time": "2024-02-19T21:29:16.816Z"
   },
   {
    "duration": 5,
    "start_time": "2024-02-19T21:29:16.857Z"
   },
   {
    "duration": 23,
    "start_time": "2024-02-19T21:29:16.864Z"
   },
   {
    "duration": 20,
    "start_time": "2024-02-19T21:29:16.889Z"
   },
   {
    "duration": 30,
    "start_time": "2024-02-19T21:29:16.911Z"
   },
   {
    "duration": 189,
    "start_time": "2024-02-19T21:29:16.943Z"
   },
   {
    "duration": 7,
    "start_time": "2024-02-19T21:29:17.133Z"
   },
   {
    "duration": 109,
    "start_time": "2024-02-19T21:29:17.142Z"
   },
   {
    "duration": 9,
    "start_time": "2024-02-19T21:29:17.253Z"
   },
   {
    "duration": 10,
    "start_time": "2024-02-19T21:29:17.264Z"
   },
   {
    "duration": 207,
    "start_time": "2024-02-19T21:29:17.291Z"
   },
   {
    "duration": 11,
    "start_time": "2024-02-19T21:29:17.500Z"
   },
   {
    "duration": 235,
    "start_time": "2024-02-19T21:29:17.513Z"
   },
   {
    "duration": 15,
    "start_time": "2024-02-19T21:29:17.750Z"
   },
   {
    "duration": 149,
    "start_time": "2024-02-19T21:29:17.767Z"
   },
   {
    "duration": 224,
    "start_time": "2024-02-19T21:29:17.918Z"
   },
   {
    "duration": 141,
    "start_time": "2024-02-19T21:29:18.144Z"
   },
   {
    "duration": 11,
    "start_time": "2024-02-19T21:29:18.286Z"
   },
   {
    "duration": 241,
    "start_time": "2024-02-19T21:29:18.299Z"
   },
   {
    "duration": 216,
    "start_time": "2024-02-19T21:29:18.542Z"
   },
   {
    "duration": 18,
    "start_time": "2024-02-19T21:29:18.760Z"
   },
   {
    "duration": 18,
    "start_time": "2024-02-19T21:29:18.779Z"
   },
   {
    "duration": 8,
    "start_time": "2024-02-19T21:29:18.799Z"
   },
   {
    "duration": 211,
    "start_time": "2024-02-19T21:29:18.808Z"
   },
   {
    "duration": 9,
    "start_time": "2024-02-19T21:29:19.021Z"
   },
   {
    "duration": 51,
    "start_time": "2024-02-19T21:29:19.031Z"
   },
   {
    "duration": 20,
    "start_time": "2024-02-19T21:29:19.084Z"
   },
   {
    "duration": 46,
    "start_time": "2024-02-19T21:29:19.106Z"
   },
   {
    "duration": 42,
    "start_time": "2024-02-19T21:29:19.153Z"
   },
   {
    "duration": 26,
    "start_time": "2024-02-19T21:29:19.197Z"
   },
   {
    "duration": 970,
    "start_time": "2024-02-19T21:29:19.225Z"
   },
   {
    "duration": 39,
    "start_time": "2024-02-19T21:29:20.197Z"
   },
   {
    "duration": 3,
    "start_time": "2024-02-19T21:29:20.237Z"
   },
   {
    "duration": 15,
    "start_time": "2024-02-19T21:29:20.242Z"
   },
   {
    "duration": 42,
    "start_time": "2024-02-19T21:29:20.259Z"
   },
   {
    "duration": 30,
    "start_time": "2024-02-19T21:29:20.303Z"
   },
   {
    "duration": 10,
    "start_time": "2024-02-19T21:29:20.335Z"
   },
   {
    "duration": 16,
    "start_time": "2024-02-19T21:29:20.347Z"
   },
   {
    "duration": 20,
    "start_time": "2024-02-19T21:29:20.391Z"
   },
   {
    "duration": 7,
    "start_time": "2024-02-19T21:29:20.413Z"
   },
   {
    "duration": 7,
    "start_time": "2024-02-19T21:29:20.422Z"
   },
   {
    "duration": 11,
    "start_time": "2024-02-19T21:29:20.431Z"
   },
   {
    "duration": 52,
    "start_time": "2024-02-20T12:43:25.393Z"
   },
   {
    "duration": 1075,
    "start_time": "2024-02-20T12:43:30.198Z"
   },
   {
    "duration": 28,
    "start_time": "2024-02-20T12:43:31.274Z"
   },
   {
    "duration": 27,
    "start_time": "2024-02-20T12:43:31.304Z"
   },
   {
    "duration": 15,
    "start_time": "2024-02-20T12:43:31.333Z"
   },
   {
    "duration": 12,
    "start_time": "2024-02-20T12:43:31.350Z"
   },
   {
    "duration": 26,
    "start_time": "2024-02-20T12:43:31.364Z"
   },
   {
    "duration": 23,
    "start_time": "2024-02-20T12:43:31.392Z"
   },
   {
    "duration": 58,
    "start_time": "2024-02-20T12:43:31.417Z"
   },
   {
    "duration": 34,
    "start_time": "2024-02-20T12:43:31.476Z"
   },
   {
    "duration": 24,
    "start_time": "2024-02-20T12:43:31.511Z"
   },
   {
    "duration": 6,
    "start_time": "2024-02-20T12:43:31.537Z"
   },
   {
    "duration": 26,
    "start_time": "2024-02-20T12:43:31.545Z"
   },
   {
    "duration": 31,
    "start_time": "2024-02-20T12:43:31.572Z"
   },
   {
    "duration": 15,
    "start_time": "2024-02-20T12:43:31.605Z"
   },
   {
    "duration": 8,
    "start_time": "2024-02-20T12:43:31.621Z"
   },
   {
    "duration": 7,
    "start_time": "2024-02-20T12:43:31.630Z"
   },
   {
    "duration": 26,
    "start_time": "2024-02-20T12:43:31.639Z"
   },
   {
    "duration": 6,
    "start_time": "2024-02-20T12:43:31.668Z"
   },
   {
    "duration": 13,
    "start_time": "2024-02-20T12:43:31.675Z"
   },
   {
    "duration": 23,
    "start_time": "2024-02-20T12:43:31.690Z"
   },
   {
    "duration": 15,
    "start_time": "2024-02-20T12:43:31.715Z"
   },
   {
    "duration": 5,
    "start_time": "2024-02-20T12:43:31.732Z"
   },
   {
    "duration": 6,
    "start_time": "2024-02-20T12:43:31.738Z"
   },
   {
    "duration": 32,
    "start_time": "2024-02-20T12:43:31.745Z"
   },
   {
    "duration": 12,
    "start_time": "2024-02-20T12:43:31.779Z"
   },
   {
    "duration": 8,
    "start_time": "2024-02-20T12:43:31.792Z"
   },
   {
    "duration": 8,
    "start_time": "2024-02-20T12:43:31.801Z"
   },
   {
    "duration": 11,
    "start_time": "2024-02-20T12:43:31.811Z"
   },
   {
    "duration": 5,
    "start_time": "2024-02-20T12:43:31.823Z"
   },
   {
    "duration": 37,
    "start_time": "2024-02-20T12:43:31.829Z"
   },
   {
    "duration": 4,
    "start_time": "2024-02-20T12:43:31.867Z"
   },
   {
    "duration": 6,
    "start_time": "2024-02-20T12:43:31.872Z"
   },
   {
    "duration": 4,
    "start_time": "2024-02-20T12:43:31.879Z"
   },
   {
    "duration": 5,
    "start_time": "2024-02-20T12:43:31.884Z"
   },
   {
    "duration": 170,
    "start_time": "2024-02-20T12:43:31.891Z"
   },
   {
    "duration": 7,
    "start_time": "2024-02-20T12:43:32.065Z"
   },
   {
    "duration": 95,
    "start_time": "2024-02-20T12:43:32.073Z"
   },
   {
    "duration": 7,
    "start_time": "2024-02-20T12:43:32.170Z"
   },
   {
    "duration": 7,
    "start_time": "2024-02-20T12:43:32.178Z"
   },
   {
    "duration": 181,
    "start_time": "2024-02-20T12:43:32.186Z"
   },
   {
    "duration": 8,
    "start_time": "2024-02-20T12:43:32.371Z"
   },
   {
    "duration": 216,
    "start_time": "2024-02-20T12:43:32.381Z"
   },
   {
    "duration": 13,
    "start_time": "2024-02-20T12:43:32.598Z"
   },
   {
    "duration": 132,
    "start_time": "2024-02-20T12:43:32.612Z"
   },
   {
    "duration": 168,
    "start_time": "2024-02-20T12:43:32.745Z"
   },
   {
    "duration": 109,
    "start_time": "2024-02-20T12:43:32.915Z"
   },
   {
    "duration": 9,
    "start_time": "2024-02-20T12:43:33.026Z"
   },
   {
    "duration": 200,
    "start_time": "2024-02-20T12:43:33.036Z"
   },
   {
    "duration": 179,
    "start_time": "2024-02-20T12:43:33.237Z"
   },
   {
    "duration": 14,
    "start_time": "2024-02-20T12:43:33.418Z"
   },
   {
    "duration": 9,
    "start_time": "2024-02-20T12:43:33.433Z"
   },
   {
    "duration": 4,
    "start_time": "2024-02-20T12:43:33.443Z"
   },
   {
    "duration": 172,
    "start_time": "2024-02-20T12:43:33.464Z"
   },
   {
    "duration": 8,
    "start_time": "2024-02-20T12:43:33.638Z"
   },
   {
    "duration": 31,
    "start_time": "2024-02-20T12:43:33.648Z"
   },
   {
    "duration": 18,
    "start_time": "2024-02-20T12:43:33.681Z"
   },
   {
    "duration": 25,
    "start_time": "2024-02-20T12:43:33.701Z"
   },
   {
    "duration": 55,
    "start_time": "2024-02-20T12:43:33.727Z"
   },
   {
    "duration": 22,
    "start_time": "2024-02-20T12:43:33.784Z"
   },
   {
    "duration": 812,
    "start_time": "2024-02-20T12:43:33.807Z"
   },
   {
    "duration": 32,
    "start_time": "2024-02-20T12:43:34.621Z"
   },
   {
    "duration": 5,
    "start_time": "2024-02-20T12:43:34.665Z"
   },
   {
    "duration": 19,
    "start_time": "2024-02-20T12:43:34.671Z"
   },
   {
    "duration": 18,
    "start_time": "2024-02-20T12:43:34.692Z"
   },
   {
    "duration": 25,
    "start_time": "2024-02-20T12:43:34.711Z"
   },
   {
    "duration": 9,
    "start_time": "2024-02-20T12:43:34.738Z"
   },
   {
    "duration": 14,
    "start_time": "2024-02-20T12:43:34.764Z"
   },
   {
    "duration": 20,
    "start_time": "2024-02-20T12:43:34.779Z"
   },
   {
    "duration": 5,
    "start_time": "2024-02-20T12:43:34.801Z"
   },
   {
    "duration": 14,
    "start_time": "2024-02-20T12:43:34.807Z"
   },
   {
    "duration": 4,
    "start_time": "2024-02-20T12:43:34.822Z"
   },
   {
    "duration": 12,
    "start_time": "2024-02-20T12:43:34.828Z"
   },
   {
    "duration": 1105,
    "start_time": "2024-02-20T12:57:49.077Z"
   },
   {
    "duration": 28,
    "start_time": "2024-02-20T12:57:50.184Z"
   },
   {
    "duration": 29,
    "start_time": "2024-02-20T12:57:50.213Z"
   },
   {
    "duration": 14,
    "start_time": "2024-02-20T12:57:50.244Z"
   },
   {
    "duration": 20,
    "start_time": "2024-02-20T12:57:50.260Z"
   },
   {
    "duration": 10,
    "start_time": "2024-02-20T12:57:50.282Z"
   },
   {
    "duration": 23,
    "start_time": "2024-02-20T12:57:50.293Z"
   },
   {
    "duration": 8,
    "start_time": "2024-02-20T12:57:50.318Z"
   },
   {
    "duration": 20,
    "start_time": "2024-02-20T12:57:50.327Z"
   },
   {
    "duration": 23,
    "start_time": "2024-02-20T12:57:50.349Z"
   },
   {
    "duration": 9,
    "start_time": "2024-02-20T12:57:50.374Z"
   },
   {
    "duration": 29,
    "start_time": "2024-02-20T12:57:50.385Z"
   },
   {
    "duration": 24,
    "start_time": "2024-02-20T12:57:50.415Z"
   },
   {
    "duration": 13,
    "start_time": "2024-02-20T12:57:50.441Z"
   },
   {
    "duration": 7,
    "start_time": "2024-02-20T12:57:50.455Z"
   },
   {
    "duration": 6,
    "start_time": "2024-02-20T12:57:50.465Z"
   },
   {
    "duration": 5,
    "start_time": "2024-02-20T12:57:50.472Z"
   },
   {
    "duration": 8,
    "start_time": "2024-02-20T12:57:50.478Z"
   },
   {
    "duration": 8,
    "start_time": "2024-02-20T12:57:50.487Z"
   },
   {
    "duration": 12,
    "start_time": "2024-02-20T12:57:50.496Z"
   },
   {
    "duration": 6,
    "start_time": "2024-02-20T12:57:50.509Z"
   },
   {
    "duration": 8,
    "start_time": "2024-02-20T12:57:50.516Z"
   },
   {
    "duration": 6,
    "start_time": "2024-02-20T12:57:50.525Z"
   },
   {
    "duration": 11,
    "start_time": "2024-02-20T12:57:50.565Z"
   },
   {
    "duration": 10,
    "start_time": "2024-02-20T12:57:50.578Z"
   },
   {
    "duration": 20,
    "start_time": "2024-02-20T12:57:50.590Z"
   },
   {
    "duration": 8,
    "start_time": "2024-02-20T12:57:50.611Z"
   },
   {
    "duration": 11,
    "start_time": "2024-02-20T12:57:50.620Z"
   },
   {
    "duration": 4,
    "start_time": "2024-02-20T12:57:50.632Z"
   },
   {
    "duration": 29,
    "start_time": "2024-02-20T12:57:50.637Z"
   },
   {
    "duration": 4,
    "start_time": "2024-02-20T12:57:50.667Z"
   },
   {
    "duration": 7,
    "start_time": "2024-02-20T12:57:50.672Z"
   },
   {
    "duration": 4,
    "start_time": "2024-02-20T12:57:50.680Z"
   },
   {
    "duration": 13,
    "start_time": "2024-02-20T12:57:50.685Z"
   },
   {
    "duration": 175,
    "start_time": "2024-02-20T12:57:50.700Z"
   },
   {
    "duration": 6,
    "start_time": "2024-02-20T12:57:50.877Z"
   },
   {
    "duration": 106,
    "start_time": "2024-02-20T12:57:50.885Z"
   },
   {
    "duration": 7,
    "start_time": "2024-02-20T12:57:50.993Z"
   },
   {
    "duration": 6,
    "start_time": "2024-02-20T12:57:51.002Z"
   },
   {
    "duration": 199,
    "start_time": "2024-02-20T12:57:51.010Z"
   },
   {
    "duration": 8,
    "start_time": "2024-02-20T12:57:51.213Z"
   },
   {
    "duration": 202,
    "start_time": "2024-02-20T12:57:51.222Z"
   },
   {
    "duration": 13,
    "start_time": "2024-02-20T12:57:51.425Z"
   },
   {
    "duration": 128,
    "start_time": "2024-02-20T12:57:51.439Z"
   },
   {
    "duration": 168,
    "start_time": "2024-02-20T12:57:51.568Z"
   },
   {
    "duration": 128,
    "start_time": "2024-02-20T12:57:51.738Z"
   },
   {
    "duration": 9,
    "start_time": "2024-02-20T12:57:51.867Z"
   },
   {
    "duration": 196,
    "start_time": "2024-02-20T12:57:51.877Z"
   },
   {
    "duration": 193,
    "start_time": "2024-02-20T12:57:52.075Z"
   },
   {
    "duration": 15,
    "start_time": "2024-02-20T12:57:52.270Z"
   },
   {
    "duration": 8,
    "start_time": "2024-02-20T12:57:52.287Z"
   },
   {
    "duration": 4,
    "start_time": "2024-02-20T12:57:52.297Z"
   },
   {
    "duration": 215,
    "start_time": "2024-02-20T12:57:52.302Z"
   },
   {
    "duration": 8,
    "start_time": "2024-02-20T12:57:52.519Z"
   },
   {
    "duration": 37,
    "start_time": "2024-02-20T12:57:52.529Z"
   },
   {
    "duration": 20,
    "start_time": "2024-02-20T12:57:52.567Z"
   },
   {
    "duration": 25,
    "start_time": "2024-02-20T12:57:52.589Z"
   },
   {
    "duration": 23,
    "start_time": "2024-02-20T12:57:52.616Z"
   },
   {
    "duration": 21,
    "start_time": "2024-02-20T12:57:52.665Z"
   },
   {
    "duration": 828,
    "start_time": "2024-02-20T12:57:52.688Z"
   },
   {
    "duration": 48,
    "start_time": "2024-02-20T12:57:53.517Z"
   },
   {
    "duration": 2,
    "start_time": "2024-02-20T12:57:53.567Z"
   },
   {
    "duration": 18,
    "start_time": "2024-02-20T12:57:53.571Z"
   },
   {
    "duration": 18,
    "start_time": "2024-02-20T12:57:53.590Z"
   },
   {
    "duration": 32,
    "start_time": "2024-02-20T12:57:53.609Z"
   },
   {
    "duration": 24,
    "start_time": "2024-02-20T12:57:53.642Z"
   },
   {
    "duration": 15,
    "start_time": "2024-02-20T12:57:53.668Z"
   },
   {
    "duration": 16,
    "start_time": "2024-02-20T12:57:53.684Z"
   },
   {
    "duration": 10,
    "start_time": "2024-02-20T12:57:53.702Z"
   },
   {
    "duration": 7,
    "start_time": "2024-02-20T12:57:53.714Z"
   },
   {
    "duration": 6,
    "start_time": "2024-02-20T12:57:53.722Z"
   },
   {
    "duration": 17,
    "start_time": "2024-02-20T12:57:53.729Z"
   },
   {
    "duration": 80,
    "start_time": "2024-02-20T20:24:04.396Z"
   },
   {
    "duration": 46,
    "start_time": "2024-02-20T20:26:18.827Z"
   },
   {
    "duration": 1304,
    "start_time": "2024-02-20T20:26:25.076Z"
   },
   {
    "duration": 74,
    "start_time": "2024-02-20T20:26:26.382Z"
   },
   {
    "duration": 71,
    "start_time": "2024-02-20T20:26:26.458Z"
   },
   {
    "duration": 61,
    "start_time": "2024-02-20T20:26:28.661Z"
   },
   {
    "duration": 13,
    "start_time": "2024-02-20T20:26:29.672Z"
   },
   {
    "duration": 11,
    "start_time": "2024-02-20T20:26:31.043Z"
   },
   {
    "duration": 15,
    "start_time": "2024-02-20T20:26:35.970Z"
   },
   {
    "duration": 12,
    "start_time": "2024-02-20T20:26:39.538Z"
   },
   {
    "duration": 10,
    "start_time": "2024-02-20T20:26:42.139Z"
   },
   {
    "duration": 26,
    "start_time": "2024-02-20T20:28:27.394Z"
   },
   {
    "duration": 27,
    "start_time": "2024-02-20T20:28:44.082Z"
   },
   {
    "duration": 32,
    "start_time": "2024-02-20T20:29:03.037Z"
   },
   {
    "duration": 1462,
    "start_time": "2024-02-21T09:31:33.079Z"
   },
   {
    "duration": 72,
    "start_time": "2024-02-21T09:31:34.544Z"
   },
   {
    "duration": 80,
    "start_time": "2024-02-21T09:31:34.618Z"
   },
   {
    "duration": 49,
    "start_time": "2024-02-21T09:31:34.700Z"
   },
   {
    "duration": 36,
    "start_time": "2024-02-21T09:31:34.752Z"
   },
   {
    "duration": 32,
    "start_time": "2024-02-21T09:31:34.790Z"
   },
   {
    "duration": 42,
    "start_time": "2024-02-21T09:31:34.824Z"
   },
   {
    "duration": 11,
    "start_time": "2024-02-21T09:31:34.868Z"
   },
   {
    "duration": 23,
    "start_time": "2024-02-21T09:31:34.881Z"
   },
   {
    "duration": 22,
    "start_time": "2024-02-21T09:31:34.906Z"
   },
   {
    "duration": 44,
    "start_time": "2024-02-21T09:31:34.930Z"
   },
   {
    "duration": 13,
    "start_time": "2024-02-21T09:31:34.976Z"
   },
   {
    "duration": 8,
    "start_time": "2024-02-21T09:31:34.991Z"
   },
   {
    "duration": 6,
    "start_time": "2024-02-21T09:31:35.004Z"
   },
   {
    "duration": 49,
    "start_time": "2024-02-21T09:31:35.012Z"
   },
   {
    "duration": 38,
    "start_time": "2024-02-21T09:31:35.063Z"
   },
   {
    "duration": 26,
    "start_time": "2024-02-21T09:31:35.103Z"
   },
   {
    "duration": 8,
    "start_time": "2024-02-21T09:31:35.131Z"
   },
   {
    "duration": 22,
    "start_time": "2024-02-21T09:31:35.141Z"
   },
   {
    "duration": 27,
    "start_time": "2024-02-21T09:31:35.165Z"
   },
   {
    "duration": 31,
    "start_time": "2024-02-21T09:31:35.194Z"
   },
   {
    "duration": 39,
    "start_time": "2024-02-21T09:31:35.226Z"
   },
   {
    "duration": 41,
    "start_time": "2024-02-21T09:31:35.267Z"
   },
   {
    "duration": 27,
    "start_time": "2024-02-21T09:31:35.310Z"
   },
   {
    "duration": 41,
    "start_time": "2024-02-21T09:31:35.339Z"
   },
   {
    "duration": 5,
    "start_time": "2024-02-21T09:31:35.382Z"
   },
   {
    "duration": 9,
    "start_time": "2024-02-21T09:31:35.389Z"
   },
   {
    "duration": 27,
    "start_time": "2024-02-21T09:31:35.400Z"
   },
   {
    "duration": 9,
    "start_time": "2024-02-21T09:31:35.429Z"
   },
   {
    "duration": 207,
    "start_time": "2024-02-21T09:31:35.440Z"
   },
   {
    "duration": 12,
    "start_time": "2024-02-21T09:31:35.649Z"
   },
   {
    "duration": 189,
    "start_time": "2024-02-21T09:31:35.665Z"
   },
   {
    "duration": 10,
    "start_time": "2024-02-21T09:31:35.859Z"
   },
   {
    "duration": 33,
    "start_time": "2024-02-21T09:31:35.871Z"
   },
   {
    "duration": 245,
    "start_time": "2024-02-21T09:31:35.906Z"
   },
   {
    "duration": 13,
    "start_time": "2024-02-21T09:31:36.153Z"
   },
   {
    "duration": 235,
    "start_time": "2024-02-21T09:31:36.168Z"
   },
   {
    "duration": 16,
    "start_time": "2024-02-21T09:31:36.405Z"
   },
   {
    "duration": 178,
    "start_time": "2024-02-21T09:31:36.423Z"
   },
   {
    "duration": 193,
    "start_time": "2024-02-21T09:31:36.604Z"
   },
   {
    "duration": 152,
    "start_time": "2024-02-21T09:31:36.802Z"
   },
   {
    "duration": 11,
    "start_time": "2024-02-21T09:31:36.959Z"
   },
   {
    "duration": 239,
    "start_time": "2024-02-21T09:31:36.972Z"
   },
   {
    "duration": 218,
    "start_time": "2024-02-21T09:31:37.213Z"
   },
   {
    "duration": 17,
    "start_time": "2024-02-21T09:31:37.432Z"
   },
   {
    "duration": 16,
    "start_time": "2024-02-21T09:31:37.458Z"
   },
   {
    "duration": 20,
    "start_time": "2024-02-21T09:31:37.476Z"
   },
   {
    "duration": 216,
    "start_time": "2024-02-21T09:31:37.498Z"
   },
   {
    "duration": 10,
    "start_time": "2024-02-21T09:31:37.716Z"
   },
   {
    "duration": 55,
    "start_time": "2024-02-21T09:31:37.728Z"
   },
   {
    "duration": 27,
    "start_time": "2024-02-21T09:31:37.786Z"
   },
   {
    "duration": 69,
    "start_time": "2024-02-21T09:31:37.816Z"
   },
   {
    "duration": 81,
    "start_time": "2024-02-21T09:31:37.887Z"
   },
   {
    "duration": 25,
    "start_time": "2024-02-21T09:31:37.969Z"
   },
   {
    "duration": 2030,
    "start_time": "2024-02-21T09:31:37.995Z"
   },
   {
    "duration": 49,
    "start_time": "2024-02-21T09:31:40.027Z"
   },
   {
    "duration": 3,
    "start_time": "2024-02-21T09:31:40.078Z"
   },
   {
    "duration": 65,
    "start_time": "2024-02-21T09:31:40.083Z"
   },
   {
    "duration": 23,
    "start_time": "2024-02-21T09:31:40.150Z"
   },
   {
    "duration": 34,
    "start_time": "2024-02-21T09:31:40.178Z"
   },
   {
    "duration": 10,
    "start_time": "2024-02-21T09:31:40.214Z"
   },
   {
    "duration": 35,
    "start_time": "2024-02-21T09:31:40.225Z"
   },
   {
    "duration": 20,
    "start_time": "2024-02-21T09:31:40.262Z"
   },
   {
    "duration": 26,
    "start_time": "2024-02-21T09:31:40.284Z"
   },
   {
    "duration": 9,
    "start_time": "2024-02-21T09:31:40.313Z"
   },
   {
    "duration": 5,
    "start_time": "2024-02-21T09:31:40.328Z"
   },
   {
    "duration": 30,
    "start_time": "2024-02-21T09:31:40.335Z"
   },
   {
    "duration": 335,
    "start_time": "2024-02-21T09:35:05.524Z"
   },
   {
    "duration": 190,
    "start_time": "2024-02-21T09:35:09.484Z"
   },
   {
    "duration": 195,
    "start_time": "2024-02-21T09:35:19.109Z"
   },
   {
    "duration": 216,
    "start_time": "2024-02-21T09:35:22.554Z"
   },
   {
    "duration": 304,
    "start_time": "2024-02-21T09:35:27.192Z"
   },
   {
    "duration": 160,
    "start_time": "2024-02-21T09:35:44.087Z"
   },
   {
    "duration": 168,
    "start_time": "2024-02-21T09:36:49.192Z"
   },
   {
    "duration": 177,
    "start_time": "2024-02-21T09:36:55.189Z"
   },
   {
    "duration": 183,
    "start_time": "2024-02-21T09:37:00.550Z"
   },
   {
    "duration": 159,
    "start_time": "2024-02-21T09:37:10.091Z"
   },
   {
    "duration": 225,
    "start_time": "2024-02-21T09:37:26.955Z"
   },
   {
    "duration": 11,
    "start_time": "2024-02-21T09:37:55.880Z"
   },
   {
    "duration": 72,
    "start_time": "2024-02-21T09:40:44.554Z"
   },
   {
    "duration": 119,
    "start_time": "2024-02-21T09:40:50.148Z"
   },
   {
    "duration": 103,
    "start_time": "2024-02-21T09:41:03.857Z"
   },
   {
    "duration": 119,
    "start_time": "2024-02-21T09:41:25.602Z"
   },
   {
    "duration": 103,
    "start_time": "2024-02-21T09:41:31.034Z"
   },
   {
    "duration": 117,
    "start_time": "2024-02-21T09:46:17.358Z"
   },
   {
    "duration": 115,
    "start_time": "2024-02-21T09:46:37.426Z"
   },
   {
    "duration": 12,
    "start_time": "2024-02-21T09:49:03.737Z"
   },
   {
    "duration": 11,
    "start_time": "2024-02-21T09:49:07.351Z"
   },
   {
    "duration": 9,
    "start_time": "2024-02-21T09:49:16.796Z"
   },
   {
    "duration": 6,
    "start_time": "2024-02-21T09:50:41.437Z"
   },
   {
    "duration": 5,
    "start_time": "2024-02-21T09:50:46.381Z"
   },
   {
    "duration": 6,
    "start_time": "2024-02-21T09:50:51.323Z"
   },
   {
    "duration": 7,
    "start_time": "2024-02-21T09:50:59.836Z"
   },
   {
    "duration": 6,
    "start_time": "2024-02-21T09:51:05.435Z"
   },
   {
    "duration": 96,
    "start_time": "2024-02-21T09:51:26.052Z"
   },
   {
    "duration": 243,
    "start_time": "2024-02-21T09:51:40.448Z"
   },
   {
    "duration": 135,
    "start_time": "2024-02-21T09:51:51.199Z"
   },
   {
    "duration": 136,
    "start_time": "2024-02-21T09:51:59.279Z"
   },
   {
    "duration": 138,
    "start_time": "2024-02-21T09:52:02.429Z"
   },
   {
    "duration": 103,
    "start_time": "2024-02-21T09:52:07.518Z"
   },
   {
    "duration": 105,
    "start_time": "2024-02-21T09:53:09.090Z"
   },
   {
    "duration": 147,
    "start_time": "2024-02-21T09:53:22.127Z"
   },
   {
    "duration": 136,
    "start_time": "2024-02-21T09:53:24.848Z"
   },
   {
    "duration": 102,
    "start_time": "2024-02-21T09:53:28.379Z"
   },
   {
    "duration": 139,
    "start_time": "2024-02-21T09:53:36.085Z"
   },
   {
    "duration": 98,
    "start_time": "2024-02-21T09:53:39.486Z"
   },
   {
    "duration": 98,
    "start_time": "2024-02-21T09:53:48.162Z"
   },
   {
    "duration": 101,
    "start_time": "2024-02-21T09:54:01.095Z"
   },
   {
    "duration": 133,
    "start_time": "2024-02-21T09:54:08.342Z"
   },
   {
    "duration": 99,
    "start_time": "2024-02-21T09:54:11.619Z"
   },
   {
    "duration": 103,
    "start_time": "2024-02-21T09:54:21.566Z"
   },
   {
    "duration": 10,
    "start_time": "2024-02-21T09:56:35.113Z"
   },
   {
    "duration": 202,
    "start_time": "2024-02-21T09:56:49.328Z"
   },
   {
    "duration": 264,
    "start_time": "2024-02-21T09:57:00.369Z"
   },
   {
    "duration": 170,
    "start_time": "2024-02-21T09:58:14.808Z"
   },
   {
    "duration": 163,
    "start_time": "2024-02-21T09:59:10.846Z"
   },
   {
    "duration": 177,
    "start_time": "2024-02-21T09:59:13.859Z"
   },
   {
    "duration": 267,
    "start_time": "2024-02-21T10:00:05.179Z"
   },
   {
    "duration": 128,
    "start_time": "2024-02-21T10:01:15.698Z"
   },
   {
    "duration": 119,
    "start_time": "2024-02-21T10:01:25.441Z"
   },
   {
    "duration": 107,
    "start_time": "2024-02-21T10:01:28.006Z"
   },
   {
    "duration": 110,
    "start_time": "2024-02-21T10:01:55.364Z"
   },
   {
    "duration": 117,
    "start_time": "2024-02-21T10:02:00.444Z"
   },
   {
    "duration": 105,
    "start_time": "2024-02-21T10:02:08.108Z"
   },
   {
    "duration": 119,
    "start_time": "2024-02-21T10:02:17.229Z"
   },
   {
    "duration": 135,
    "start_time": "2024-02-21T10:02:22.005Z"
   },
   {
    "duration": 134,
    "start_time": "2024-02-21T10:02:29.428Z"
   },
   {
    "duration": 122,
    "start_time": "2024-02-21T10:02:31.957Z"
   },
   {
    "duration": 225,
    "start_time": "2024-02-21T10:02:34.651Z"
   },
   {
    "duration": 78,
    "start_time": "2024-02-21T10:02:52.744Z"
   },
   {
    "duration": 117,
    "start_time": "2024-02-21T10:03:01.765Z"
   },
   {
    "duration": 109,
    "start_time": "2024-02-21T10:03:07.730Z"
   },
   {
    "duration": 9,
    "start_time": "2024-02-21T10:03:18.270Z"
   },
   {
    "duration": 176,
    "start_time": "2024-02-21T10:03:20.738Z"
   },
   {
    "duration": 154,
    "start_time": "2024-02-21T10:03:26.645Z"
   },
   {
    "duration": 193,
    "start_time": "2024-02-21T10:04:52.168Z"
   },
   {
    "duration": 164,
    "start_time": "2024-02-21T10:05:06.077Z"
   },
   {
    "duration": 188,
    "start_time": "2024-02-21T10:05:27.619Z"
   },
   {
    "duration": 179,
    "start_time": "2024-02-21T10:05:31.608Z"
   },
   {
    "duration": 173,
    "start_time": "2024-02-21T10:05:36.775Z"
   },
   {
    "duration": 202,
    "start_time": "2024-02-21T10:05:50.640Z"
   },
   {
    "duration": 172,
    "start_time": "2024-02-21T10:06:05.818Z"
   },
   {
    "duration": 309,
    "start_time": "2024-02-21T10:06:13.025Z"
   },
   {
    "duration": 191,
    "start_time": "2024-02-21T10:06:32.635Z"
   },
   {
    "duration": 84,
    "start_time": "2024-02-21T10:09:18.598Z"
   },
   {
    "duration": 203,
    "start_time": "2024-02-21T10:09:30.671Z"
   },
   {
    "duration": 9,
    "start_time": "2024-02-21T10:17:58.213Z"
   },
   {
    "duration": 110,
    "start_time": "2024-02-21T10:18:02.054Z"
   },
   {
    "duration": 80,
    "start_time": "2024-02-21T10:18:11.536Z"
   },
   {
    "duration": 9,
    "start_time": "2024-02-21T10:18:14.983Z"
   },
   {
    "duration": 21,
    "start_time": "2024-02-21T10:18:28.832Z"
   },
   {
    "duration": 77,
    "start_time": "2024-02-21T10:18:34.408Z"
   },
   {
    "duration": 10,
    "start_time": "2024-02-21T10:18:43.571Z"
   },
   {
    "duration": 9,
    "start_time": "2024-02-21T10:18:48.857Z"
   },
   {
    "duration": 4,
    "start_time": "2024-02-21T10:18:52.248Z"
   },
   {
    "duration": 13,
    "start_time": "2024-02-21T10:18:58.017Z"
   },
   {
    "duration": 6,
    "start_time": "2024-02-21T10:19:16.869Z"
   },
   {
    "duration": 18,
    "start_time": "2024-02-21T10:19:36.246Z"
   },
   {
    "duration": 10,
    "start_time": "2024-02-21T10:19:39.896Z"
   },
   {
    "duration": 9,
    "start_time": "2024-02-21T10:19:44.708Z"
   },
   {
    "duration": 76,
    "start_time": "2024-02-21T10:20:53.015Z"
   },
   {
    "duration": 69,
    "start_time": "2024-02-21T10:21:41.778Z"
   },
   {
    "duration": 19,
    "start_time": "2024-02-21T10:22:08.053Z"
   },
   {
    "duration": 11,
    "start_time": "2024-02-21T10:22:15.932Z"
   },
   {
    "duration": 11,
    "start_time": "2024-02-21T10:22:22.178Z"
   },
   {
    "duration": 315,
    "start_time": "2024-02-21T11:35:26.441Z"
   },
   {
    "duration": 204,
    "start_time": "2024-02-21T11:35:29.458Z"
   },
   {
    "duration": 186,
    "start_time": "2024-02-21T11:35:36.104Z"
   },
   {
    "duration": 546,
    "start_time": "2024-02-21T11:36:31.238Z"
   },
   {
    "duration": 2067,
    "start_time": "2024-02-21T11:37:07.602Z"
   },
   {
    "duration": 216,
    "start_time": "2024-02-21T11:37:23.030Z"
   },
   {
    "duration": 225,
    "start_time": "2024-02-21T11:43:29.055Z"
   },
   {
    "duration": 392,
    "start_time": "2024-02-21T11:43:45.233Z"
   },
   {
    "duration": 1766,
    "start_time": "2024-02-21T11:43:53.512Z"
   },
   {
    "duration": 1091,
    "start_time": "2024-02-21T11:44:17.717Z"
   },
   {
    "duration": 27,
    "start_time": "2024-02-21T11:44:18.810Z"
   },
   {
    "duration": 33,
    "start_time": "2024-02-21T11:44:18.839Z"
   },
   {
    "duration": 14,
    "start_time": "2024-02-21T11:44:18.874Z"
   },
   {
    "duration": 26,
    "start_time": "2024-02-21T11:44:18.890Z"
   },
   {
    "duration": 39,
    "start_time": "2024-02-21T11:44:18.918Z"
   },
   {
    "duration": 18,
    "start_time": "2024-02-21T11:44:18.959Z"
   },
   {
    "duration": 7,
    "start_time": "2024-02-21T11:44:18.979Z"
   },
   {
    "duration": 9,
    "start_time": "2024-02-21T11:44:18.988Z"
   },
   {
    "duration": 20,
    "start_time": "2024-02-21T11:44:18.999Z"
   },
   {
    "duration": 48,
    "start_time": "2024-02-21T11:44:19.021Z"
   },
   {
    "duration": 10,
    "start_time": "2024-02-21T11:44:19.070Z"
   },
   {
    "duration": 20,
    "start_time": "2024-02-21T11:44:19.081Z"
   },
   {
    "duration": 22,
    "start_time": "2024-02-21T11:44:19.105Z"
   },
   {
    "duration": 20,
    "start_time": "2024-02-21T11:44:19.129Z"
   },
   {
    "duration": 6,
    "start_time": "2024-02-21T11:44:19.151Z"
   },
   {
    "duration": 7,
    "start_time": "2024-02-21T11:44:19.159Z"
   },
   {
    "duration": 6,
    "start_time": "2024-02-21T11:44:19.167Z"
   },
   {
    "duration": 18,
    "start_time": "2024-02-21T11:44:19.175Z"
   },
   {
    "duration": 15,
    "start_time": "2024-02-21T11:44:19.195Z"
   },
   {
    "duration": 8,
    "start_time": "2024-02-21T11:44:19.211Z"
   },
   {
    "duration": 40,
    "start_time": "2024-02-21T11:44:19.220Z"
   },
   {
    "duration": 15,
    "start_time": "2024-02-21T11:44:19.262Z"
   },
   {
    "duration": 4,
    "start_time": "2024-02-21T11:44:19.279Z"
   },
   {
    "duration": 13,
    "start_time": "2024-02-21T11:44:19.285Z"
   },
   {
    "duration": 3,
    "start_time": "2024-02-21T11:44:19.300Z"
   },
   {
    "duration": 22,
    "start_time": "2024-02-21T11:44:19.305Z"
   },
   {
    "duration": 5,
    "start_time": "2024-02-21T11:44:19.329Z"
   },
   {
    "duration": 5,
    "start_time": "2024-02-21T11:44:19.336Z"
   },
   {
    "duration": 201,
    "start_time": "2024-02-21T11:44:19.342Z"
   },
   {
    "duration": 6,
    "start_time": "2024-02-21T11:44:19.544Z"
   },
   {
    "duration": 102,
    "start_time": "2024-02-21T11:44:19.559Z"
   },
   {
    "duration": 8,
    "start_time": "2024-02-21T11:44:19.663Z"
   },
   {
    "duration": 8,
    "start_time": "2024-02-21T11:44:19.673Z"
   },
   {
    "duration": 218,
    "start_time": "2024-02-21T11:44:19.683Z"
   },
   {
    "duration": 9,
    "start_time": "2024-02-21T11:44:19.903Z"
   },
   {
    "duration": 219,
    "start_time": "2024-02-21T11:44:19.913Z"
   },
   {
    "duration": 14,
    "start_time": "2024-02-21T11:44:20.134Z"
   },
   {
    "duration": 132,
    "start_time": "2024-02-21T11:44:20.149Z"
   },
   {
    "duration": 198,
    "start_time": "2024-02-21T11:44:20.282Z"
   },
   {
    "duration": 132,
    "start_time": "2024-02-21T11:44:20.484Z"
   },
   {
    "duration": 9,
    "start_time": "2024-02-21T11:44:20.618Z"
   },
   {
    "duration": 222,
    "start_time": "2024-02-21T11:44:20.629Z"
   },
   {
    "duration": 208,
    "start_time": "2024-02-21T11:44:20.858Z"
   },
   {
    "duration": 17,
    "start_time": "2024-02-21T11:44:21.069Z"
   },
   {
    "duration": 9,
    "start_time": "2024-02-21T11:44:21.087Z"
   },
   {
    "duration": 5,
    "start_time": "2024-02-21T11:44:21.097Z"
   },
   {
    "duration": 230,
    "start_time": "2024-02-21T11:44:21.104Z"
   },
   {
    "duration": 23,
    "start_time": "2024-02-21T11:44:21.336Z"
   },
   {
    "duration": 25,
    "start_time": "2024-02-21T11:44:21.362Z"
   },
   {
    "duration": 21,
    "start_time": "2024-02-21T11:44:21.389Z"
   },
   {
    "duration": 53,
    "start_time": "2024-02-21T11:44:21.411Z"
   },
   {
    "duration": 5,
    "start_time": "2024-02-21T11:44:21.466Z"
   },
   {
    "duration": 13,
    "start_time": "2024-02-21T11:44:21.473Z"
   },
   {
    "duration": 27,
    "start_time": "2024-02-21T11:44:21.488Z"
   },
   {
    "duration": 56,
    "start_time": "2024-02-21T11:44:21.517Z"
   },
   {
    "duration": 12,
    "start_time": "2024-02-21T11:44:21.575Z"
   },
   {
    "duration": 1760,
    "start_time": "2024-02-21T11:44:21.588Z"
   },
   {
    "duration": 0,
    "start_time": "2024-02-21T11:44:23.349Z"
   },
   {
    "duration": 0,
    "start_time": "2024-02-21T11:44:23.359Z"
   },
   {
    "duration": 0,
    "start_time": "2024-02-21T11:44:23.360Z"
   },
   {
    "duration": 0,
    "start_time": "2024-02-21T11:44:23.361Z"
   },
   {
    "duration": 0,
    "start_time": "2024-02-21T11:44:23.362Z"
   },
   {
    "duration": 0,
    "start_time": "2024-02-21T11:44:23.363Z"
   },
   {
    "duration": 0,
    "start_time": "2024-02-21T11:44:23.365Z"
   },
   {
    "duration": 0,
    "start_time": "2024-02-21T11:44:23.366Z"
   },
   {
    "duration": 0,
    "start_time": "2024-02-21T11:44:23.367Z"
   },
   {
    "duration": 0,
    "start_time": "2024-02-21T11:44:23.368Z"
   },
   {
    "duration": 0,
    "start_time": "2024-02-21T11:44:23.369Z"
   },
   {
    "duration": 0,
    "start_time": "2024-02-21T11:44:23.370Z"
   },
   {
    "duration": 1667,
    "start_time": "2024-02-21T11:44:41.391Z"
   },
   {
    "duration": 689,
    "start_time": "2024-02-21T11:46:08.820Z"
   },
   {
    "duration": 834,
    "start_time": "2024-02-21T11:46:39.604Z"
   },
   {
    "duration": 735,
    "start_time": "2024-02-21T11:47:18.310Z"
   },
   {
    "duration": 784,
    "start_time": "2024-02-21T11:48:22.159Z"
   },
   {
    "duration": 859,
    "start_time": "2024-02-21T11:48:44.009Z"
   },
   {
    "duration": 650,
    "start_time": "2024-02-21T11:48:54.122Z"
   },
   {
    "duration": 665,
    "start_time": "2024-02-21T11:49:04.932Z"
   },
   {
    "duration": 780,
    "start_time": "2024-02-21T11:49:11.520Z"
   },
   {
    "duration": 707,
    "start_time": "2024-02-21T11:49:59.971Z"
   },
   {
    "duration": 767,
    "start_time": "2024-02-21T11:50:11.584Z"
   },
   {
    "duration": 851,
    "start_time": "2024-02-21T11:50:25.199Z"
   },
   {
    "duration": 751,
    "start_time": "2024-02-21T11:50:36.898Z"
   },
   {
    "duration": 736,
    "start_time": "2024-02-21T11:50:48.946Z"
   },
   {
    "duration": 889,
    "start_time": "2024-02-21T11:58:29.120Z"
   },
   {
    "duration": 821,
    "start_time": "2024-02-21T11:58:42.590Z"
   },
   {
    "duration": 52,
    "start_time": "2024-02-21T12:00:17.109Z"
   },
   {
    "duration": 9,
    "start_time": "2024-02-21T12:11:02.873Z"
   },
   {
    "duration": 1125,
    "start_time": "2024-02-21T12:11:10.780Z"
   },
   {
    "duration": 28,
    "start_time": "2024-02-21T12:11:11.907Z"
   },
   {
    "duration": 33,
    "start_time": "2024-02-21T12:11:11.936Z"
   },
   {
    "duration": 14,
    "start_time": "2024-02-21T12:11:11.971Z"
   },
   {
    "duration": 26,
    "start_time": "2024-02-21T12:11:11.987Z"
   },
   {
    "duration": 27,
    "start_time": "2024-02-21T12:11:12.015Z"
   },
   {
    "duration": 19,
    "start_time": "2024-02-21T12:11:12.059Z"
   },
   {
    "duration": 8,
    "start_time": "2024-02-21T12:11:12.080Z"
   },
   {
    "duration": 13,
    "start_time": "2024-02-21T12:11:12.090Z"
   },
   {
    "duration": 28,
    "start_time": "2024-02-21T12:11:12.107Z"
   },
   {
    "duration": 34,
    "start_time": "2024-02-21T12:11:12.137Z"
   },
   {
    "duration": 11,
    "start_time": "2024-02-21T12:11:12.173Z"
   },
   {
    "duration": 20,
    "start_time": "2024-02-21T12:11:12.185Z"
   },
   {
    "duration": 17,
    "start_time": "2024-02-21T12:11:12.207Z"
   },
   {
    "duration": 21,
    "start_time": "2024-02-21T12:11:12.225Z"
   },
   {
    "duration": 21,
    "start_time": "2024-02-21T12:11:12.248Z"
   },
   {
    "duration": 21,
    "start_time": "2024-02-21T12:11:12.271Z"
   },
   {
    "duration": 12,
    "start_time": "2024-02-21T12:11:12.294Z"
   },
   {
    "duration": 18,
    "start_time": "2024-02-21T12:11:12.307Z"
   },
   {
    "duration": 12,
    "start_time": "2024-02-21T12:11:12.327Z"
   },
   {
    "duration": 23,
    "start_time": "2024-02-21T12:11:12.341Z"
   },
   {
    "duration": 24,
    "start_time": "2024-02-21T12:11:12.366Z"
   },
   {
    "duration": 16,
    "start_time": "2024-02-21T12:11:12.391Z"
   },
   {
    "duration": 14,
    "start_time": "2024-02-21T12:11:12.409Z"
   },
   {
    "duration": 18,
    "start_time": "2024-02-21T12:11:12.425Z"
   },
   {
    "duration": 10,
    "start_time": "2024-02-21T12:11:12.444Z"
   },
   {
    "duration": 33,
    "start_time": "2024-02-21T12:11:12.455Z"
   },
   {
    "duration": 20,
    "start_time": "2024-02-21T12:11:12.492Z"
   },
   {
    "duration": 21,
    "start_time": "2024-02-21T12:11:12.513Z"
   },
   {
    "duration": 221,
    "start_time": "2024-02-21T12:11:12.535Z"
   },
   {
    "duration": 7,
    "start_time": "2024-02-21T12:11:12.758Z"
   },
   {
    "duration": 113,
    "start_time": "2024-02-21T12:11:12.767Z"
   },
   {
    "duration": 7,
    "start_time": "2024-02-21T12:11:12.882Z"
   },
   {
    "duration": 20,
    "start_time": "2024-02-21T12:11:12.891Z"
   },
   {
    "duration": 203,
    "start_time": "2024-02-21T12:11:12.912Z"
   },
   {
    "duration": 8,
    "start_time": "2024-02-21T12:11:13.117Z"
   },
   {
    "duration": 221,
    "start_time": "2024-02-21T12:11:13.127Z"
   },
   {
    "duration": 17,
    "start_time": "2024-02-21T12:11:13.349Z"
   },
   {
    "duration": 135,
    "start_time": "2024-02-21T12:11:13.368Z"
   },
   {
    "duration": 196,
    "start_time": "2024-02-21T12:11:13.505Z"
   },
   {
    "duration": 131,
    "start_time": "2024-02-21T12:11:13.703Z"
   },
   {
    "duration": 9,
    "start_time": "2024-02-21T12:11:13.836Z"
   },
   {
    "duration": 235,
    "start_time": "2024-02-21T12:11:13.846Z"
   },
   {
    "duration": 205,
    "start_time": "2024-02-21T12:11:14.083Z"
   },
   {
    "duration": 17,
    "start_time": "2024-02-21T12:11:14.290Z"
   },
   {
    "duration": 8,
    "start_time": "2024-02-21T12:11:14.309Z"
   },
   {
    "duration": 7,
    "start_time": "2024-02-21T12:11:14.318Z"
   },
   {
    "duration": 225,
    "start_time": "2024-02-21T12:11:14.327Z"
   },
   {
    "duration": 13,
    "start_time": "2024-02-21T12:11:14.553Z"
   },
   {
    "duration": 23,
    "start_time": "2024-02-21T12:11:14.568Z"
   },
   {
    "duration": 19,
    "start_time": "2024-02-21T12:11:14.592Z"
   },
   {
    "duration": 51,
    "start_time": "2024-02-21T12:11:14.613Z"
   },
   {
    "duration": 5,
    "start_time": "2024-02-21T12:11:14.666Z"
   },
   {
    "duration": 24,
    "start_time": "2024-02-21T12:11:14.672Z"
   },
   {
    "duration": 26,
    "start_time": "2024-02-21T12:11:14.697Z"
   },
   {
    "duration": 44,
    "start_time": "2024-02-21T12:11:14.725Z"
   },
   {
    "duration": 10,
    "start_time": "2024-02-21T12:11:14.770Z"
   },
   {
    "duration": 837,
    "start_time": "2024-02-21T12:11:14.782Z"
   },
   {
    "duration": 59,
    "start_time": "2024-02-21T12:11:15.621Z"
   },
   {
    "duration": 35,
    "start_time": "2024-02-21T12:11:15.681Z"
   },
   {
    "duration": 5,
    "start_time": "2024-02-21T12:11:15.718Z"
   },
   {
    "duration": 40,
    "start_time": "2024-02-21T12:11:15.725Z"
   },
   {
    "duration": 27,
    "start_time": "2024-02-21T12:11:15.766Z"
   },
   {
    "duration": 29,
    "start_time": "2024-02-21T12:11:15.794Z"
   },
   {
    "duration": 10,
    "start_time": "2024-02-21T12:11:15.824Z"
   },
   {
    "duration": 25,
    "start_time": "2024-02-21T12:11:15.835Z"
   },
   {
    "duration": 30,
    "start_time": "2024-02-21T12:11:15.862Z"
   },
   {
    "duration": 8,
    "start_time": "2024-02-21T12:11:15.894Z"
   },
   {
    "duration": 23,
    "start_time": "2024-02-21T12:11:15.903Z"
   },
   {
    "duration": 8,
    "start_time": "2024-02-21T12:11:15.928Z"
   },
   {
    "duration": 16,
    "start_time": "2024-02-21T12:11:15.937Z"
   },
   {
    "duration": 18,
    "start_time": "2024-02-21T12:12:26.480Z"
   },
   {
    "duration": 13,
    "start_time": "2024-02-21T12:12:33.899Z"
   },
   {
    "duration": 97,
    "start_time": "2024-02-21T12:12:58.708Z"
   },
   {
    "duration": 17,
    "start_time": "2024-02-21T12:13:02.962Z"
   },
   {
    "duration": 13,
    "start_time": "2024-02-21T12:13:10.640Z"
   },
   {
    "duration": 8,
    "start_time": "2024-02-21T12:13:14.367Z"
   },
   {
    "duration": 3,
    "start_time": "2024-02-21T12:13:30.752Z"
   },
   {
    "duration": 17,
    "start_time": "2024-02-21T12:13:32.020Z"
   },
   {
    "duration": 92,
    "start_time": "2024-02-21T16:29:34.695Z"
   },
   {
    "duration": 10,
    "start_time": "2024-02-21T16:35:10.470Z"
   },
   {
    "duration": 68,
    "start_time": "2024-02-21T16:36:32.325Z"
   },
   {
    "duration": 93,
    "start_time": "2024-02-21T16:40:03.828Z"
   },
   {
    "duration": 196,
    "start_time": "2024-02-21T16:42:42.582Z"
   },
   {
    "duration": 1157,
    "start_time": "2024-02-21T16:46:33.828Z"
   },
   {
    "duration": 9,
    "start_time": "2024-02-21T16:47:03.265Z"
   },
   {
    "duration": 1168,
    "start_time": "2024-02-21T16:47:07.687Z"
   },
   {
    "duration": 85,
    "start_time": "2024-02-21T16:47:19.264Z"
   },
   {
    "duration": 1186,
    "start_time": "2024-02-21T16:47:26.176Z"
   },
   {
    "duration": 78,
    "start_time": "2024-02-21T16:48:12.248Z"
   },
   {
    "duration": 1238,
    "start_time": "2024-02-21T16:48:20.693Z"
   },
   {
    "duration": 19,
    "start_time": "2024-02-21T16:48:30.071Z"
   },
   {
    "duration": 11,
    "start_time": "2024-02-21T16:48:40.902Z"
   },
   {
    "duration": 9,
    "start_time": "2024-02-21T16:48:46.917Z"
   },
   {
    "duration": 69,
    "start_time": "2024-02-21T16:49:34.332Z"
   },
   {
    "duration": 8,
    "start_time": "2024-02-21T16:50:07.091Z"
   },
   {
    "duration": 8,
    "start_time": "2024-02-21T16:50:14.273Z"
   },
   {
    "duration": 8,
    "start_time": "2024-02-21T16:50:23.901Z"
   },
   {
    "duration": 8,
    "start_time": "2024-02-21T16:50:29.185Z"
   },
   {
    "duration": 8,
    "start_time": "2024-02-21T16:50:36.589Z"
   },
   {
    "duration": 7,
    "start_time": "2024-02-21T16:50:52.167Z"
   },
   {
    "duration": 8,
    "start_time": "2024-02-21T16:52:04.648Z"
   },
   {
    "duration": 7,
    "start_time": "2024-02-21T16:52:08.485Z"
   },
   {
    "duration": 10,
    "start_time": "2024-02-21T16:54:52.783Z"
   },
   {
    "duration": 74,
    "start_time": "2024-02-21T17:17:24.099Z"
   },
   {
    "duration": 78,
    "start_time": "2024-02-21T17:17:30.995Z"
   },
   {
    "duration": 15,
    "start_time": "2024-02-21T17:17:53.388Z"
   },
   {
    "duration": 10,
    "start_time": "2024-02-21T17:18:08.489Z"
   },
   {
    "duration": 1379,
    "start_time": "2024-02-22T11:39:01.875Z"
   },
   {
    "duration": 84,
    "start_time": "2024-02-22T11:39:03.256Z"
   },
   {
    "duration": 371,
    "start_time": "2024-02-22T11:39:03.341Z"
   },
   {
    "duration": 55,
    "start_time": "2024-02-22T11:39:03.714Z"
   },
   {
    "duration": 27,
    "start_time": "2024-02-22T11:39:03.771Z"
   },
   {
    "duration": 26,
    "start_time": "2024-02-22T11:39:03.800Z"
   },
   {
    "duration": 138,
    "start_time": "2024-02-22T11:39:03.827Z"
   },
   {
    "duration": 0,
    "start_time": "2024-02-22T11:39:03.969Z"
   },
   {
    "duration": 0,
    "start_time": "2024-02-22T11:39:03.970Z"
   },
   {
    "duration": 0,
    "start_time": "2024-02-22T11:39:03.972Z"
   },
   {
    "duration": 0,
    "start_time": "2024-02-22T11:39:03.980Z"
   },
   {
    "duration": 0,
    "start_time": "2024-02-22T11:39:03.981Z"
   },
   {
    "duration": 0,
    "start_time": "2024-02-22T11:39:03.983Z"
   },
   {
    "duration": 0,
    "start_time": "2024-02-22T11:39:03.984Z"
   },
   {
    "duration": 0,
    "start_time": "2024-02-22T11:39:03.986Z"
   },
   {
    "duration": 0,
    "start_time": "2024-02-22T11:39:03.987Z"
   },
   {
    "duration": 0,
    "start_time": "2024-02-22T11:39:03.989Z"
   },
   {
    "duration": 0,
    "start_time": "2024-02-22T11:39:03.990Z"
   },
   {
    "duration": 0,
    "start_time": "2024-02-22T11:39:03.992Z"
   },
   {
    "duration": 0,
    "start_time": "2024-02-22T11:39:03.993Z"
   },
   {
    "duration": 0,
    "start_time": "2024-02-22T11:39:03.995Z"
   },
   {
    "duration": 0,
    "start_time": "2024-02-22T11:39:03.996Z"
   },
   {
    "duration": 0,
    "start_time": "2024-02-22T11:39:03.998Z"
   },
   {
    "duration": 0,
    "start_time": "2024-02-22T11:39:03.999Z"
   },
   {
    "duration": 0,
    "start_time": "2024-02-22T11:39:04.001Z"
   },
   {
    "duration": 0,
    "start_time": "2024-02-22T11:39:04.003Z"
   },
   {
    "duration": 0,
    "start_time": "2024-02-22T11:39:04.004Z"
   },
   {
    "duration": 0,
    "start_time": "2024-02-22T11:39:04.006Z"
   },
   {
    "duration": 0,
    "start_time": "2024-02-22T11:39:04.007Z"
   },
   {
    "duration": 0,
    "start_time": "2024-02-22T11:39:04.008Z"
   },
   {
    "duration": 0,
    "start_time": "2024-02-22T11:39:04.010Z"
   },
   {
    "duration": 0,
    "start_time": "2024-02-22T11:39:04.011Z"
   },
   {
    "duration": 0,
    "start_time": "2024-02-22T11:39:04.013Z"
   },
   {
    "duration": 1,
    "start_time": "2024-02-22T11:39:04.014Z"
   },
   {
    "duration": 0,
    "start_time": "2024-02-22T11:39:04.016Z"
   },
   {
    "duration": 0,
    "start_time": "2024-02-22T11:39:04.017Z"
   },
   {
    "duration": 0,
    "start_time": "2024-02-22T11:39:04.019Z"
   },
   {
    "duration": 0,
    "start_time": "2024-02-22T11:39:04.020Z"
   },
   {
    "duration": 0,
    "start_time": "2024-02-22T11:39:04.080Z"
   },
   {
    "duration": 0,
    "start_time": "2024-02-22T11:39:04.082Z"
   },
   {
    "duration": 0,
    "start_time": "2024-02-22T11:39:04.084Z"
   },
   {
    "duration": 0,
    "start_time": "2024-02-22T11:39:04.085Z"
   },
   {
    "duration": 0,
    "start_time": "2024-02-22T11:39:04.087Z"
   },
   {
    "duration": 0,
    "start_time": "2024-02-22T11:39:04.088Z"
   },
   {
    "duration": 0,
    "start_time": "2024-02-22T11:39:04.089Z"
   },
   {
    "duration": 0,
    "start_time": "2024-02-22T11:39:04.091Z"
   },
   {
    "duration": 0,
    "start_time": "2024-02-22T11:39:04.091Z"
   },
   {
    "duration": 0,
    "start_time": "2024-02-22T11:39:04.092Z"
   },
   {
    "duration": 0,
    "start_time": "2024-02-22T11:39:04.093Z"
   },
   {
    "duration": 0,
    "start_time": "2024-02-22T11:39:04.095Z"
   },
   {
    "duration": 0,
    "start_time": "2024-02-22T11:39:04.096Z"
   },
   {
    "duration": 0,
    "start_time": "2024-02-22T11:39:04.097Z"
   },
   {
    "duration": 0,
    "start_time": "2024-02-22T11:39:04.098Z"
   },
   {
    "duration": 0,
    "start_time": "2024-02-22T11:39:04.099Z"
   },
   {
    "duration": 0,
    "start_time": "2024-02-22T11:39:04.100Z"
   },
   {
    "duration": 0,
    "start_time": "2024-02-22T11:39:04.101Z"
   },
   {
    "duration": 0,
    "start_time": "2024-02-22T11:39:04.102Z"
   },
   {
    "duration": 0,
    "start_time": "2024-02-22T11:39:04.103Z"
   },
   {
    "duration": 0,
    "start_time": "2024-02-22T11:39:04.104Z"
   },
   {
    "duration": 0,
    "start_time": "2024-02-22T11:39:04.105Z"
   },
   {
    "duration": 0,
    "start_time": "2024-02-22T11:39:04.107Z"
   },
   {
    "duration": 0,
    "start_time": "2024-02-22T11:39:04.108Z"
   },
   {
    "duration": 0,
    "start_time": "2024-02-22T11:39:04.109Z"
   },
   {
    "duration": 0,
    "start_time": "2024-02-22T11:39:04.110Z"
   },
   {
    "duration": 0,
    "start_time": "2024-02-22T11:39:04.111Z"
   },
   {
    "duration": 0,
    "start_time": "2024-02-22T11:39:04.112Z"
   },
   {
    "duration": 0,
    "start_time": "2024-02-22T11:39:04.113Z"
   },
   {
    "duration": 0,
    "start_time": "2024-02-22T11:39:04.114Z"
   },
   {
    "duration": 0,
    "start_time": "2024-02-22T11:39:04.115Z"
   },
   {
    "duration": 0,
    "start_time": "2024-02-22T11:39:04.116Z"
   },
   {
    "duration": 0,
    "start_time": "2024-02-22T11:39:04.180Z"
   },
   {
    "duration": 0,
    "start_time": "2024-02-22T11:39:04.182Z"
   },
   {
    "duration": 0,
    "start_time": "2024-02-22T11:39:04.183Z"
   },
   {
    "duration": 0,
    "start_time": "2024-02-22T11:39:04.184Z"
   },
   {
    "duration": 36,
    "start_time": "2024-02-22T11:39:32.697Z"
   },
   {
    "duration": 1172,
    "start_time": "2024-02-22T11:41:07.853Z"
   },
   {
    "duration": 28,
    "start_time": "2024-02-22T11:41:09.027Z"
   },
   {
    "duration": 42,
    "start_time": "2024-02-22T11:41:09.056Z"
   },
   {
    "duration": 14,
    "start_time": "2024-02-22T11:41:09.100Z"
   },
   {
    "duration": 28,
    "start_time": "2024-02-22T11:41:09.115Z"
   },
   {
    "duration": 44,
    "start_time": "2024-02-22T11:41:09.144Z"
   },
   {
    "duration": 20,
    "start_time": "2024-02-22T11:41:09.190Z"
   },
   {
    "duration": 8,
    "start_time": "2024-02-22T11:41:09.212Z"
   },
   {
    "duration": 14,
    "start_time": "2024-02-22T11:41:09.222Z"
   },
   {
    "duration": 20,
    "start_time": "2024-02-22T11:41:09.239Z"
   },
   {
    "duration": 15,
    "start_time": "2024-02-22T11:41:09.281Z"
   },
   {
    "duration": 8,
    "start_time": "2024-02-22T11:41:09.298Z"
   },
   {
    "duration": 10,
    "start_time": "2024-02-22T11:41:09.307Z"
   },
   {
    "duration": 14,
    "start_time": "2024-02-22T11:41:09.319Z"
   },
   {
    "duration": 23,
    "start_time": "2024-02-22T11:41:09.335Z"
   },
   {
    "duration": 7,
    "start_time": "2024-02-22T11:41:09.360Z"
   },
   {
    "duration": 10,
    "start_time": "2024-02-22T11:41:09.379Z"
   },
   {
    "duration": 11,
    "start_time": "2024-02-22T11:41:09.391Z"
   },
   {
    "duration": 11,
    "start_time": "2024-02-22T11:41:09.403Z"
   },
   {
    "duration": 12,
    "start_time": "2024-02-22T11:41:09.415Z"
   },
   {
    "duration": 17,
    "start_time": "2024-02-22T11:41:09.428Z"
   },
   {
    "duration": 12,
    "start_time": "2024-02-22T11:41:09.446Z"
   },
   {
    "duration": 28,
    "start_time": "2024-02-22T11:41:09.459Z"
   },
   {
    "duration": 5,
    "start_time": "2024-02-22T11:41:09.488Z"
   },
   {
    "duration": 12,
    "start_time": "2024-02-22T11:41:09.494Z"
   },
   {
    "duration": 4,
    "start_time": "2024-02-22T11:41:09.508Z"
   },
   {
    "duration": 7,
    "start_time": "2024-02-22T11:41:09.514Z"
   },
   {
    "duration": 4,
    "start_time": "2024-02-22T11:41:09.528Z"
   },
   {
    "duration": 12,
    "start_time": "2024-02-22T11:41:09.534Z"
   },
   {
    "duration": 242,
    "start_time": "2024-02-22T11:41:09.547Z"
   },
   {
    "duration": 6,
    "start_time": "2024-02-22T11:41:09.791Z"
   },
   {
    "duration": 116,
    "start_time": "2024-02-22T11:41:09.799Z"
   },
   {
    "duration": 9,
    "start_time": "2024-02-22T11:41:09.917Z"
   },
   {
    "duration": 8,
    "start_time": "2024-02-22T11:41:09.927Z"
   },
   {
    "duration": 212,
    "start_time": "2024-02-22T11:41:09.937Z"
   },
   {
    "duration": 9,
    "start_time": "2024-02-22T11:41:10.150Z"
   },
   {
    "duration": 213,
    "start_time": "2024-02-22T11:41:10.160Z"
   },
   {
    "duration": 17,
    "start_time": "2024-02-22T11:41:10.374Z"
   },
   {
    "duration": 139,
    "start_time": "2024-02-22T11:41:10.393Z"
   },
   {
    "duration": 205,
    "start_time": "2024-02-22T11:41:10.533Z"
   },
   {
    "duration": 134,
    "start_time": "2024-02-22T11:41:10.739Z"
   },
   {
    "duration": 11,
    "start_time": "2024-02-22T11:41:10.875Z"
   },
   {
    "duration": 213,
    "start_time": "2024-02-22T11:41:10.888Z"
   },
   {
    "duration": 203,
    "start_time": "2024-02-22T11:41:11.102Z"
   },
   {
    "duration": 16,
    "start_time": "2024-02-22T11:41:11.307Z"
   },
   {
    "duration": 35,
    "start_time": "2024-02-22T11:41:11.324Z"
   },
   {
    "duration": 4,
    "start_time": "2024-02-22T11:41:11.361Z"
   },
   {
    "duration": 198,
    "start_time": "2024-02-22T11:41:11.366Z"
   },
   {
    "duration": 19,
    "start_time": "2024-02-22T11:41:11.567Z"
   },
   {
    "duration": 30,
    "start_time": "2024-02-22T11:41:11.588Z"
   },
   {
    "duration": 19,
    "start_time": "2024-02-22T11:41:11.621Z"
   },
   {
    "duration": 45,
    "start_time": "2024-02-22T11:41:11.642Z"
   },
   {
    "duration": 6,
    "start_time": "2024-02-22T11:41:11.689Z"
   },
   {
    "duration": 14,
    "start_time": "2024-02-22T11:41:11.696Z"
   },
   {
    "duration": 27,
    "start_time": "2024-02-22T11:41:11.712Z"
   },
   {
    "duration": 54,
    "start_time": "2024-02-22T11:41:11.741Z"
   },
   {
    "duration": 11,
    "start_time": "2024-02-22T11:41:11.796Z"
   },
   {
    "duration": 858,
    "start_time": "2024-02-22T11:41:11.808Z"
   },
   {
    "duration": 57,
    "start_time": "2024-02-22T11:41:12.668Z"
   },
   {
    "duration": 37,
    "start_time": "2024-02-22T11:41:12.727Z"
   },
   {
    "duration": 6,
    "start_time": "2024-02-22T11:41:12.781Z"
   },
   {
    "duration": 20,
    "start_time": "2024-02-22T11:41:12.788Z"
   },
   {
    "duration": 22,
    "start_time": "2024-02-22T11:41:12.810Z"
   },
   {
    "duration": 19,
    "start_time": "2024-02-22T11:41:12.834Z"
   },
   {
    "duration": 26,
    "start_time": "2024-02-22T11:41:12.855Z"
   },
   {
    "duration": 9,
    "start_time": "2024-02-22T11:41:12.882Z"
   },
   {
    "duration": 15,
    "start_time": "2024-02-22T11:41:12.893Z"
   },
   {
    "duration": 31,
    "start_time": "2024-02-22T11:41:12.909Z"
   },
   {
    "duration": 9,
    "start_time": "2024-02-22T11:41:12.942Z"
   },
   {
    "duration": 4,
    "start_time": "2024-02-22T11:41:12.953Z"
   },
   {
    "duration": 25,
    "start_time": "2024-02-22T11:41:12.958Z"
   },
   {
    "duration": 13,
    "start_time": "2024-02-22T11:41:12.985Z"
   },
   {
    "duration": 25,
    "start_time": "2024-02-22T11:41:12.999Z"
   },
   {
    "duration": 7,
    "start_time": "2024-02-22T11:51:25.728Z"
   },
   {
    "duration": 5,
    "start_time": "2024-02-22T12:02:25.220Z"
   },
   {
    "duration": 3,
    "start_time": "2024-02-22T12:02:31.109Z"
   },
   {
    "duration": 3,
    "start_time": "2024-02-22T12:02:49.907Z"
   },
   {
    "duration": 9,
    "start_time": "2024-02-22T12:02:50.341Z"
   },
   {
    "duration": 880,
    "start_time": "2024-02-22T12:02:51.501Z"
   },
   {
    "duration": 3,
    "start_time": "2024-02-22T12:02:52.383Z"
   },
   {
    "duration": 1198,
    "start_time": "2024-02-22T12:02:56.874Z"
   },
   {
    "duration": 27,
    "start_time": "2024-02-22T12:02:58.074Z"
   },
   {
    "duration": 34,
    "start_time": "2024-02-22T12:02:58.103Z"
   },
   {
    "duration": 15,
    "start_time": "2024-02-22T12:02:58.139Z"
   },
   {
    "duration": 28,
    "start_time": "2024-02-22T12:02:58.156Z"
   },
   {
    "duration": 34,
    "start_time": "2024-02-22T12:02:58.185Z"
   },
   {
    "duration": 19,
    "start_time": "2024-02-22T12:02:58.221Z"
   },
   {
    "duration": 8,
    "start_time": "2024-02-22T12:02:58.242Z"
   },
   {
    "duration": 40,
    "start_time": "2024-02-22T12:02:58.252Z"
   },
   {
    "duration": 22,
    "start_time": "2024-02-22T12:02:58.294Z"
   },
   {
    "duration": 33,
    "start_time": "2024-02-22T12:02:58.318Z"
   },
   {
    "duration": 8,
    "start_time": "2024-02-22T12:02:58.353Z"
   },
   {
    "duration": 11,
    "start_time": "2024-02-22T12:02:58.362Z"
   },
   {
    "duration": 5,
    "start_time": "2024-02-22T12:02:58.380Z"
   },
   {
    "duration": 18,
    "start_time": "2024-02-22T12:02:58.386Z"
   },
   {
    "duration": 36,
    "start_time": "2024-02-22T12:02:58.405Z"
   },
   {
    "duration": 15,
    "start_time": "2024-02-22T12:02:58.442Z"
   },
   {
    "duration": 13,
    "start_time": "2024-02-22T12:02:58.459Z"
   },
   {
    "duration": 12,
    "start_time": "2024-02-22T12:02:58.474Z"
   },
   {
    "duration": 16,
    "start_time": "2024-02-22T12:02:58.488Z"
   },
   {
    "duration": 9,
    "start_time": "2024-02-22T12:02:58.505Z"
   },
   {
    "duration": 14,
    "start_time": "2024-02-22T12:02:58.516Z"
   },
   {
    "duration": 11,
    "start_time": "2024-02-22T12:02:58.532Z"
   },
   {
    "duration": 38,
    "start_time": "2024-02-22T12:02:58.544Z"
   },
   {
    "duration": 20,
    "start_time": "2024-02-22T12:02:58.585Z"
   },
   {
    "duration": 7,
    "start_time": "2024-02-22T12:02:58.607Z"
   },
   {
    "duration": 23,
    "start_time": "2024-02-22T12:02:58.615Z"
   },
   {
    "duration": 10,
    "start_time": "2024-02-22T12:02:58.640Z"
   },
   {
    "duration": 6,
    "start_time": "2024-02-22T12:02:58.653Z"
   },
   {
    "duration": 255,
    "start_time": "2024-02-22T12:02:58.662Z"
   },
   {
    "duration": 7,
    "start_time": "2024-02-22T12:02:58.918Z"
   },
   {
    "duration": 118,
    "start_time": "2024-02-22T12:02:58.926Z"
   },
   {
    "duration": 8,
    "start_time": "2024-02-22T12:02:59.046Z"
   },
   {
    "duration": 19,
    "start_time": "2024-02-22T12:02:59.055Z"
   },
   {
    "duration": 205,
    "start_time": "2024-02-22T12:02:59.075Z"
   },
   {
    "duration": 10,
    "start_time": "2024-02-22T12:02:59.281Z"
   },
   {
    "duration": 232,
    "start_time": "2024-02-22T12:02:59.293Z"
   },
   {
    "duration": 14,
    "start_time": "2024-02-22T12:02:59.527Z"
   },
   {
    "duration": 155,
    "start_time": "2024-02-22T12:02:59.543Z"
   },
   {
    "duration": 203,
    "start_time": "2024-02-22T12:02:59.699Z"
   },
   {
    "duration": 138,
    "start_time": "2024-02-22T12:02:59.907Z"
   },
   {
    "duration": 9,
    "start_time": "2024-02-22T12:03:00.047Z"
   },
   {
    "duration": 277,
    "start_time": "2024-02-22T12:03:00.057Z"
   },
   {
    "duration": 211,
    "start_time": "2024-02-22T12:03:00.336Z"
   },
   {
    "duration": 31,
    "start_time": "2024-02-22T12:03:00.549Z"
   },
   {
    "duration": 31,
    "start_time": "2024-02-22T12:03:00.582Z"
   },
   {
    "duration": 61,
    "start_time": "2024-02-22T12:03:00.614Z"
   },
   {
    "duration": 303,
    "start_time": "2024-02-22T12:03:00.677Z"
   },
   {
    "duration": 9,
    "start_time": "2024-02-22T12:03:00.981Z"
   },
   {
    "duration": 65,
    "start_time": "2024-02-22T12:03:00.992Z"
   },
   {
    "duration": 26,
    "start_time": "2024-02-22T12:03:01.059Z"
   },
   {
    "duration": 64,
    "start_time": "2024-02-22T12:03:01.087Z"
   },
   {
    "duration": 17,
    "start_time": "2024-02-22T12:03:01.153Z"
   },
   {
    "duration": 52,
    "start_time": "2024-02-22T12:03:01.172Z"
   },
   {
    "duration": 134,
    "start_time": "2024-02-22T12:03:01.226Z"
   },
   {
    "duration": 117,
    "start_time": "2024-02-22T12:03:01.362Z"
   },
   {
    "duration": 78,
    "start_time": "2024-02-22T12:03:01.480Z"
   },
   {
    "duration": 926,
    "start_time": "2024-02-22T12:03:01.559Z"
   },
   {
    "duration": 51,
    "start_time": "2024-02-22T12:03:02.487Z"
   },
   {
    "duration": 66,
    "start_time": "2024-02-22T12:03:02.539Z"
   },
   {
    "duration": 8,
    "start_time": "2024-02-22T12:03:02.607Z"
   },
   {
    "duration": 19,
    "start_time": "2024-02-22T12:03:02.617Z"
   },
   {
    "duration": 16,
    "start_time": "2024-02-22T12:03:02.638Z"
   },
   {
    "duration": 31,
    "start_time": "2024-02-22T12:03:02.656Z"
   },
   {
    "duration": 42,
    "start_time": "2024-02-22T12:03:02.688Z"
   },
   {
    "duration": 25,
    "start_time": "2024-02-22T12:03:02.732Z"
   },
   {
    "duration": 33,
    "start_time": "2024-02-22T12:03:02.759Z"
   },
   {
    "duration": 18,
    "start_time": "2024-02-22T12:03:02.794Z"
   },
   {
    "duration": 24,
    "start_time": "2024-02-22T12:03:02.813Z"
   },
   {
    "duration": 55,
    "start_time": "2024-02-22T12:03:02.839Z"
   },
   {
    "duration": 40,
    "start_time": "2024-02-22T12:03:02.896Z"
   },
   {
    "duration": 26,
    "start_time": "2024-02-22T12:03:02.937Z"
   },
   {
    "duration": 23,
    "start_time": "2024-02-22T12:03:02.965Z"
   },
   {
    "duration": 8,
    "start_time": "2024-02-22T12:03:02.990Z"
   },
   {
    "duration": 7,
    "start_time": "2024-02-22T12:03:03.000Z"
   },
   {
    "duration": 25,
    "start_time": "2024-02-22T12:03:03.009Z"
   },
   {
    "duration": 8,
    "start_time": "2024-02-22T12:03:03.036Z"
   },
   {
    "duration": 32,
    "start_time": "2024-02-22T12:03:03.045Z"
   },
   {
    "duration": 15,
    "start_time": "2024-02-22T12:03:03.079Z"
   },
   {
    "duration": 44,
    "start_time": "2024-02-22T12:03:03.096Z"
   },
   {
    "duration": 13,
    "start_time": "2024-02-22T12:03:03.142Z"
   },
   {
    "duration": 24,
    "start_time": "2024-02-22T12:03:03.157Z"
   },
   {
    "duration": 4,
    "start_time": "2024-02-22T12:03:03.183Z"
   },
   {
    "duration": 7,
    "start_time": "2024-02-22T12:03:03.189Z"
   },
   {
    "duration": 8,
    "start_time": "2024-02-22T12:03:03.197Z"
   },
   {
    "duration": 24,
    "start_time": "2024-02-22T12:03:03.206Z"
   },
   {
    "duration": 887,
    "start_time": "2024-02-22T12:03:03.232Z"
   },
   {
    "duration": 3,
    "start_time": "2024-02-22T12:03:04.121Z"
   },
   {
    "duration": 14,
    "start_time": "2024-02-22T12:03:04.125Z"
   },
   {
    "duration": 13,
    "start_time": "2024-02-22T12:03:04.141Z"
   },
   {
    "duration": 30,
    "start_time": "2024-02-22T12:03:04.155Z"
   },
   {
    "duration": 10,
    "start_time": "2024-02-22T12:03:04.187Z"
   },
   {
    "duration": 800,
    "start_time": "2024-02-22T12:03:04.198Z"
   }
  ],
  "kernelspec": {
   "display_name": "Python 3 (ipykernel)",
   "language": "python",
   "name": "python3"
  },
  "language_info": {
   "codemirror_mode": {
    "name": "ipython",
    "version": 3
   },
   "file_extension": ".py",
   "mimetype": "text/x-python",
   "name": "python",
   "nbconvert_exporter": "python",
   "pygments_lexer": "ipython3",
   "version": "3.11.4"
  },
  "toc": {
   "base_numbering": 1,
   "nav_menu": {
    "height": "130px",
    "width": "219px"
   },
   "number_sections": true,
   "sideBar": true,
   "skip_h1_title": true,
   "title_cell": "Table of Contents",
   "title_sidebar": "Contents",
   "toc_cell": false,
   "toc_position": {
    "height": "calc(100% - 180px)",
    "left": "10px",
    "top": "150px",
    "width": "263.727px"
   },
   "toc_section_display": true,
   "toc_window_display": true
  }
 },
 "nbformat": 4,
 "nbformat_minor": 5
}
